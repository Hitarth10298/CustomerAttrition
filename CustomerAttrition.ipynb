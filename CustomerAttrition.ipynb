{
 "cells": [
  {
   "cell_type": "code",
   "execution_count": 1,
   "metadata": {
    "ExecuteTime": {
     "end_time": "2020-10-30T18:44:02.744626Z",
     "start_time": "2020-10-30T18:43:06.463841Z"
    }
   },
   "outputs": [
    {
     "name": "stderr",
     "output_type": "stream",
     "text": [
      "C:\\Users\\HITARTH SHAH\\Anaconda3\\ANA_NAV\\lib\\site-packages\\statsmodels\\tools\\_testing.py:19: FutureWarning: pandas.util.testing is deprecated. Use the functions in the public API at pandas.testing instead.\n",
      "  import pandas.util.testing as tm\n"
     ]
    }
   ],
   "source": [
    "from pyforest import *\n",
    "import matplotlib.pyplot as plt\n",
    "%matplotlib inline\n",
    "import seaborn as sns\n",
    "import warnings\n",
    "warnings.filterwarnings('ignore')"
   ]
  },
  {
   "cell_type": "code",
   "execution_count": 2,
   "metadata": {
    "ExecuteTime": {
     "end_time": "2020-10-30T18:45:26.178446Z",
     "start_time": "2020-10-30T18:45:26.099727Z"
    }
   },
   "outputs": [
    {
     "data": {
      "application/javascript": [
       "\n",
       "        if (window._pyforest_update_imports_cell) { window._pyforest_update_imports_cell('import pandas as pd'); }\n",
       "    "
      ],
      "text/plain": [
       "<IPython.core.display.Javascript object>"
      ]
     },
     "metadata": {},
     "output_type": "display_data"
    },
    {
     "data": {
      "text/html": [
       "<div>\n",
       "<style scoped>\n",
       "    .dataframe tbody tr th:only-of-type {\n",
       "        vertical-align: middle;\n",
       "    }\n",
       "\n",
       "    .dataframe tbody tr th {\n",
       "        vertical-align: top;\n",
       "    }\n",
       "\n",
       "    .dataframe thead th {\n",
       "        text-align: right;\n",
       "    }\n",
       "</style>\n",
       "<table border=\"1\" class=\"dataframe\">\n",
       "  <thead>\n",
       "    <tr style=\"text-align: right;\">\n",
       "      <th></th>\n",
       "      <th>RowNumber</th>\n",
       "      <th>CustomerId</th>\n",
       "      <th>Surname</th>\n",
       "      <th>CreditScore</th>\n",
       "      <th>Geography</th>\n",
       "      <th>Gender</th>\n",
       "      <th>Age</th>\n",
       "      <th>Tenure</th>\n",
       "      <th>Balance</th>\n",
       "      <th>NumOfProducts</th>\n",
       "      <th>HasCrCard</th>\n",
       "      <th>IsActiveMember</th>\n",
       "      <th>EstimatedSalary</th>\n",
       "      <th>Exited</th>\n",
       "    </tr>\n",
       "  </thead>\n",
       "  <tbody>\n",
       "    <tr>\n",
       "      <th>0</th>\n",
       "      <td>1</td>\n",
       "      <td>15634602</td>\n",
       "      <td>Hargrave</td>\n",
       "      <td>619</td>\n",
       "      <td>France</td>\n",
       "      <td>Female</td>\n",
       "      <td>42</td>\n",
       "      <td>2</td>\n",
       "      <td>0.00</td>\n",
       "      <td>1</td>\n",
       "      <td>1</td>\n",
       "      <td>1</td>\n",
       "      <td>101348.88</td>\n",
       "      <td>1</td>\n",
       "    </tr>\n",
       "    <tr>\n",
       "      <th>1</th>\n",
       "      <td>2</td>\n",
       "      <td>15647311</td>\n",
       "      <td>Hill</td>\n",
       "      <td>608</td>\n",
       "      <td>Spain</td>\n",
       "      <td>Female</td>\n",
       "      <td>41</td>\n",
       "      <td>1</td>\n",
       "      <td>83807.86</td>\n",
       "      <td>1</td>\n",
       "      <td>0</td>\n",
       "      <td>1</td>\n",
       "      <td>112542.58</td>\n",
       "      <td>0</td>\n",
       "    </tr>\n",
       "    <tr>\n",
       "      <th>2</th>\n",
       "      <td>3</td>\n",
       "      <td>15619304</td>\n",
       "      <td>Onio</td>\n",
       "      <td>502</td>\n",
       "      <td>France</td>\n",
       "      <td>Female</td>\n",
       "      <td>42</td>\n",
       "      <td>8</td>\n",
       "      <td>159660.80</td>\n",
       "      <td>3</td>\n",
       "      <td>1</td>\n",
       "      <td>0</td>\n",
       "      <td>113931.57</td>\n",
       "      <td>1</td>\n",
       "    </tr>\n",
       "    <tr>\n",
       "      <th>3</th>\n",
       "      <td>4</td>\n",
       "      <td>15701354</td>\n",
       "      <td>Boni</td>\n",
       "      <td>699</td>\n",
       "      <td>France</td>\n",
       "      <td>Female</td>\n",
       "      <td>39</td>\n",
       "      <td>1</td>\n",
       "      <td>0.00</td>\n",
       "      <td>2</td>\n",
       "      <td>0</td>\n",
       "      <td>0</td>\n",
       "      <td>93826.63</td>\n",
       "      <td>0</td>\n",
       "    </tr>\n",
       "    <tr>\n",
       "      <th>4</th>\n",
       "      <td>5</td>\n",
       "      <td>15737888</td>\n",
       "      <td>Mitchell</td>\n",
       "      <td>850</td>\n",
       "      <td>Spain</td>\n",
       "      <td>Female</td>\n",
       "      <td>43</td>\n",
       "      <td>2</td>\n",
       "      <td>125510.82</td>\n",
       "      <td>1</td>\n",
       "      <td>1</td>\n",
       "      <td>1</td>\n",
       "      <td>79084.10</td>\n",
       "      <td>0</td>\n",
       "    </tr>\n",
       "  </tbody>\n",
       "</table>\n",
       "</div>"
      ],
      "text/plain": [
       "   RowNumber  CustomerId   Surname  CreditScore Geography  Gender  Age  \\\n",
       "0          1    15634602  Hargrave          619    France  Female   42   \n",
       "1          2    15647311      Hill          608     Spain  Female   41   \n",
       "2          3    15619304      Onio          502    France  Female   42   \n",
       "3          4    15701354      Boni          699    France  Female   39   \n",
       "4          5    15737888  Mitchell          850     Spain  Female   43   \n",
       "\n",
       "   Tenure    Balance  NumOfProducts  HasCrCard  IsActiveMember  \\\n",
       "0       2       0.00              1          1               1   \n",
       "1       1   83807.86              1          0               1   \n",
       "2       8  159660.80              3          1               0   \n",
       "3       1       0.00              2          0               0   \n",
       "4       2  125510.82              1          1               1   \n",
       "\n",
       "   EstimatedSalary  Exited  \n",
       "0        101348.88       1  \n",
       "1        112542.58       0  \n",
       "2        113931.57       1  \n",
       "3         93826.63       0  \n",
       "4         79084.10       0  "
      ]
     },
     "execution_count": 2,
     "metadata": {},
     "output_type": "execute_result"
    }
   ],
   "source": [
    "data = pd.read_csv('Churn_Modelling.csv')\n",
    "data.head()"
   ]
  },
  {
   "cell_type": "code",
   "execution_count": 3,
   "metadata": {
    "ExecuteTime": {
     "end_time": "2020-10-30T18:45:27.054701Z",
     "start_time": "2020-10-30T18:45:27.025683Z"
    }
   },
   "outputs": [
    {
     "name": "stdout",
     "output_type": "stream",
     "text": [
      "<class 'pandas.core.frame.DataFrame'>\n",
      "RangeIndex: 10000 entries, 0 to 9999\n",
      "Data columns (total 14 columns):\n",
      " #   Column           Non-Null Count  Dtype  \n",
      "---  ------           --------------  -----  \n",
      " 0   RowNumber        10000 non-null  int64  \n",
      " 1   CustomerId       10000 non-null  int64  \n",
      " 2   Surname          10000 non-null  object \n",
      " 3   CreditScore      10000 non-null  int64  \n",
      " 4   Geography        10000 non-null  object \n",
      " 5   Gender           10000 non-null  object \n",
      " 6   Age              10000 non-null  int64  \n",
      " 7   Tenure           10000 non-null  int64  \n",
      " 8   Balance          10000 non-null  float64\n",
      " 9   NumOfProducts    10000 non-null  int64  \n",
      " 10  HasCrCard        10000 non-null  int64  \n",
      " 11  IsActiveMember   10000 non-null  int64  \n",
      " 12  EstimatedSalary  10000 non-null  float64\n",
      " 13  Exited           10000 non-null  int64  \n",
      "dtypes: float64(2), int64(9), object(3)\n",
      "memory usage: 1.1+ MB\n"
     ]
    }
   ],
   "source": [
    "data.info()"
   ]
  },
  {
   "cell_type": "code",
   "execution_count": 4,
   "metadata": {
    "ExecuteTime": {
     "end_time": "2020-10-30T18:45:27.545578Z",
     "start_time": "2020-10-30T18:45:27.526346Z"
    }
   },
   "outputs": [
    {
     "data": {
      "text/plain": [
       "RowNumber          0\n",
       "CustomerId         0\n",
       "Surname            0\n",
       "CreditScore        0\n",
       "Geography          0\n",
       "Gender             0\n",
       "Age                0\n",
       "Tenure             0\n",
       "Balance            0\n",
       "NumOfProducts      0\n",
       "HasCrCard          0\n",
       "IsActiveMember     0\n",
       "EstimatedSalary    0\n",
       "Exited             0\n",
       "dtype: int64"
      ]
     },
     "execution_count": 4,
     "metadata": {},
     "output_type": "execute_result"
    }
   ],
   "source": [
    "data.isnull().sum()"
   ]
  },
  {
   "cell_type": "code",
   "execution_count": 5,
   "metadata": {
    "ExecuteTime": {
     "end_time": "2020-10-30T18:45:27.951102Z",
     "start_time": "2020-10-30T18:45:27.936861Z"
    }
   },
   "outputs": [
    {
     "data": {
      "text/plain": [
       "(10000, 14)"
      ]
     },
     "execution_count": 5,
     "metadata": {},
     "output_type": "execute_result"
    }
   ],
   "source": [
    "data.shape"
   ]
  },
  {
   "cell_type": "code",
   "execution_count": 6,
   "metadata": {
    "ExecuteTime": {
     "end_time": "2020-10-30T18:45:28.680699Z",
     "start_time": "2020-10-30T18:45:28.554211Z"
    }
   },
   "outputs": [
    {
     "data": {
      "text/html": [
       "<div>\n",
       "<style scoped>\n",
       "    .dataframe tbody tr th:only-of-type {\n",
       "        vertical-align: middle;\n",
       "    }\n",
       "\n",
       "    .dataframe tbody tr th {\n",
       "        vertical-align: top;\n",
       "    }\n",
       "\n",
       "    .dataframe thead th {\n",
       "        text-align: right;\n",
       "    }\n",
       "</style>\n",
       "<table border=\"1\" class=\"dataframe\">\n",
       "  <thead>\n",
       "    <tr style=\"text-align: right;\">\n",
       "      <th></th>\n",
       "      <th>RowNumber</th>\n",
       "      <th>CustomerId</th>\n",
       "      <th>CreditScore</th>\n",
       "      <th>Age</th>\n",
       "      <th>Tenure</th>\n",
       "      <th>Balance</th>\n",
       "      <th>NumOfProducts</th>\n",
       "      <th>HasCrCard</th>\n",
       "      <th>IsActiveMember</th>\n",
       "      <th>EstimatedSalary</th>\n",
       "      <th>Exited</th>\n",
       "    </tr>\n",
       "  </thead>\n",
       "  <tbody>\n",
       "    <tr>\n",
       "      <th>count</th>\n",
       "      <td>10000.00000</td>\n",
       "      <td>1.000000e+04</td>\n",
       "      <td>10000.000000</td>\n",
       "      <td>10000.000000</td>\n",
       "      <td>10000.000000</td>\n",
       "      <td>10000.000000</td>\n",
       "      <td>10000.000000</td>\n",
       "      <td>10000.00000</td>\n",
       "      <td>10000.000000</td>\n",
       "      <td>10000.000000</td>\n",
       "      <td>10000.000000</td>\n",
       "    </tr>\n",
       "    <tr>\n",
       "      <th>mean</th>\n",
       "      <td>5000.50000</td>\n",
       "      <td>1.569094e+07</td>\n",
       "      <td>650.528800</td>\n",
       "      <td>38.921800</td>\n",
       "      <td>5.012800</td>\n",
       "      <td>76485.889288</td>\n",
       "      <td>1.530200</td>\n",
       "      <td>0.70550</td>\n",
       "      <td>0.515100</td>\n",
       "      <td>100090.239881</td>\n",
       "      <td>0.203700</td>\n",
       "    </tr>\n",
       "    <tr>\n",
       "      <th>std</th>\n",
       "      <td>2886.89568</td>\n",
       "      <td>7.193619e+04</td>\n",
       "      <td>96.653299</td>\n",
       "      <td>10.487806</td>\n",
       "      <td>2.892174</td>\n",
       "      <td>62397.405202</td>\n",
       "      <td>0.581654</td>\n",
       "      <td>0.45584</td>\n",
       "      <td>0.499797</td>\n",
       "      <td>57510.492818</td>\n",
       "      <td>0.402769</td>\n",
       "    </tr>\n",
       "    <tr>\n",
       "      <th>min</th>\n",
       "      <td>1.00000</td>\n",
       "      <td>1.556570e+07</td>\n",
       "      <td>350.000000</td>\n",
       "      <td>18.000000</td>\n",
       "      <td>0.000000</td>\n",
       "      <td>0.000000</td>\n",
       "      <td>1.000000</td>\n",
       "      <td>0.00000</td>\n",
       "      <td>0.000000</td>\n",
       "      <td>11.580000</td>\n",
       "      <td>0.000000</td>\n",
       "    </tr>\n",
       "    <tr>\n",
       "      <th>25%</th>\n",
       "      <td>2500.75000</td>\n",
       "      <td>1.562853e+07</td>\n",
       "      <td>584.000000</td>\n",
       "      <td>32.000000</td>\n",
       "      <td>3.000000</td>\n",
       "      <td>0.000000</td>\n",
       "      <td>1.000000</td>\n",
       "      <td>0.00000</td>\n",
       "      <td>0.000000</td>\n",
       "      <td>51002.110000</td>\n",
       "      <td>0.000000</td>\n",
       "    </tr>\n",
       "    <tr>\n",
       "      <th>50%</th>\n",
       "      <td>5000.50000</td>\n",
       "      <td>1.569074e+07</td>\n",
       "      <td>652.000000</td>\n",
       "      <td>37.000000</td>\n",
       "      <td>5.000000</td>\n",
       "      <td>97198.540000</td>\n",
       "      <td>1.000000</td>\n",
       "      <td>1.00000</td>\n",
       "      <td>1.000000</td>\n",
       "      <td>100193.915000</td>\n",
       "      <td>0.000000</td>\n",
       "    </tr>\n",
       "    <tr>\n",
       "      <th>75%</th>\n",
       "      <td>7500.25000</td>\n",
       "      <td>1.575323e+07</td>\n",
       "      <td>718.000000</td>\n",
       "      <td>44.000000</td>\n",
       "      <td>7.000000</td>\n",
       "      <td>127644.240000</td>\n",
       "      <td>2.000000</td>\n",
       "      <td>1.00000</td>\n",
       "      <td>1.000000</td>\n",
       "      <td>149388.247500</td>\n",
       "      <td>0.000000</td>\n",
       "    </tr>\n",
       "    <tr>\n",
       "      <th>max</th>\n",
       "      <td>10000.00000</td>\n",
       "      <td>1.581569e+07</td>\n",
       "      <td>850.000000</td>\n",
       "      <td>92.000000</td>\n",
       "      <td>10.000000</td>\n",
       "      <td>250898.090000</td>\n",
       "      <td>4.000000</td>\n",
       "      <td>1.00000</td>\n",
       "      <td>1.000000</td>\n",
       "      <td>199992.480000</td>\n",
       "      <td>1.000000</td>\n",
       "    </tr>\n",
       "  </tbody>\n",
       "</table>\n",
       "</div>"
      ],
      "text/plain": [
       "         RowNumber    CustomerId   CreditScore           Age        Tenure  \\\n",
       "count  10000.00000  1.000000e+04  10000.000000  10000.000000  10000.000000   \n",
       "mean    5000.50000  1.569094e+07    650.528800     38.921800      5.012800   \n",
       "std     2886.89568  7.193619e+04     96.653299     10.487806      2.892174   \n",
       "min        1.00000  1.556570e+07    350.000000     18.000000      0.000000   \n",
       "25%     2500.75000  1.562853e+07    584.000000     32.000000      3.000000   \n",
       "50%     5000.50000  1.569074e+07    652.000000     37.000000      5.000000   \n",
       "75%     7500.25000  1.575323e+07    718.000000     44.000000      7.000000   \n",
       "max    10000.00000  1.581569e+07    850.000000     92.000000     10.000000   \n",
       "\n",
       "             Balance  NumOfProducts    HasCrCard  IsActiveMember  \\\n",
       "count   10000.000000   10000.000000  10000.00000    10000.000000   \n",
       "mean    76485.889288       1.530200      0.70550        0.515100   \n",
       "std     62397.405202       0.581654      0.45584        0.499797   \n",
       "min         0.000000       1.000000      0.00000        0.000000   \n",
       "25%         0.000000       1.000000      0.00000        0.000000   \n",
       "50%     97198.540000       1.000000      1.00000        1.000000   \n",
       "75%    127644.240000       2.000000      1.00000        1.000000   \n",
       "max    250898.090000       4.000000      1.00000        1.000000   \n",
       "\n",
       "       EstimatedSalary        Exited  \n",
       "count     10000.000000  10000.000000  \n",
       "mean     100090.239881      0.203700  \n",
       "std       57510.492818      0.402769  \n",
       "min          11.580000      0.000000  \n",
       "25%       51002.110000      0.000000  \n",
       "50%      100193.915000      0.000000  \n",
       "75%      149388.247500      0.000000  \n",
       "max      199992.480000      1.000000  "
      ]
     },
     "execution_count": 6,
     "metadata": {},
     "output_type": "execute_result"
    }
   ],
   "source": [
    "data.describe()"
   ]
  },
  {
   "cell_type": "code",
   "execution_count": 7,
   "metadata": {
    "ExecuteTime": {
     "end_time": "2020-10-30T18:45:29.939871Z",
     "start_time": "2020-10-30T18:45:29.633814Z"
    }
   },
   "outputs": [
    {
     "data": {
      "text/plain": [
       "<matplotlib.axes._subplots.AxesSubplot at 0x290857f8a48>"
      ]
     },
     "execution_count": 7,
     "metadata": {},
     "output_type": "execute_result"
    },
    {
     "data": {
      "image/png": "[encoded data removed]",
      "text/plain": [
       "<Figure size 432x288 with 1 Axes>"
      ]
     },
     "metadata": {
      "needs_background": "light"
     },
     "output_type": "display_data"
    }
   ],
   "source": [
    "sns.boxplot(data['CreditScore'], data=data)"
   ]
  },
  {
   "cell_type": "code",
   "execution_count": 8,
   "metadata": {
    "ExecuteTime": {
     "end_time": "2020-10-30T18:45:32.571878Z",
     "start_time": "2020-10-30T18:45:32.510592Z"
    },
    "scrolled": true
   },
   "outputs": [
    {
     "data": {
      "text/html": [
       "<div>\n",
       "<style scoped>\n",
       "    .dataframe tbody tr th:only-of-type {\n",
       "        vertical-align: middle;\n",
       "    }\n",
       "\n",
       "    .dataframe tbody tr th {\n",
       "        vertical-align: top;\n",
       "    }\n",
       "\n",
       "    .dataframe thead th {\n",
       "        text-align: right;\n",
       "    }\n",
       "</style>\n",
       "<table border=\"1\" class=\"dataframe\">\n",
       "  <thead>\n",
       "    <tr style=\"text-align: right;\">\n",
       "      <th></th>\n",
       "      <th>RowNumber</th>\n",
       "      <th>CustomerId</th>\n",
       "      <th>CreditScore</th>\n",
       "      <th>Age</th>\n",
       "      <th>Tenure</th>\n",
       "      <th>Balance</th>\n",
       "      <th>NumOfProducts</th>\n",
       "      <th>HasCrCard</th>\n",
       "      <th>IsActiveMember</th>\n",
       "      <th>EstimatedSalary</th>\n",
       "      <th>Exited</th>\n",
       "    </tr>\n",
       "  </thead>\n",
       "  <tbody>\n",
       "    <tr>\n",
       "      <th>RowNumber</th>\n",
       "      <td>1.000000</td>\n",
       "      <td>0.004202</td>\n",
       "      <td>0.005840</td>\n",
       "      <td>0.000783</td>\n",
       "      <td>-0.006495</td>\n",
       "      <td>-0.009067</td>\n",
       "      <td>0.007246</td>\n",
       "      <td>0.000599</td>\n",
       "      <td>0.012044</td>\n",
       "      <td>-0.005988</td>\n",
       "      <td>-0.016571</td>\n",
       "    </tr>\n",
       "    <tr>\n",
       "      <th>CustomerId</th>\n",
       "      <td>0.004202</td>\n",
       "      <td>1.000000</td>\n",
       "      <td>0.005308</td>\n",
       "      <td>0.009497</td>\n",
       "      <td>-0.014883</td>\n",
       "      <td>-0.012419</td>\n",
       "      <td>0.016972</td>\n",
       "      <td>-0.014025</td>\n",
       "      <td>0.001665</td>\n",
       "      <td>0.015271</td>\n",
       "      <td>-0.006248</td>\n",
       "    </tr>\n",
       "    <tr>\n",
       "      <th>CreditScore</th>\n",
       "      <td>0.005840</td>\n",
       "      <td>0.005308</td>\n",
       "      <td>1.000000</td>\n",
       "      <td>-0.003965</td>\n",
       "      <td>0.000842</td>\n",
       "      <td>0.006268</td>\n",
       "      <td>0.012238</td>\n",
       "      <td>-0.005458</td>\n",
       "      <td>0.025651</td>\n",
       "      <td>-0.001384</td>\n",
       "      <td>-0.027094</td>\n",
       "    </tr>\n",
       "    <tr>\n",
       "      <th>Age</th>\n",
       "      <td>0.000783</td>\n",
       "      <td>0.009497</td>\n",
       "      <td>-0.003965</td>\n",
       "      <td>1.000000</td>\n",
       "      <td>-0.009997</td>\n",
       "      <td>0.028308</td>\n",
       "      <td>-0.030680</td>\n",
       "      <td>-0.011721</td>\n",
       "      <td>0.085472</td>\n",
       "      <td>-0.007201</td>\n",
       "      <td>0.285323</td>\n",
       "    </tr>\n",
       "    <tr>\n",
       "      <th>Tenure</th>\n",
       "      <td>-0.006495</td>\n",
       "      <td>-0.014883</td>\n",
       "      <td>0.000842</td>\n",
       "      <td>-0.009997</td>\n",
       "      <td>1.000000</td>\n",
       "      <td>-0.012254</td>\n",
       "      <td>0.013444</td>\n",
       "      <td>0.022583</td>\n",
       "      <td>-0.028362</td>\n",
       "      <td>0.007784</td>\n",
       "      <td>-0.014001</td>\n",
       "    </tr>\n",
       "    <tr>\n",
       "      <th>Balance</th>\n",
       "      <td>-0.009067</td>\n",
       "      <td>-0.012419</td>\n",
       "      <td>0.006268</td>\n",
       "      <td>0.028308</td>\n",
       "      <td>-0.012254</td>\n",
       "      <td>1.000000</td>\n",
       "      <td>-0.304180</td>\n",
       "      <td>-0.014858</td>\n",
       "      <td>-0.010084</td>\n",
       "      <td>0.012797</td>\n",
       "      <td>0.118533</td>\n",
       "    </tr>\n",
       "    <tr>\n",
       "      <th>NumOfProducts</th>\n",
       "      <td>0.007246</td>\n",
       "      <td>0.016972</td>\n",
       "      <td>0.012238</td>\n",
       "      <td>-0.030680</td>\n",
       "      <td>0.013444</td>\n",
       "      <td>-0.304180</td>\n",
       "      <td>1.000000</td>\n",
       "      <td>0.003183</td>\n",
       "      <td>0.009612</td>\n",
       "      <td>0.014204</td>\n",
       "      <td>-0.047820</td>\n",
       "    </tr>\n",
       "    <tr>\n",
       "      <th>HasCrCard</th>\n",
       "      <td>0.000599</td>\n",
       "      <td>-0.014025</td>\n",
       "      <td>-0.005458</td>\n",
       "      <td>-0.011721</td>\n",
       "      <td>0.022583</td>\n",
       "      <td>-0.014858</td>\n",
       "      <td>0.003183</td>\n",
       "      <td>1.000000</td>\n",
       "      <td>-0.011866</td>\n",
       "      <td>-0.009933</td>\n",
       "      <td>-0.007138</td>\n",
       "    </tr>\n",
       "    <tr>\n",
       "      <th>IsActiveMember</th>\n",
       "      <td>0.012044</td>\n",
       "      <td>0.001665</td>\n",
       "      <td>0.025651</td>\n",
       "      <td>0.085472</td>\n",
       "      <td>-0.028362</td>\n",
       "      <td>-0.010084</td>\n",
       "      <td>0.009612</td>\n",
       "      <td>-0.011866</td>\n",
       "      <td>1.000000</td>\n",
       "      <td>-0.011421</td>\n",
       "      <td>-0.156128</td>\n",
       "    </tr>\n",
       "    <tr>\n",
       "      <th>EstimatedSalary</th>\n",
       "      <td>-0.005988</td>\n",
       "      <td>0.015271</td>\n",
       "      <td>-0.001384</td>\n",
       "      <td>-0.007201</td>\n",
       "      <td>0.007784</td>\n",
       "      <td>0.012797</td>\n",
       "      <td>0.014204</td>\n",
       "      <td>-0.009933</td>\n",
       "      <td>-0.011421</td>\n",
       "      <td>1.000000</td>\n",
       "      <td>0.012097</td>\n",
       "    </tr>\n",
       "    <tr>\n",
       "      <th>Exited</th>\n",
       "      <td>-0.016571</td>\n",
       "      <td>-0.006248</td>\n",
       "      <td>-0.027094</td>\n",
       "      <td>0.285323</td>\n",
       "      <td>-0.014001</td>\n",
       "      <td>0.118533</td>\n",
       "      <td>-0.047820</td>\n",
       "      <td>-0.007138</td>\n",
       "      <td>-0.156128</td>\n",
       "      <td>0.012097</td>\n",
       "      <td>1.000000</td>\n",
       "    </tr>\n",
       "  </tbody>\n",
       "</table>\n",
       "</div>"
      ],
      "text/plain": [
       "                 RowNumber  CustomerId  CreditScore       Age    Tenure  \\\n",
       "RowNumber         1.000000    0.004202     0.005840  0.000783 -0.006495   \n",
       "CustomerId        0.004202    1.000000     0.005308  0.009497 -0.014883   \n",
       "CreditScore       0.005840    0.005308     1.000000 -0.003965  0.000842   \n",
       "Age               0.000783    0.009497    -0.003965  1.000000 -0.009997   \n",
       "Tenure           -0.006495   -0.014883     0.000842 -0.009997  1.000000   \n",
       "Balance          -0.009067   -0.012419     0.006268  0.028308 -0.012254   \n",
       "NumOfProducts     0.007246    0.016972     0.012238 -0.030680  0.013444   \n",
       "HasCrCard         0.000599   -0.014025    -0.005458 -0.011721  0.022583   \n",
       "IsActiveMember    0.012044    0.001665     0.025651  0.085472 -0.028362   \n",
       "EstimatedSalary  -0.005988    0.015271    -0.001384 -0.007201  0.007784   \n",
       "Exited           -0.016571   -0.006248    -0.027094  0.285323 -0.014001   \n",
       "\n",
       "                  Balance  NumOfProducts  HasCrCard  IsActiveMember  \\\n",
       "RowNumber       -0.009067       0.007246   0.000599        0.012044   \n",
       "CustomerId      -0.012419       0.016972  -0.014025        0.001665   \n",
       "CreditScore      0.006268       0.012238  -0.005458        0.025651   \n",
       "Age              0.028308      -0.030680  -0.011721        0.085472   \n",
       "Tenure          -0.012254       0.013444   0.022583       -0.028362   \n",
       "Balance          1.000000      -0.304180  -0.014858       -0.010084   \n",
       "NumOfProducts   -0.304180       1.000000   0.003183        0.009612   \n",
       "HasCrCard       -0.014858       0.003183   1.000000       -0.011866   \n",
       "IsActiveMember  -0.010084       0.009612  -0.011866        1.000000   \n",
       "EstimatedSalary  0.012797       0.014204  -0.009933       -0.011421   \n",
       "Exited           0.118533      -0.047820  -0.007138       -0.156128   \n",
       "\n",
       "                 EstimatedSalary    Exited  \n",
       "RowNumber              -0.005988 -0.016571  \n",
       "CustomerId              0.015271 -0.006248  \n",
       "CreditScore            -0.001384 -0.027094  \n",
       "Age                    -0.007201  0.285323  \n",
       "Tenure                  0.007784 -0.014001  \n",
       "Balance                 0.012797  0.118533  \n",
       "NumOfProducts           0.014204 -0.047820  \n",
       "HasCrCard              -0.009933 -0.007138  \n",
       "IsActiveMember         -0.011421 -0.156128  \n",
       "EstimatedSalary         1.000000  0.012097  \n",
       "Exited                  0.012097  1.000000  "
      ]
     },
     "execution_count": 8,
     "metadata": {},
     "output_type": "execute_result"
    }
   ],
   "source": [
    "data.corr()"
   ]
  },
  {
   "cell_type": "code",
   "execution_count": 9,
   "metadata": {
    "ExecuteTime": {
     "end_time": "2020-10-30T18:45:34.165961Z",
     "start_time": "2020-10-30T18:45:33.936511Z"
    }
   },
   "outputs": [
    {
     "data": {
      "text/html": [
       "<div>\n",
       "<style scoped>\n",
       "    .dataframe tbody tr th:only-of-type {\n",
       "        vertical-align: middle;\n",
       "    }\n",
       "\n",
       "    .dataframe tbody tr th {\n",
       "        vertical-align: top;\n",
       "    }\n",
       "\n",
       "    .dataframe thead th {\n",
       "        text-align: right;\n",
       "    }\n",
       "</style>\n",
       "<table border=\"1\" class=\"dataframe\">\n",
       "  <thead>\n",
       "    <tr style=\"text-align: right;\">\n",
       "      <th></th>\n",
       "      <th>RowNumber</th>\n",
       "      <th>CustomerId</th>\n",
       "      <th>Surname</th>\n",
       "      <th>CreditScore</th>\n",
       "      <th>Geography</th>\n",
       "      <th>Gender</th>\n",
       "      <th>Age</th>\n",
       "      <th>Tenure</th>\n",
       "      <th>Balance</th>\n",
       "      <th>NumOfProducts</th>\n",
       "      <th>HasCrCard</th>\n",
       "      <th>IsActiveMember</th>\n",
       "      <th>EstimatedSalary</th>\n",
       "      <th>Exited</th>\n",
       "    </tr>\n",
       "  </thead>\n",
       "  <tbody>\n",
       "    <tr>\n",
       "      <th>7</th>\n",
       "      <td>8</td>\n",
       "      <td>15656148</td>\n",
       "      <td>Obinna</td>\n",
       "      <td>376</td>\n",
       "      <td>Germany</td>\n",
       "      <td>Female</td>\n",
       "      <td>29</td>\n",
       "      <td>4</td>\n",
       "      <td>115046.74</td>\n",
       "      <td>4</td>\n",
       "      <td>1</td>\n",
       "      <td>0</td>\n",
       "      <td>119346.88</td>\n",
       "      <td>1</td>\n",
       "    </tr>\n",
       "    <tr>\n",
       "      <th>942</th>\n",
       "      <td>943</td>\n",
       "      <td>15804586</td>\n",
       "      <td>Lin</td>\n",
       "      <td>376</td>\n",
       "      <td>France</td>\n",
       "      <td>Female</td>\n",
       "      <td>46</td>\n",
       "      <td>6</td>\n",
       "      <td>0.00</td>\n",
       "      <td>1</td>\n",
       "      <td>1</td>\n",
       "      <td>0</td>\n",
       "      <td>157333.69</td>\n",
       "      <td>1</td>\n",
       "    </tr>\n",
       "    <tr>\n",
       "      <th>1193</th>\n",
       "      <td>1194</td>\n",
       "      <td>15779947</td>\n",
       "      <td>Thomas</td>\n",
       "      <td>363</td>\n",
       "      <td>Spain</td>\n",
       "      <td>Female</td>\n",
       "      <td>28</td>\n",
       "      <td>6</td>\n",
       "      <td>146098.43</td>\n",
       "      <td>3</td>\n",
       "      <td>1</td>\n",
       "      <td>0</td>\n",
       "      <td>100615.14</td>\n",
       "      <td>1</td>\n",
       "    </tr>\n",
       "    <tr>\n",
       "      <th>1201</th>\n",
       "      <td>1202</td>\n",
       "      <td>15651052</td>\n",
       "      <td>McMasters</td>\n",
       "      <td>399</td>\n",
       "      <td>Germany</td>\n",
       "      <td>Male</td>\n",
       "      <td>46</td>\n",
       "      <td>2</td>\n",
       "      <td>127655.22</td>\n",
       "      <td>1</td>\n",
       "      <td>1</td>\n",
       "      <td>0</td>\n",
       "      <td>139994.68</td>\n",
       "      <td>1</td>\n",
       "    </tr>\n",
       "    <tr>\n",
       "      <th>1405</th>\n",
       "      <td>1406</td>\n",
       "      <td>15612494</td>\n",
       "      <td>Panicucci</td>\n",
       "      <td>359</td>\n",
       "      <td>France</td>\n",
       "      <td>Female</td>\n",
       "      <td>44</td>\n",
       "      <td>6</td>\n",
       "      <td>128747.69</td>\n",
       "      <td>1</td>\n",
       "      <td>1</td>\n",
       "      <td>0</td>\n",
       "      <td>146955.71</td>\n",
       "      <td>1</td>\n",
       "    </tr>\n",
       "    <tr>\n",
       "      <th>1631</th>\n",
       "      <td>1632</td>\n",
       "      <td>15685372</td>\n",
       "      <td>Azubuike</td>\n",
       "      <td>350</td>\n",
       "      <td>Spain</td>\n",
       "      <td>Male</td>\n",
       "      <td>54</td>\n",
       "      <td>1</td>\n",
       "      <td>152677.48</td>\n",
       "      <td>1</td>\n",
       "      <td>1</td>\n",
       "      <td>1</td>\n",
       "      <td>191973.49</td>\n",
       "      <td>1</td>\n",
       "    </tr>\n",
       "    <tr>\n",
       "      <th>1838</th>\n",
       "      <td>1839</td>\n",
       "      <td>15758813</td>\n",
       "      <td>Campbell</td>\n",
       "      <td>350</td>\n",
       "      <td>Germany</td>\n",
       "      <td>Male</td>\n",
       "      <td>39</td>\n",
       "      <td>0</td>\n",
       "      <td>109733.20</td>\n",
       "      <td>2</td>\n",
       "      <td>0</td>\n",
       "      <td>0</td>\n",
       "      <td>123602.11</td>\n",
       "      <td>1</td>\n",
       "    </tr>\n",
       "    <tr>\n",
       "      <th>1962</th>\n",
       "      <td>1963</td>\n",
       "      <td>15692416</td>\n",
       "      <td>Aikenhead</td>\n",
       "      <td>358</td>\n",
       "      <td>Spain</td>\n",
       "      <td>Female</td>\n",
       "      <td>52</td>\n",
       "      <td>8</td>\n",
       "      <td>143542.36</td>\n",
       "      <td>3</td>\n",
       "      <td>1</td>\n",
       "      <td>0</td>\n",
       "      <td>141959.11</td>\n",
       "      <td>1</td>\n",
       "    </tr>\n",
       "    <tr>\n",
       "      <th>2473</th>\n",
       "      <td>2474</td>\n",
       "      <td>15679249</td>\n",
       "      <td>Chou</td>\n",
       "      <td>351</td>\n",
       "      <td>Germany</td>\n",
       "      <td>Female</td>\n",
       "      <td>57</td>\n",
       "      <td>4</td>\n",
       "      <td>163146.46</td>\n",
       "      <td>1</td>\n",
       "      <td>1</td>\n",
       "      <td>0</td>\n",
       "      <td>169621.69</td>\n",
       "      <td>1</td>\n",
       "    </tr>\n",
       "    <tr>\n",
       "      <th>2579</th>\n",
       "      <td>2580</td>\n",
       "      <td>15597896</td>\n",
       "      <td>Ozoemena</td>\n",
       "      <td>365</td>\n",
       "      <td>Germany</td>\n",
       "      <td>Male</td>\n",
       "      <td>30</td>\n",
       "      <td>0</td>\n",
       "      <td>127760.07</td>\n",
       "      <td>1</td>\n",
       "      <td>1</td>\n",
       "      <td>0</td>\n",
       "      <td>81537.85</td>\n",
       "      <td>1</td>\n",
       "    </tr>\n",
       "    <tr>\n",
       "      <th>5285</th>\n",
       "      <td>5286</td>\n",
       "      <td>15732643</td>\n",
       "      <td>Pike</td>\n",
       "      <td>386</td>\n",
       "      <td>Spain</td>\n",
       "      <td>Female</td>\n",
       "      <td>53</td>\n",
       "      <td>1</td>\n",
       "      <td>131955.07</td>\n",
       "      <td>1</td>\n",
       "      <td>1</td>\n",
       "      <td>1</td>\n",
       "      <td>62514.65</td>\n",
       "      <td>1</td>\n",
       "    </tr>\n",
       "    <tr>\n",
       "      <th>5494</th>\n",
       "      <td>5495</td>\n",
       "      <td>15642821</td>\n",
       "      <td>Ijendu</td>\n",
       "      <td>383</td>\n",
       "      <td>Spain</td>\n",
       "      <td>Female</td>\n",
       "      <td>48</td>\n",
       "      <td>8</td>\n",
       "      <td>95808.19</td>\n",
       "      <td>1</td>\n",
       "      <td>0</td>\n",
       "      <td>0</td>\n",
       "      <td>137702.01</td>\n",
       "      <td>1</td>\n",
       "    </tr>\n",
       "    <tr>\n",
       "      <th>6253</th>\n",
       "      <td>6254</td>\n",
       "      <td>15675337</td>\n",
       "      <td>Forbes</td>\n",
       "      <td>395</td>\n",
       "      <td>Germany</td>\n",
       "      <td>Female</td>\n",
       "      <td>34</td>\n",
       "      <td>5</td>\n",
       "      <td>106011.59</td>\n",
       "      <td>1</td>\n",
       "      <td>1</td>\n",
       "      <td>1</td>\n",
       "      <td>17376.57</td>\n",
       "      <td>1</td>\n",
       "    </tr>\n",
       "    <tr>\n",
       "      <th>8154</th>\n",
       "      <td>8155</td>\n",
       "      <td>15791533</td>\n",
       "      <td>Ch'ien</td>\n",
       "      <td>367</td>\n",
       "      <td>Spain</td>\n",
       "      <td>Male</td>\n",
       "      <td>42</td>\n",
       "      <td>6</td>\n",
       "      <td>93608.28</td>\n",
       "      <td>1</td>\n",
       "      <td>1</td>\n",
       "      <td>0</td>\n",
       "      <td>168816.73</td>\n",
       "      <td>1</td>\n",
       "    </tr>\n",
       "    <tr>\n",
       "      <th>8723</th>\n",
       "      <td>8724</td>\n",
       "      <td>15803202</td>\n",
       "      <td>Onyekachi</td>\n",
       "      <td>350</td>\n",
       "      <td>France</td>\n",
       "      <td>Male</td>\n",
       "      <td>51</td>\n",
       "      <td>10</td>\n",
       "      <td>0.00</td>\n",
       "      <td>1</td>\n",
       "      <td>1</td>\n",
       "      <td>1</td>\n",
       "      <td>125823.79</td>\n",
       "      <td>1</td>\n",
       "    </tr>\n",
       "    <tr>\n",
       "      <th>8762</th>\n",
       "      <td>8763</td>\n",
       "      <td>15765173</td>\n",
       "      <td>Lin</td>\n",
       "      <td>350</td>\n",
       "      <td>France</td>\n",
       "      <td>Female</td>\n",
       "      <td>60</td>\n",
       "      <td>3</td>\n",
       "      <td>0.00</td>\n",
       "      <td>1</td>\n",
       "      <td>0</td>\n",
       "      <td>0</td>\n",
       "      <td>113796.15</td>\n",
       "      <td>1</td>\n",
       "    </tr>\n",
       "    <tr>\n",
       "      <th>9210</th>\n",
       "      <td>9211</td>\n",
       "      <td>15792650</td>\n",
       "      <td>Watts</td>\n",
       "      <td>382</td>\n",
       "      <td>Spain</td>\n",
       "      <td>Male</td>\n",
       "      <td>36</td>\n",
       "      <td>0</td>\n",
       "      <td>0.00</td>\n",
       "      <td>1</td>\n",
       "      <td>1</td>\n",
       "      <td>1</td>\n",
       "      <td>179540.73</td>\n",
       "      <td>1</td>\n",
       "    </tr>\n",
       "    <tr>\n",
       "      <th>9356</th>\n",
       "      <td>9357</td>\n",
       "      <td>15734711</td>\n",
       "      <td>Loggia</td>\n",
       "      <td>373</td>\n",
       "      <td>France</td>\n",
       "      <td>Male</td>\n",
       "      <td>42</td>\n",
       "      <td>7</td>\n",
       "      <td>0.00</td>\n",
       "      <td>1</td>\n",
       "      <td>1</td>\n",
       "      <td>0</td>\n",
       "      <td>77786.37</td>\n",
       "      <td>1</td>\n",
       "    </tr>\n",
       "    <tr>\n",
       "      <th>9624</th>\n",
       "      <td>9625</td>\n",
       "      <td>15668309</td>\n",
       "      <td>Maslow</td>\n",
       "      <td>350</td>\n",
       "      <td>France</td>\n",
       "      <td>Female</td>\n",
       "      <td>40</td>\n",
       "      <td>0</td>\n",
       "      <td>111098.85</td>\n",
       "      <td>1</td>\n",
       "      <td>1</td>\n",
       "      <td>1</td>\n",
       "      <td>172321.21</td>\n",
       "      <td>1</td>\n",
       "    </tr>\n",
       "  </tbody>\n",
       "</table>\n",
       "</div>"
      ],
      "text/plain": [
       "      RowNumber  CustomerId    Surname  CreditScore Geography  Gender  Age  \\\n",
       "7             8    15656148     Obinna          376   Germany  Female   29   \n",
       "942         943    15804586        Lin          376    France  Female   46   \n",
       "1193       1194    15779947     Thomas          363     Spain  Female   28   \n",
       "1201       1202    15651052  McMasters          399   Germany    Male   46   \n",
       "1405       1406    15612494  Panicucci          359    France  Female   44   \n",
       "1631       1632    15685372   Azubuike          350     Spain    Male   54   \n",
       "1838       1839    15758813   Campbell          350   Germany    Male   39   \n",
       "1962       1963    15692416  Aikenhead          358     Spain  Female   52   \n",
       "2473       2474    15679249       Chou          351   Germany  Female   57   \n",
       "2579       2580    15597896   Ozoemena          365   Germany    Male   30   \n",
       "5285       5286    15732643       Pike          386     Spain  Female   53   \n",
       "5494       5495    15642821     Ijendu          383     Spain  Female   48   \n",
       "6253       6254    15675337     Forbes          395   Germany  Female   34   \n",
       "8154       8155    15791533     Ch'ien          367     Spain    Male   42   \n",
       "8723       8724    15803202  Onyekachi          350    France    Male   51   \n",
       "8762       8763    15765173        Lin          350    France  Female   60   \n",
       "9210       9211    15792650      Watts          382     Spain    Male   36   \n",
       "9356       9357    15734711     Loggia          373    France    Male   42   \n",
       "9624       9625    15668309     Maslow          350    France  Female   40   \n",
       "\n",
       "      Tenure    Balance  NumOfProducts  HasCrCard  IsActiveMember  \\\n",
       "7          4  115046.74              4          1               0   \n",
       "942        6       0.00              1          1               0   \n",
       "1193       6  146098.43              3          1               0   \n",
       "1201       2  127655.22              1          1               0   \n",
       "1405       6  128747.69              1          1               0   \n",
       "1631       1  152677.48              1          1               1   \n",
       "1838       0  109733.20              2          0               0   \n",
       "1962       8  143542.36              3          1               0   \n",
       "2473       4  163146.46              1          1               0   \n",
       "2579       0  127760.07              1          1               0   \n",
       "5285       1  131955.07              1          1               1   \n",
       "5494       8   95808.19              1          0               0   \n",
       "6253       5  106011.59              1          1               1   \n",
       "8154       6   93608.28              1          1               0   \n",
       "8723      10       0.00              1          1               1   \n",
       "8762       3       0.00              1          0               0   \n",
       "9210       0       0.00              1          1               1   \n",
       "9356       7       0.00              1          1               0   \n",
       "9624       0  111098.85              1          1               1   \n",
       "\n",
       "      EstimatedSalary  Exited  \n",
       "7           119346.88       1  \n",
       "942         157333.69       1  \n",
       "1193        100615.14       1  \n",
       "1201        139994.68       1  \n",
       "1405        146955.71       1  \n",
       "1631        191973.49       1  \n",
       "1838        123602.11       1  \n",
       "1962        141959.11       1  \n",
       "2473        169621.69       1  \n",
       "2579         81537.85       1  \n",
       "5285         62514.65       1  \n",
       "5494        137702.01       1  \n",
       "6253         17376.57       1  \n",
       "8154        168816.73       1  \n",
       "8723        125823.79       1  \n",
       "8762        113796.15       1  \n",
       "9210        179540.73       1  \n",
       "9356         77786.37       1  \n",
       "9624        172321.21       1  "
      ]
     },
     "execution_count": 9,
     "metadata": {},
     "output_type": "execute_result"
    }
   ],
   "source": [
    "data.loc[data.CreditScore <= 400]"
   ]
  },
  {
   "cell_type": "code",
   "execution_count": 10,
   "metadata": {
    "ExecuteTime": {
     "end_time": "2020-10-30T18:45:35.074769Z",
     "start_time": "2020-10-30T18:45:35.058870Z"
    }
   },
   "outputs": [],
   "source": [
    "data1 = data.loc[data['CreditScore'] >= 400]"
   ]
  },
  {
   "cell_type": "code",
   "execution_count": 11,
   "metadata": {
    "ExecuteTime": {
     "end_time": "2020-10-30T18:45:36.603318Z",
     "start_time": "2020-10-30T18:45:36.575167Z"
    }
   },
   "outputs": [
    {
     "data": {
      "text/html": [
       "<div>\n",
       "<style scoped>\n",
       "    .dataframe tbody tr th:only-of-type {\n",
       "        vertical-align: middle;\n",
       "    }\n",
       "\n",
       "    .dataframe tbody tr th {\n",
       "        vertical-align: top;\n",
       "    }\n",
       "\n",
       "    .dataframe thead th {\n",
       "        text-align: right;\n",
       "    }\n",
       "</style>\n",
       "<table border=\"1\" class=\"dataframe\">\n",
       "  <thead>\n",
       "    <tr style=\"text-align: right;\">\n",
       "      <th></th>\n",
       "      <th>RowNumber</th>\n",
       "      <th>CustomerId</th>\n",
       "      <th>Surname</th>\n",
       "      <th>CreditScore</th>\n",
       "      <th>Geography</th>\n",
       "      <th>Gender</th>\n",
       "      <th>Age</th>\n",
       "      <th>Tenure</th>\n",
       "      <th>Balance</th>\n",
       "      <th>NumOfProducts</th>\n",
       "      <th>HasCrCard</th>\n",
       "      <th>IsActiveMember</th>\n",
       "      <th>EstimatedSalary</th>\n",
       "      <th>Exited</th>\n",
       "    </tr>\n",
       "  </thead>\n",
       "  <tbody>\n",
       "    <tr>\n",
       "      <th>0</th>\n",
       "      <td>1</td>\n",
       "      <td>15634602</td>\n",
       "      <td>Hargrave</td>\n",
       "      <td>619</td>\n",
       "      <td>France</td>\n",
       "      <td>Female</td>\n",
       "      <td>42</td>\n",
       "      <td>2</td>\n",
       "      <td>0.00</td>\n",
       "      <td>1</td>\n",
       "      <td>1</td>\n",
       "      <td>1</td>\n",
       "      <td>101348.88</td>\n",
       "      <td>1</td>\n",
       "    </tr>\n",
       "    <tr>\n",
       "      <th>1</th>\n",
       "      <td>2</td>\n",
       "      <td>15647311</td>\n",
       "      <td>Hill</td>\n",
       "      <td>608</td>\n",
       "      <td>Spain</td>\n",
       "      <td>Female</td>\n",
       "      <td>41</td>\n",
       "      <td>1</td>\n",
       "      <td>83807.86</td>\n",
       "      <td>1</td>\n",
       "      <td>0</td>\n",
       "      <td>1</td>\n",
       "      <td>112542.58</td>\n",
       "      <td>0</td>\n",
       "    </tr>\n",
       "    <tr>\n",
       "      <th>2</th>\n",
       "      <td>3</td>\n",
       "      <td>15619304</td>\n",
       "      <td>Onio</td>\n",
       "      <td>502</td>\n",
       "      <td>France</td>\n",
       "      <td>Female</td>\n",
       "      <td>42</td>\n",
       "      <td>8</td>\n",
       "      <td>159660.80</td>\n",
       "      <td>3</td>\n",
       "      <td>1</td>\n",
       "      <td>0</td>\n",
       "      <td>113931.57</td>\n",
       "      <td>1</td>\n",
       "    </tr>\n",
       "    <tr>\n",
       "      <th>3</th>\n",
       "      <td>4</td>\n",
       "      <td>15701354</td>\n",
       "      <td>Boni</td>\n",
       "      <td>699</td>\n",
       "      <td>France</td>\n",
       "      <td>Female</td>\n",
       "      <td>39</td>\n",
       "      <td>1</td>\n",
       "      <td>0.00</td>\n",
       "      <td>2</td>\n",
       "      <td>0</td>\n",
       "      <td>0</td>\n",
       "      <td>93826.63</td>\n",
       "      <td>0</td>\n",
       "    </tr>\n",
       "    <tr>\n",
       "      <th>4</th>\n",
       "      <td>5</td>\n",
       "      <td>15737888</td>\n",
       "      <td>Mitchell</td>\n",
       "      <td>850</td>\n",
       "      <td>Spain</td>\n",
       "      <td>Female</td>\n",
       "      <td>43</td>\n",
       "      <td>2</td>\n",
       "      <td>125510.82</td>\n",
       "      <td>1</td>\n",
       "      <td>1</td>\n",
       "      <td>1</td>\n",
       "      <td>79084.10</td>\n",
       "      <td>0</td>\n",
       "    </tr>\n",
       "  </tbody>\n",
       "</table>\n",
       "</div>"
      ],
      "text/plain": [
       "   RowNumber  CustomerId   Surname  CreditScore Geography  Gender  Age  \\\n",
       "0          1    15634602  Hargrave          619    France  Female   42   \n",
       "1          2    15647311      Hill          608     Spain  Female   41   \n",
       "2          3    15619304      Onio          502    France  Female   42   \n",
       "3          4    15701354      Boni          699    France  Female   39   \n",
       "4          5    15737888  Mitchell          850     Spain  Female   43   \n",
       "\n",
       "   Tenure    Balance  NumOfProducts  HasCrCard  IsActiveMember  \\\n",
       "0       2       0.00              1          1               1   \n",
       "1       1   83807.86              1          0               1   \n",
       "2       8  159660.80              3          1               0   \n",
       "3       1       0.00              2          0               0   \n",
       "4       2  125510.82              1          1               1   \n",
       "\n",
       "   EstimatedSalary  Exited  \n",
       "0        101348.88       1  \n",
       "1        112542.58       0  \n",
       "2        113931.57       1  \n",
       "3         93826.63       0  \n",
       "4         79084.10       0  "
      ]
     },
     "execution_count": 11,
     "metadata": {},
     "output_type": "execute_result"
    }
   ],
   "source": [
    "data1.head()"
   ]
  },
  {
   "cell_type": "code",
   "execution_count": 12,
   "metadata": {
    "ExecuteTime": {
     "end_time": "2020-10-30T18:45:37.757461Z",
     "start_time": "2020-10-30T18:45:37.746442Z"
    }
   },
   "outputs": [
    {
     "data": {
      "text/plain": [
       "(9981, 14)"
      ]
     },
     "execution_count": 12,
     "metadata": {},
     "output_type": "execute_result"
    }
   ],
   "source": [
    "data1.shape"
   ]
  },
  {
   "cell_type": "code",
   "execution_count": 13,
   "metadata": {
    "ExecuteTime": {
     "end_time": "2020-10-30T18:45:38.602891Z",
     "start_time": "2020-10-30T18:45:38.291716Z"
    }
   },
   "outputs": [
    {
     "data": {
      "text/plain": [
       "<matplotlib.axes._subplots.AxesSubplot at 0x29087818d08>"
      ]
     },
     "execution_count": 13,
     "metadata": {},
     "output_type": "execute_result"
    },
    {
     "data": {
      "image/png": "[encoded data removed]",
      "text/plain": [
       "<Figure size 432x288 with 1 Axes>"
      ]
     },
     "metadata": {
      "needs_background": "light"
     },
     "output_type": "display_data"
    }
   ],
   "source": [
    "sns.boxplot(data1['CreditScore'], data=data1)"
   ]
  },
  {
   "cell_type": "code",
   "execution_count": 14,
   "metadata": {
    "ExecuteTime": {
     "end_time": "2020-10-30T18:45:42.081884Z",
     "start_time": "2020-10-30T18:45:42.058285Z"
    }
   },
   "outputs": [],
   "source": [
    "data1.drop(columns=['RowNumber', 'Surname'], inplace=True)"
   ]
  },
  {
   "cell_type": "code",
   "execution_count": 15,
   "metadata": {
    "ExecuteTime": {
     "end_time": "2020-10-30T18:45:42.769896Z",
     "start_time": "2020-10-30T18:45:42.761837Z"
    }
   },
   "outputs": [
    {
     "data": {
      "text/plain": [
       "(9981, 12)"
      ]
     },
     "execution_count": 15,
     "metadata": {},
     "output_type": "execute_result"
    }
   ],
   "source": [
    "data1.shape"
   ]
  },
  {
   "cell_type": "code",
   "execution_count": 16,
   "metadata": {
    "ExecuteTime": {
     "end_time": "2020-10-30T18:45:44.695106Z",
     "start_time": "2020-10-30T18:45:44.627033Z"
    }
   },
   "outputs": [
    {
     "data": {
      "application/javascript": [
       "\n",
       "        if (window._pyforest_update_imports_cell) { window._pyforest_update_imports_cell('import pandas as pd\\nimport numpy as np'); }\n",
       "    "
      ],
      "text/plain": [
       "<IPython.core.display.Javascript object>"
      ]
     },
     "metadata": {},
     "output_type": "display_data"
    },
    {
     "data": {
      "application/javascript": [
       "\n",
       "        if (window._pyforest_update_imports_cell) { window._pyforest_update_imports_cell('import pandas as pd\\nimport numpy as np'); }\n",
       "    "
      ],
      "text/plain": [
       "<IPython.core.display.Javascript object>"
      ]
     },
     "metadata": {},
     "output_type": "display_data"
    },
    {
     "data": {
      "application/javascript": [
       "\n",
       "        if (window._pyforest_update_imports_cell) { window._pyforest_update_imports_cell('import pandas as pd\\nimport numpy as np'); }\n",
       "    "
      ],
      "text/plain": [
       "<IPython.core.display.Javascript object>"
      ]
     },
     "metadata": {},
     "output_type": "display_data"
    },
    {
     "data": {
      "application/javascript": [
       "\n",
       "        if (window._pyforest_update_imports_cell) { window._pyforest_update_imports_cell('import pandas as pd\\nimport numpy as np'); }\n",
       "    "
      ],
      "text/plain": [
       "<IPython.core.display.Javascript object>"
      ]
     },
     "metadata": {},
     "output_type": "display_data"
    },
    {
     "data": {
      "application/javascript": [
       "\n",
       "        if (window._pyforest_update_imports_cell) { window._pyforest_update_imports_cell('import pandas as pd\\nimport numpy as np'); }\n",
       "    "
      ],
      "text/plain": [
       "<IPython.core.display.Javascript object>"
      ]
     },
     "metadata": {},
     "output_type": "display_data"
    },
    {
     "data": {
      "application/javascript": [
       "\n",
       "        if (window._pyforest_update_imports_cell) { window._pyforest_update_imports_cell('import pandas as pd\\nimport numpy as np'); }\n",
       "    "
      ],
      "text/plain": [
       "<IPython.core.display.Javascript object>"
      ]
     },
     "metadata": {},
     "output_type": "display_data"
    },
    {
     "data": {
      "application/javascript": [
       "\n",
       "        if (window._pyforest_update_imports_cell) { window._pyforest_update_imports_cell('import pandas as pd\\nimport numpy as np'); }\n",
       "    "
      ],
      "text/plain": [
       "<IPython.core.display.Javascript object>"
      ]
     },
     "metadata": {},
     "output_type": "display_data"
    },
    {
     "data": {
      "application/javascript": [
       "\n",
       "        if (window._pyforest_update_imports_cell) { window._pyforest_update_imports_cell('import pandas as pd\\nimport numpy as np'); }\n",
       "    "
      ],
      "text/plain": [
       "<IPython.core.display.Javascript object>"
      ]
     },
     "metadata": {},
     "output_type": "display_data"
    },
    {
     "data": {
      "application/javascript": [
       "\n",
       "        if (window._pyforest_update_imports_cell) { window._pyforest_update_imports_cell('import pandas as pd\\nimport numpy as np'); }\n",
       "    "
      ],
      "text/plain": [
       "<IPython.core.display.Javascript object>"
      ]
     },
     "metadata": {},
     "output_type": "display_data"
    }
   ],
   "source": [
    "for each in [\"CreditScore\", \"Balance\", \"EstimatedSalary\"]:\n",
    "    data1[each] = (data1[each] - np.min(data1[each])) / (np.max(data1[each])-np.min(data1[each]))"
   ]
  },
  {
   "cell_type": "code",
   "execution_count": 17,
   "metadata": {
    "ExecuteTime": {
     "end_time": "2020-10-30T18:45:45.902862Z",
     "start_time": "2020-10-30T18:45:45.886163Z"
    }
   },
   "outputs": [],
   "source": [
    "for each in [\"Geography\",\"Gender\"]:\n",
    "    data1[each] = data1[each].astype(\"category\")"
   ]
  },
  {
   "cell_type": "code",
   "execution_count": 18,
   "metadata": {
    "ExecuteTime": {
     "end_time": "2020-10-30T18:45:49.894508Z",
     "start_time": "2020-10-30T18:45:49.868525Z"
    }
   },
   "outputs": [
    {
     "data": {
      "application/javascript": [
       "\n",
       "        if (window._pyforest_update_imports_cell) { window._pyforest_update_imports_cell('import pandas as pd\\nimport numpy as np'); }\n",
       "    "
      ],
      "text/plain": [
       "<IPython.core.display.Javascript object>"
      ]
     },
     "metadata": {},
     "output_type": "display_data"
    }
   ],
   "source": [
    "data1 = pd.get_dummies(data1, columns = [\"Geography\",\"Gender\"])"
   ]
  },
  {
   "cell_type": "code",
   "execution_count": 19,
   "metadata": {
    "ExecuteTime": {
     "end_time": "2020-10-30T18:45:50.455232Z",
     "start_time": "2020-10-30T18:45:50.417678Z"
    }
   },
   "outputs": [
    {
     "data": {
      "text/html": [
       "<div>\n",
       "<style scoped>\n",
       "    .dataframe tbody tr th:only-of-type {\n",
       "        vertical-align: middle;\n",
       "    }\n",
       "\n",
       "    .dataframe tbody tr th {\n",
       "        vertical-align: top;\n",
       "    }\n",
       "\n",
       "    .dataframe thead th {\n",
       "        text-align: right;\n",
       "    }\n",
       "</style>\n",
       "<table border=\"1\" class=\"dataframe\">\n",
       "  <thead>\n",
       "    <tr style=\"text-align: right;\">\n",
       "      <th></th>\n",
       "      <th>CustomerId</th>\n",
       "      <th>CreditScore</th>\n",
       "      <th>Age</th>\n",
       "      <th>Tenure</th>\n",
       "      <th>Balance</th>\n",
       "      <th>NumOfProducts</th>\n",
       "      <th>HasCrCard</th>\n",
       "      <th>IsActiveMember</th>\n",
       "      <th>EstimatedSalary</th>\n",
       "      <th>Exited</th>\n",
       "      <th>Geography_France</th>\n",
       "      <th>Geography_Germany</th>\n",
       "      <th>Geography_Spain</th>\n",
       "      <th>Gender_Female</th>\n",
       "      <th>Gender_Male</th>\n",
       "    </tr>\n",
       "  </thead>\n",
       "  <tbody>\n",
       "    <tr>\n",
       "      <th>0</th>\n",
       "      <td>15634602</td>\n",
       "      <td>0.485523</td>\n",
       "      <td>42</td>\n",
       "      <td>2</td>\n",
       "      <td>0.000000</td>\n",
       "      <td>1</td>\n",
       "      <td>1</td>\n",
       "      <td>1</td>\n",
       "      <td>0.506735</td>\n",
       "      <td>1</td>\n",
       "      <td>1</td>\n",
       "      <td>0</td>\n",
       "      <td>0</td>\n",
       "      <td>1</td>\n",
       "      <td>0</td>\n",
       "    </tr>\n",
       "    <tr>\n",
       "      <th>1</th>\n",
       "      <td>15647311</td>\n",
       "      <td>0.461024</td>\n",
       "      <td>41</td>\n",
       "      <td>1</td>\n",
       "      <td>0.334031</td>\n",
       "      <td>1</td>\n",
       "      <td>0</td>\n",
       "      <td>1</td>\n",
       "      <td>0.562709</td>\n",
       "      <td>0</td>\n",
       "      <td>0</td>\n",
       "      <td>0</td>\n",
       "      <td>1</td>\n",
       "      <td>1</td>\n",
       "      <td>0</td>\n",
       "    </tr>\n",
       "    <tr>\n",
       "      <th>2</th>\n",
       "      <td>15619304</td>\n",
       "      <td>0.224944</td>\n",
       "      <td>42</td>\n",
       "      <td>8</td>\n",
       "      <td>0.636357</td>\n",
       "      <td>3</td>\n",
       "      <td>1</td>\n",
       "      <td>0</td>\n",
       "      <td>0.569654</td>\n",
       "      <td>1</td>\n",
       "      <td>1</td>\n",
       "      <td>0</td>\n",
       "      <td>0</td>\n",
       "      <td>1</td>\n",
       "      <td>0</td>\n",
       "    </tr>\n",
       "    <tr>\n",
       "      <th>3</th>\n",
       "      <td>15701354</td>\n",
       "      <td>0.663697</td>\n",
       "      <td>39</td>\n",
       "      <td>1</td>\n",
       "      <td>0.000000</td>\n",
       "      <td>2</td>\n",
       "      <td>0</td>\n",
       "      <td>0</td>\n",
       "      <td>0.469120</td>\n",
       "      <td>0</td>\n",
       "      <td>1</td>\n",
       "      <td>0</td>\n",
       "      <td>0</td>\n",
       "      <td>1</td>\n",
       "      <td>0</td>\n",
       "    </tr>\n",
       "    <tr>\n",
       "      <th>4</th>\n",
       "      <td>15737888</td>\n",
       "      <td>1.000000</td>\n",
       "      <td>43</td>\n",
       "      <td>2</td>\n",
       "      <td>0.500246</td>\n",
       "      <td>1</td>\n",
       "      <td>1</td>\n",
       "      <td>1</td>\n",
       "      <td>0.395400</td>\n",
       "      <td>0</td>\n",
       "      <td>0</td>\n",
       "      <td>0</td>\n",
       "      <td>1</td>\n",
       "      <td>1</td>\n",
       "      <td>0</td>\n",
       "    </tr>\n",
       "  </tbody>\n",
       "</table>\n",
       "</div>"
      ],
      "text/plain": [
       "   CustomerId  CreditScore  Age  Tenure   Balance  NumOfProducts  HasCrCard  \\\n",
       "0    15634602     0.485523   42       2  0.000000              1          1   \n",
       "1    15647311     0.461024   41       1  0.334031              1          0   \n",
       "2    15619304     0.224944   42       8  0.636357              3          1   \n",
       "3    15701354     0.663697   39       1  0.000000              2          0   \n",
       "4    15737888     1.000000   43       2  0.500246              1          1   \n",
       "\n",
       "   IsActiveMember  EstimatedSalary  Exited  Geography_France  \\\n",
       "0               1         0.506735       1                 1   \n",
       "1               1         0.562709       0                 0   \n",
       "2               0         0.569654       1                 1   \n",
       "3               0         0.469120       0                 1   \n",
       "4               1         0.395400       0                 0   \n",
       "\n",
       "   Geography_Germany  Geography_Spain  Gender_Female  Gender_Male  \n",
       "0                  0                0              1            0  \n",
       "1                  0                1              1            0  \n",
       "2                  0                0              1            0  \n",
       "3                  0                0              1            0  \n",
       "4                  0                1              1            0  "
      ]
     },
     "execution_count": 19,
     "metadata": {},
     "output_type": "execute_result"
    }
   ],
   "source": [
    "data1.head()"
   ]
  },
  {
   "cell_type": "code",
   "execution_count": 20,
   "metadata": {
    "ExecuteTime": {
     "end_time": "2020-10-30T18:45:55.495877Z",
     "start_time": "2020-10-30T18:45:51.323912Z"
    }
   },
   "outputs": [],
   "source": [
    "from sklearn.model_selection import train_test_split"
   ]
  },
  {
   "cell_type": "code",
   "execution_count": 21,
   "metadata": {
    "ExecuteTime": {
     "end_time": "2020-10-30T18:45:58.555004Z",
     "start_time": "2020-10-30T18:45:58.528173Z"
    }
   },
   "outputs": [],
   "source": [
    "X = data1.drop(columns = ['Exited'], axis=1)\n",
    "y = data1['Exited']\n",
    "\n",
    "#X_train, X_val, y_train, y_val = train_test_split(X, y, test_size=0.3, random_state=0, shuffle=False)\n",
    "X_train, X_test, y_train, y_test = train_test_split(X, y, test_size=0.2, random_state=42, shuffle=False)"
   ]
  },
  {
   "cell_type": "code",
   "execution_count": 22,
   "metadata": {
    "ExecuteTime": {
     "end_time": "2020-10-30T18:46:00.910687Z",
     "start_time": "2020-10-30T18:46:00.886678Z"
    }
   },
   "outputs": [
    {
     "name": "stdout",
     "output_type": "stream",
     "text": [
      "7984\n",
      "1997\n",
      "7984\n",
      "1997\n"
     ]
    }
   ],
   "source": [
    "print(len(X_train))\n",
    "print(len(X_test))\n",
    "print(len(y_train))\n",
    "print(len(y_test))"
   ]
  },
  {
   "cell_type": "code",
   "execution_count": 23,
   "metadata": {
    "ExecuteTime": {
     "end_time": "2020-10-30T18:46:02.323248Z",
     "start_time": "2020-10-30T18:46:02.294121Z"
    }
   },
   "outputs": [
    {
     "data": {
      "application/javascript": [
       "\n",
       "        if (window._pyforest_update_imports_cell) { window._pyforest_update_imports_cell('import pandas as pd\\nimport numpy as np'); }\n",
       "    "
      ],
      "text/plain": [
       "<IPython.core.display.Javascript object>"
      ]
     },
     "metadata": {},
     "output_type": "display_data"
    },
    {
     "name": "stdout",
     "output_type": "stream",
     "text": [
      "(7984, 14)\n"
     ]
    },
    {
     "data": {
      "application/javascript": [
       "\n",
       "        if (window._pyforest_update_imports_cell) { window._pyforest_update_imports_cell('import pandas as pd\\nimport numpy as np'); }\n",
       "    "
      ],
      "text/plain": [
       "<IPython.core.display.Javascript object>"
      ]
     },
     "metadata": {},
     "output_type": "display_data"
    },
    {
     "name": "stdout",
     "output_type": "stream",
     "text": [
      "(7984,)\n"
     ]
    }
   ],
   "source": [
    "print(np.shape(X_train))\n",
    "print(np.shape(y_train))"
   ]
  },
  {
   "cell_type": "code",
   "execution_count": 24,
   "metadata": {
    "ExecuteTime": {
     "end_time": "2020-10-30T18:46:07.227260Z",
     "start_time": "2020-10-30T18:46:07.190122Z"
    }
   },
   "outputs": [
    {
     "data": {
      "application/javascript": [
       "\n",
       "        if (window._pyforest_update_imports_cell) { window._pyforest_update_imports_cell('import pandas as pd\\nimport numpy as np'); }\n",
       "    "
      ],
      "text/plain": [
       "<IPython.core.display.Javascript object>"
      ]
     },
     "metadata": {},
     "output_type": "display_data"
    },
    {
     "data": {
      "application/javascript": [
       "\n",
       "        if (window._pyforest_update_imports_cell) { window._pyforest_update_imports_cell('import pandas as pd\\nimport numpy as np'); }\n",
       "    "
      ],
      "text/plain": [
       "<IPython.core.display.Javascript object>"
      ]
     },
     "metadata": {},
     "output_type": "display_data"
    }
   ],
   "source": [
    "from sklearn.preprocessing import StandardScaler\n",
    "scaler = StandardScaler()\n",
    "X_train = pd.DataFrame(scaler.fit_transform(X_train), columns=X_train.columns.values)\n",
    "X_test = pd.DataFrame(scaler.transform(X_test), columns=X_test.columns.values)"
   ]
  },
  {
   "cell_type": "code",
   "execution_count": 25,
   "metadata": {
    "ExecuteTime": {
     "end_time": "2020-10-30T18:47:34.048345Z",
     "start_time": "2020-10-30T18:47:34.035024Z"
    }
   },
   "outputs": [
    {
     "data": {
      "text/plain": [
       "(9981, 15)"
      ]
     },
     "execution_count": 25,
     "metadata": {},
     "output_type": "execute_result"
    }
   ],
   "source": [
    "data1.shape"
   ]
  },
  {
   "cell_type": "code",
   "execution_count": 30,
   "metadata": {
    "ExecuteTime": {
     "end_time": "2020-10-30T18:49:06.726366Z",
     "start_time": "2020-10-30T18:49:06.705935Z"
    }
   },
   "outputs": [],
   "source": [
    "from keras.wrappers.scikit_learn import KerasClassifier\n",
    "from sklearn.model_selection import cross_val_score\n",
    "from keras.models import Sequential\n",
    "from keras.layers import Dense\n",
    "from keras.optimizers import Adam, SGD\n",
    "\n",
    "def deep_model():\n",
    "    classifier = Sequential()\n",
    "    \n",
    "    classifier.add(Dense(units=14, kernel_initializer='uniform', activation='tanh', input_dim=14))\n",
    "    classifier.add(Dense(1, kernel_initializer='uniform', activation='tanh'))\n",
    "  #  classifier.add(Dense(units=4, kernel_initializer='uniform', activation='tanh'))\n",
    "   # classifier.add(Dense(units=1, kernel_initializer='uniform', activation='tanh'))\n",
    "    \n",
    "    classifier.compile(optimizer='adam', \n",
    "    loss = 'binary_crossentropy',\n",
    "    metrics = ['accuracy'])\n",
    "    \n",
    "    return classifier"
   ]
  },
  {
   "cell_type": "code",
   "execution_count": 31,
   "metadata": {
    "ExecuteTime": {
     "end_time": "2020-10-30T18:49:07.567658Z",
     "start_time": "2020-10-30T18:49:07.559969Z"
    }
   },
   "outputs": [],
   "source": [
    "#from keras.models import load_model\n",
    "#from keras.callbacks import EarlyStopping, ModelCheckpoint\n",
    "\n",
    "#classifier = deep_model()\n",
    "\n",
    "#callbacks = [EarlyStopping(monitor='val_loss', patience=2), ModelCheckpoint(filepath='best_model.h5', monitor='val_loss', save_best_only=True)]\n",
    "#output = classifier.fit(X_train, y_train, batch_size=32, callbacks=callbacks, epochs=100, validation_data=(X_val, y_val), shuffle=False)"
   ]
  },
  {
   "cell_type": "code",
   "execution_count": 32,
   "metadata": {
    "ExecuteTime": {
     "end_time": "2020-10-30T18:49:08.286716Z",
     "start_time": "2020-10-30T18:49:08.274858Z"
    }
   },
   "outputs": [],
   "source": [
    "model = KerasClassifier(build_fn=deep_model, epochs=15, batch_size=100)"
   ]
  },
  {
   "cell_type": "code",
   "execution_count": 33,
   "metadata": {
    "ExecuteTime": {
     "end_time": "2020-10-30T18:49:15.575812Z",
     "start_time": "2020-10-30T18:49:09.136987Z"
    }
   },
   "outputs": [
    {
     "name": "stdout",
     "output_type": "stream",
     "text": [
      "Epoch 1/15\n",
      "80/80 [==============================] - ETA: 0s - loss: 3.0587 - accuracy: 0.75 - ETA: 0s - loss: 1.4993 - accuracy: 0.78 - ETA: 0s - loss: 1.1959 - accuracy: 0.78 - ETA: 0s - loss: 1.0142 - accuracy: 0.79 - ETA: 0s - loss: 0.9092 - accuracy: 0.79 - 0s 3ms/step - loss: 0.8797 - accuracy: 0.7955\n",
      "Epoch 2/15\n",
      "80/80 [==============================] - ETA: 0s - loss: 0.6537 - accuracy: 0.78 - ETA: 0s - loss: 0.6468 - accuracy: 0.78 - ETA: 0s - loss: 0.6296 - accuracy: 0.78 - ETA: 0s - loss: 0.6068 - accuracy: 0.79 - ETA: 0s - loss: 0.5926 - accuracy: 0.79 - 0s 3ms/step - loss: 0.5835 - accuracy: 0.7955\n",
      "Epoch 3/15\n",
      "80/80 [==============================] - ETA: 0s - loss: 0.5605 - accuracy: 0.80 - ETA: 0s - loss: 0.5273 - accuracy: 0.80 - ETA: 0s - loss: 0.5441 - accuracy: 0.79 - ETA: 0s - loss: 0.5373 - accuracy: 0.79 - ETA: 0s - loss: 0.5360 - accuracy: 0.79 - ETA: 0s - loss: 0.5262 - accuracy: 0.79 - 0s 4ms/step - loss: 0.5253 - accuracy: 0.7955\n",
      "Epoch 4/15\n",
      "80/80 [==============================] - ETA: 0s - loss: 0.6863 - accuracy: 0.71 - ETA: 0s - loss: 0.5081 - accuracy: 0.79 - ETA: 0s - loss: 0.5109 - accuracy: 0.79 - ETA: 0s - loss: 0.5000 - accuracy: 0.79 - ETA: 0s - loss: 0.4954 - accuracy: 0.79 - ETA: 0s - loss: 0.5002 - accuracy: 0.79 - ETA: 0s - loss: 0.5040 - accuracy: 0.79 - ETA: 0s - loss: 0.4986 - accuracy: 0.79 - ETA: 0s - loss: 0.4970 - accuracy: 0.79 - ETA: 0s - loss: 0.4929 - accuracy: 0.79 - 0s 6ms/step - loss: 0.4919 - accuracy: 0.7955\n",
      "Epoch 5/15\n",
      "80/80 [==============================] - ETA: 0s - loss: 0.6210 - accuracy: 0.78 - ETA: 0s - loss: 0.5080 - accuracy: 0.78 - ETA: 0s - loss: 0.4854 - accuracy: 0.78 - ETA: 0s - loss: 0.4802 - accuracy: 0.79 - ETA: 0s - loss: 0.4721 - accuracy: 0.79 - ETA: 0s - loss: 0.4690 - accuracy: 0.79 - ETA: 0s - loss: 0.4673 - accuracy: 0.79 - ETA: 0s - loss: 0.4647 - accuracy: 0.79 - ETA: 0s - loss: 0.4631 - accuracy: 0.79 - ETA: 0s - loss: 0.4665 - accuracy: 0.79 - 0s 6ms/step - loss: 0.4679 - accuracy: 0.7955\n",
      "Epoch 6/15\n",
      "80/80 [==============================] - ETA: 0s - loss: 0.5011 - accuracy: 0.78 - ETA: 0s - loss: 0.4735 - accuracy: 0.79 - ETA: 0s - loss: 0.4798 - accuracy: 0.78 - ETA: 0s - loss: 0.4656 - accuracy: 0.79 - ETA: 0s - loss: 0.4592 - accuracy: 0.79 - 0s 3ms/step - loss: 0.4556 - accuracy: 0.7955\n",
      "Epoch 7/15\n",
      "80/80 [==============================] - ETA: 0s - loss: 0.5853 - accuracy: 0.78 - ETA: 0s - loss: 0.4483 - accuracy: 0.80 - ETA: 0s - loss: 0.4557 - accuracy: 0.79 - ETA: 0s - loss: 0.4501 - accuracy: 0.79 - ETA: 0s - loss: 0.4506 - accuracy: 0.79 - ETA: 0s - loss: 0.4510 - accuracy: 0.79 - 0s 4ms/step - loss: 0.4513 - accuracy: 0.7953\n",
      "Epoch 8/15\n",
      "80/80 [==============================] - ETA: 0s - loss: 0.3686 - accuracy: 0.85 - ETA: 0s - loss: 0.4481 - accuracy: 0.80 - ETA: 0s - loss: 0.4363 - accuracy: 0.80 - ETA: 0s - loss: 0.4335 - accuracy: 0.80 - ETA: 0s - loss: 0.4463 - accuracy: 0.79 - ETA: 0s - loss: 0.4433 - accuracy: 0.79 - 0s 4ms/step - loss: 0.4485 - accuracy: 0.7955\n",
      "Epoch 9/15\n",
      "80/80 [==============================] - ETA: 0s - loss: 0.3911 - accuracy: 0.84 - ETA: 0s - loss: 0.4620 - accuracy: 0.79 - ETA: 0s - loss: 0.4394 - accuracy: 0.80 - ETA: 0s - loss: 0.4446 - accuracy: 0.79 - ETA: 0s - loss: 0.4474 - accuracy: 0.79 - ETA: 0s - loss: 0.4464 - accuracy: 0.79 - 0s 3ms/step - loss: 0.4480 - accuracy: 0.7948\n",
      "Epoch 10/15\n",
      "80/80 [==============================] - ETA: 0s - loss: 0.4216 - accuracy: 0.80 - ETA: 0s - loss: 0.4476 - accuracy: 0.79 - ETA: 0s - loss: 0.4528 - accuracy: 0.79 - ETA: 0s - loss: 0.4551 - accuracy: 0.78 - ETA: 0s - loss: 0.4563 - accuracy: 0.78 - ETA: 0s - loss: 0.4564 - accuracy: 0.79 - 0s 4ms/step - loss: 0.4528 - accuracy: 0.7943\n",
      "Epoch 11/15\n",
      "80/80 [==============================] - ETA: 0s - loss: 0.4073 - accuracy: 0.82 - ETA: 0s - loss: 0.4588 - accuracy: 0.78 - ETA: 0s - loss: 0.4510 - accuracy: 0.79 - ETA: 0s - loss: 0.4440 - accuracy: 0.79 - ETA: 0s - loss: 0.4459 - accuracy: 0.79 - ETA: 0s - loss: 0.4476 - accuracy: 0.79 - 0s 4ms/step - loss: 0.4471 - accuracy: 0.7945\n",
      "Epoch 12/15\n",
      "80/80 [==============================] - ETA: 0s - loss: 0.4331 - accuracy: 0.77 - ETA: 0s - loss: 0.4635 - accuracy: 0.78 - ETA: 0s - loss: 0.4581 - accuracy: 0.79 - ETA: 0s - loss: 0.4479 - accuracy: 0.79 - ETA: 0s - loss: 0.4469 - accuracy: 0.79 - ETA: 0s - loss: 0.4482 - accuracy: 0.79 - 0s 4ms/step - loss: 0.4503 - accuracy: 0.7948\n",
      "Epoch 13/15\n",
      "80/80 [==============================] - ETA: 0s - loss: 0.3875 - accuracy: 0.84 - ETA: 0s - loss: 0.4451 - accuracy: 0.80 - ETA: 0s - loss: 0.4562 - accuracy: 0.79 - ETA: 0s - loss: 0.4572 - accuracy: 0.79 - ETA: 0s - loss: 0.4586 - accuracy: 0.79 - ETA: 0s - loss: 0.4545 - accuracy: 0.79 - ETA: 0s - loss: 0.4572 - accuracy: 0.79 - 0s 4ms/step - loss: 0.4586 - accuracy: 0.7935\n",
      "Epoch 14/15\n",
      "80/80 [==============================] - ETA: 0s - loss: 0.4330 - accuracy: 0.78 - ETA: 0s - loss: 0.4284 - accuracy: 0.81 - ETA: 0s - loss: 0.4447 - accuracy: 0.80 - ETA: 0s - loss: 0.4531 - accuracy: 0.79 - ETA: 0s - loss: 0.4479 - accuracy: 0.79 - 0s 3ms/step - loss: 0.4479 - accuracy: 0.7946\n",
      "Epoch 15/15\n",
      "80/80 [==============================] - ETA: 0s - loss: 0.4885 - accuracy: 0.85 - ETA: 0s - loss: 0.4526 - accuracy: 0.79 - ETA: 0s - loss: 0.4472 - accuracy: 0.79 - ETA: 0s - loss: 0.4453 - accuracy: 0.79 - ETA: 0s - loss: 0.4455 - accuracy: 0.79 - 0s 3ms/step - loss: 0.4450 - accuracy: 0.7948\n"
     ]
    }
   ],
   "source": [
    "history1 = model.fit(X_train, y_train)"
   ]
  },
  {
   "cell_type": "code",
   "execution_count": 34,
   "metadata": {
    "ExecuteTime": {
     "end_time": "2020-10-30T18:49:19.730323Z",
     "start_time": "2020-10-30T18:49:19.722941Z"
    }
   },
   "outputs": [],
   "source": [
    "from sklearn.model_selection import StratifiedKFold"
   ]
  },
  {
   "cell_type": "code",
   "execution_count": 35,
   "metadata": {
    "ExecuteTime": {
     "end_time": "2020-10-30T18:49:50.133903Z",
     "start_time": "2020-10-30T18:49:22.183316Z"
    }
   },
   "outputs": [
    {
     "name": "stdout",
     "output_type": "stream",
     "text": [
      "Epoch 1/15\n",
      "64/64 [==============================] - ETA: 0s - loss: 2.9251 - accuracy: 0.75 - ETA: 0s - loss: 1.6892 - accuracy: 0.80 - ETA: 0s - loss: 1.2462 - accuracy: 0.79 - ETA: 0s - loss: 1.0509 - accuracy: 0.79 - ETA: 0s - loss: 0.9540 - accuracy: 0.79 - 0s 3ms/step - loss: 0.9524 - accuracy: 0.7955\n",
      "Epoch 2/15\n",
      "64/64 [==============================] - ETA: 0s - loss: 0.4526 - accuracy: 0.87 - ETA: 0s - loss: 0.6743 - accuracy: 0.79 - ETA: 0s - loss: 0.6564 - accuracy: 0.79 - 0s 2ms/step - loss: 0.6486 - accuracy: 0.7955\n",
      "Epoch 3/15\n",
      "64/64 [==============================] - ETA: 0s - loss: 0.7479 - accuracy: 0.75 - ETA: 0s - loss: 0.5822 - accuracy: 0.79 - ETA: 0s - loss: 0.5788 - accuracy: 0.79 - 0s 2ms/step - loss: 0.5776 - accuracy: 0.7955\n",
      "Epoch 4/15\n",
      "64/64 [==============================] - ETA: 0s - loss: 0.7645 - accuracy: 0.76 - ETA: 0s - loss: 0.5511 - accuracy: 0.79 - ETA: 0s - loss: 0.5364 - accuracy: 0.79 - ETA: 0s - loss: 0.5306 - accuracy: 0.79 - 0s 3ms/step - loss: 0.5280 - accuracy: 0.7955\n",
      "Epoch 5/15\n",
      "64/64 [==============================] - ETA: 0s - loss: 0.5084 - accuracy: 0.78 - ETA: 0s - loss: 0.4898 - accuracy: 0.80 - ETA: 0s - loss: 0.4885 - accuracy: 0.80 - 0s 2ms/step - loss: 0.4955 - accuracy: 0.7955\n",
      "Epoch 6/15\n",
      "64/64 [==============================] - ETA: 0s - loss: 0.5114 - accuracy: 0.78 - ETA: 0s - loss: 0.4965 - accuracy: 0.79 - ETA: 0s - loss: 0.4787 - accuracy: 0.79 - ETA: 0s - loss: 0.4749 - accuracy: 0.79 - 0s 3ms/step - loss: 0.4742 - accuracy: 0.7955\n",
      "Epoch 7/15\n",
      "64/64 [==============================] - ETA: 0s - loss: 0.4005 - accuracy: 0.81 - ETA: 0s - loss: 0.4376 - accuracy: 0.80 - ETA: 0s - loss: 0.4650 - accuracy: 0.79 - ETA: 0s - loss: 0.4660 - accuracy: 0.79 - ETA: 0s - loss: 0.4648 - accuracy: 0.79 - 0s 4ms/step - loss: 0.4606 - accuracy: 0.7955\n",
      "Epoch 8/15\n",
      "64/64 [==============================] - ETA: 0s - loss: 0.5124 - accuracy: 0.74 - ETA: 0s - loss: 0.4544 - accuracy: 0.80 - ETA: 0s - loss: 0.4509 - accuracy: 0.80 - ETA: 0s - loss: 0.4619 - accuracy: 0.79 - ETA: 0s - loss: 0.4605 - accuracy: 0.79 - 0s 4ms/step - loss: 0.4575 - accuracy: 0.7955\n",
      "Epoch 9/15\n",
      "64/64 [==============================] - ETA: 0s - loss: 0.4006 - accuracy: 0.81 - ETA: 0s - loss: 0.4631 - accuracy: 0.80 - ETA: 0s - loss: 0.4516 - accuracy: 0.79 - ETA: 0s - loss: 0.4468 - accuracy: 0.79 - ETA: 0s - loss: 0.4478 - accuracy: 0.79 - 0s 4ms/step - loss: 0.4537 - accuracy: 0.7955\n",
      "Epoch 10/15\n",
      "64/64 [==============================] - ETA: 0s - loss: 0.4919 - accuracy: 0.73 - ETA: 0s - loss: 0.4636 - accuracy: 0.78 - ETA: 0s - loss: 0.4587 - accuracy: 0.79 - ETA: 0s - loss: 0.4484 - accuracy: 0.79 - ETA: 0s - loss: 0.4487 - accuracy: 0.79 - 0s 4ms/step - loss: 0.4502 - accuracy: 0.7957\n",
      "Epoch 11/15\n",
      "64/64 [==============================] - ETA: 0s - loss: 0.4189 - accuracy: 0.81 - ETA: 0s - loss: 0.4414 - accuracy: 0.79 - ETA: 0s - loss: 0.4513 - accuracy: 0.79 - ETA: 0s - loss: 0.4539 - accuracy: 0.79 - 0s 3ms/step - loss: 0.4505 - accuracy: 0.7955\n",
      "Epoch 12/15\n",
      "64/64 [==============================] - ETA: 0s - loss: 0.3283 - accuracy: 0.89 - ETA: 0s - loss: 0.4323 - accuracy: 0.81 - ETA: 0s - loss: 0.4486 - accuracy: 0.79 - ETA: 0s - loss: 0.4456 - accuracy: 0.79 - 0s 3ms/step - loss: 0.4474 - accuracy: 0.7955\n",
      "Epoch 13/15\n",
      "64/64 [==============================] - ETA: 0s - loss: 0.4457 - accuracy: 0.80 - ETA: 0s - loss: 0.4515 - accuracy: 0.79 - ETA: 0s - loss: 0.4495 - accuracy: 0.79 - ETA: 0s - loss: 0.4494 - accuracy: 0.79 - 0s 3ms/step - loss: 0.4466 - accuracy: 0.7955\n",
      "Epoch 14/15\n",
      "64/64 [==============================] - ETA: 0s - loss: 0.6023 - accuracy: 0.78 - ETA: 0s - loss: 0.4448 - accuracy: 0.80 - ETA: 0s - loss: 0.4480 - accuracy: 0.79 - ETA: 0s - loss: 0.4454 - accuracy: 0.79 - 0s 3ms/step - loss: 0.4499 - accuracy: 0.7954\n",
      "Epoch 15/15\n",
      "64/64 [==============================] - ETA: 0s - loss: 0.4826 - accuracy: 0.78 - ETA: 0s - loss: 0.4598 - accuracy: 0.79 - ETA: 0s - loss: 0.4604 - accuracy: 0.78 - ETA: 0s - loss: 0.4539 - accuracy: 0.79 - 0s 3ms/step - loss: 0.4501 - accuracy: 0.7958\n",
      "16/16 [==============================] - ETA: 0s - loss: 0.4409 - accuracy: 0.77 - 0s 2ms/step - loss: 0.4518 - accuracy: 0.7940\n",
      "Epoch 1/15\n",
      "64/64 [==============================] - ETA: 0s - loss: 2.6651 - accuracy: 0.80 - ETA: 0s - loss: 1.4209 - accuracy: 0.80 - ETA: 0s - loss: 1.2380 - accuracy: 0.79 - ETA: 0s - loss: 1.1472 - accuracy: 0.79 - 0s 3ms/step - loss: 1.1326 - accuracy: 0.7955\n",
      "Epoch 2/15\n",
      "64/64 [==============================] - ETA: 0s - loss: 1.2045 - accuracy: 0.78 - ETA: 0s - loss: 0.9125 - accuracy: 0.79 - ETA: 0s - loss: 0.8952 - accuracy: 0.79 - ETA: 0s - loss: 0.8607 - accuracy: 0.79 - 0s 3ms/step - loss: 0.8426 - accuracy: 0.7955\n",
      "Epoch 3/15\n",
      "64/64 [==============================] - ETA: 0s - loss: 0.6642 - accuracy: 0.84 - ETA: 0s - loss: 0.7610 - accuracy: 0.79 - ETA: 0s - loss: 0.7349 - accuracy: 0.79 - ETA: 0s - loss: 0.7319 - accuracy: 0.79 - 0s 3ms/step - loss: 0.7241 - accuracy: 0.7955\n",
      "Epoch 4/15\n",
      "64/64 [==============================] - ETA: 0s - loss: 0.5844 - accuracy: 0.83 - ETA: 0s - loss: 0.6815 - accuracy: 0.80 - ETA: 0s - loss: 0.6809 - accuracy: 0.79 - 0s 2ms/step - loss: 0.6842 - accuracy: 0.7955\n",
      "Epoch 5/15\n",
      "64/64 [==============================] - ETA: 0s - loss: 0.4926 - accuracy: 0.84 - ETA: 0s - loss: 0.6520 - accuracy: 0.80 - ETA: 0s - loss: 0.6690 - accuracy: 0.79 - ETA: 0s - loss: 0.6626 - accuracy: 0.79 - ETA: 0s - loss: 0.6538 - accuracy: 0.79 - 0s 4ms/step - loss: 0.6527 - accuracy: 0.7955\n",
      "Epoch 6/15\n",
      "64/64 [==============================] - ETA: 0s - loss: 0.6991 - accuracy: 0.78 - ETA: 0s - loss: 0.6710 - accuracy: 0.78 - ETA: 0s - loss: 0.6598 - accuracy: 0.78 - ETA: 0s - loss: 0.6328 - accuracy: 0.79 - ETA: 0s - loss: 0.6190 - accuracy: 0.79 - 0s 4ms/step - loss: 0.6274 - accuracy: 0.7955\n",
      "Epoch 7/15\n",
      "64/64 [==============================] - ETA: 0s - loss: 0.4682 - accuracy: 0.85 - ETA: 0s - loss: 0.5554 - accuracy: 0.81 - ETA: 0s - loss: 0.6059 - accuracy: 0.80 - ETA: 0s - loss: 0.6102 - accuracy: 0.79 - ETA: 0s - loss: 0.6119 - accuracy: 0.79 - ETA: 0s - loss: 0.6107 - accuracy: 0.79 - 0s 4ms/step - loss: 0.6055 - accuracy: 0.7955\n",
      "Epoch 8/15\n",
      "64/64 [==============================] - ETA: 0s - loss: 0.5275 - accuracy: 0.82 - ETA: 0s - loss: 0.5734 - accuracy: 0.80 - ETA: 0s - loss: 0.5756 - accuracy: 0.79 - ETA: 0s - loss: 0.5846 - accuracy: 0.79 - 0s 3ms/step - loss: 0.5859 - accuracy: 0.7955\n",
      "Epoch 9/15\n",
      "64/64 [==============================] - ETA: 0s - loss: 0.6988 - accuracy: 0.75 - ETA: 0s - loss: 0.6015 - accuracy: 0.78 - ETA: 0s - loss: 0.5892 - accuracy: 0.78 - ETA: 0s - loss: 0.5758 - accuracy: 0.79 - 0s 3ms/step - loss: 0.5696 - accuracy: 0.7955\n",
      "Epoch 10/15\n",
      "64/64 [==============================] - ETA: 0s - loss: 0.4605 - accuracy: 0.84 - ETA: 0s - loss: 0.5422 - accuracy: 0.79 - ETA: 0s - loss: 0.5593 - accuracy: 0.79 - ETA: 0s - loss: 0.5480 - accuracy: 0.79 - ETA: 0s - loss: 0.5534 - accuracy: 0.79 - 0s 3ms/step - loss: 0.5535 - accuracy: 0.7955\n",
      "Epoch 11/15\n",
      "64/64 [==============================] - ETA: 0s - loss: 0.4523 - accuracy: 0.83 - ETA: 0s - loss: 0.5168 - accuracy: 0.80 - ETA: 0s - loss: 0.5221 - accuracy: 0.80 - ETA: 0s - loss: 0.5269 - accuracy: 0.80 - 0s 3ms/step - loss: 0.5396 - accuracy: 0.7955\n",
      "Epoch 12/15\n",
      "64/64 [==============================] - ETA: 0s - loss: 0.6160 - accuracy: 0.75 - ETA: 0s - loss: 0.5129 - accuracy: 0.80 - ETA: 0s - loss: 0.5239 - accuracy: 0.79 - 0s 2ms/step - loss: 0.5320 - accuracy: 0.7955\n",
      "Epoch 13/15\n",
      "64/64 [==============================] - ETA: 0s - loss: 0.5939 - accuracy: 0.77 - ETA: 0s - loss: 0.5214 - accuracy: 0.79 - ETA: 0s - loss: 0.5254 - accuracy: 0.79 - ETA: 0s - loss: 0.5174 - accuracy: 0.79 - 0s 3ms/step - loss: 0.5221 - accuracy: 0.7955\n",
      "Epoch 14/15\n",
      "64/64 [==============================] - ETA: 0s - loss: 0.5569 - accuracy: 0.77 - ETA: 0s - loss: 0.5095 - accuracy: 0.79 - ETA: 0s - loss: 0.5102 - accuracy: 0.79 - ETA: 0s - loss: 0.5107 - accuracy: 0.79 - 0s 3ms/step - loss: 0.5102 - accuracy: 0.7955\n",
      "Epoch 15/15\n",
      "64/64 [==============================] - ETA: 0s - loss: 0.5584 - accuracy: 0.76 - ETA: 0s - loss: 0.5085 - accuracy: 0.79 - ETA: 0s - loss: 0.4947 - accuracy: 0.80 - 0s 2ms/step - loss: 0.5017 - accuracy: 0.7955\n",
      "16/16 [==============================] - ETA: 0s - loss: 0.5610 - accuracy: 0.76 - 0s 2ms/step - loss: 0.4922 - accuracy: 0.7952\n",
      "Epoch 1/15\n",
      "64/64 [==============================] - ETA: 0s - loss: 2.0298 - accuracy: 0.77 - ETA: 0s - loss: 1.2073 - accuracy: 0.79 - ETA: 0s - loss: 0.9916 - accuracy: 0.79 - ETA: 0s - loss: 0.8835 - accuracy: 0.79 - 0s 3ms/step - loss: 0.8587 - accuracy: 0.7955\n",
      "Epoch 2/15\n",
      "64/64 [==============================] - ETA: 0s - loss: 0.6625 - accuracy: 0.78 - ETA: 0s - loss: 0.6395 - accuracy: 0.79 - ETA: 0s - loss: 0.6133 - accuracy: 0.79 - ETA: 0s - loss: 0.6089 - accuracy: 0.79 - ETA: 0s - loss: 0.6087 - accuracy: 0.79 - 0s 4ms/step - loss: 0.6064 - accuracy: 0.7955\n",
      "Epoch 3/15\n",
      "64/64 [==============================] - ETA: 0s - loss: 0.4543 - accuracy: 0.85 - ETA: 0s - loss: 0.5094 - accuracy: 0.82 - ETA: 0s - loss: 0.5228 - accuracy: 0.81 - ETA: 0s - loss: 0.5115 - accuracy: 0.81 - ETA: 0s - loss: 0.5262 - accuracy: 0.81 - ETA: 0s - loss: 0.5366 - accuracy: 0.80 - ETA: 0s - loss: 0.5528 - accuracy: 0.79 - ETA: 0s - loss: 0.5581 - accuracy: 0.79 - 0s 6ms/step - loss: 0.5529 - accuracy: 0.7955\n",
      "Epoch 4/15\n",
      "64/64 [==============================] - ETA: 0s - loss: 0.6073 - accuracy: 0.76 - ETA: 0s - loss: 0.5493 - accuracy: 0.78 - ETA: 0s - loss: 0.5343 - accuracy: 0.79 - ETA: 0s - loss: 0.5236 - accuracy: 0.79 - ETA: 0s - loss: 0.5268 - accuracy: 0.79 - ETA: 0s - loss: 0.5164 - accuracy: 0.79 - ETA: 0s - loss: 0.5203 - accuracy: 0.79 - ETA: 0s - loss: 0.5124 - accuracy: 0.79 - 0s 6ms/step - loss: 0.5149 - accuracy: 0.7955\n",
      "Epoch 5/15\n",
      "64/64 [==============================] - ETA: 0s - loss: 0.2874 - accuracy: 0.90 - ETA: 0s - loss: 0.4818 - accuracy: 0.80 - ETA: 0s - loss: 0.4833 - accuracy: 0.80 - ETA: 0s - loss: 0.4840 - accuracy: 0.80 - ETA: 0s - loss: 0.4803 - accuracy: 0.80 - ETA: 0s - loss: 0.4895 - accuracy: 0.79 - ETA: 0s - loss: 0.4855 - accuracy: 0.79 - ETA: 0s - loss: 0.4861 - accuracy: 0.79 - 0s 6ms/step - loss: 0.4861 - accuracy: 0.7955\n",
      "Epoch 6/15\n",
      "64/64 [==============================] - ETA: 0s - loss: 0.5336 - accuracy: 0.75 - ETA: 0s - loss: 0.5176 - accuracy: 0.78 - ETA: 0s - loss: 0.5004 - accuracy: 0.78 - ETA: 0s - loss: 0.4803 - accuracy: 0.79 - ETA: 0s - loss: 0.4672 - accuracy: 0.79 - ETA: 0s - loss: 0.4652 - accuracy: 0.79 - 0s 5ms/step - loss: 0.4664 - accuracy: 0.7955\n",
      "Epoch 7/15\n",
      "64/64 [==============================] - ETA: 0s - loss: 0.3553 - accuracy: 0.87 - ETA: 0s - loss: 0.4456 - accuracy: 0.80 - ETA: 0s - loss: 0.4502 - accuracy: 0.80 - ETA: 0s - loss: 0.4537 - accuracy: 0.79 - 0s 3ms/step - loss: 0.4535 - accuracy: 0.7955\n",
      "Epoch 8/15\n",
      "64/64 [==============================] - ETA: 0s - loss: 0.4292 - accuracy: 0.80 - ETA: 0s - loss: 0.4646 - accuracy: 0.78 - ETA: 0s - loss: 0.4477 - accuracy: 0.79 - 0s 3ms/step - loss: 0.4458 - accuracy: 0.7955\n",
      "Epoch 9/15\n",
      "64/64 [==============================] - ETA: 0s - loss: 0.4408 - accuracy: 0.77 - ETA: 0s - loss: 0.4397 - accuracy: 0.79 - ETA: 0s - loss: 0.4492 - accuracy: 0.79 - ETA: 0s - loss: 0.4462 - accuracy: 0.79 - 0s 3ms/step - loss: 0.4416 - accuracy: 0.7957\n",
      "Epoch 10/15\n",
      "64/64 [==============================] - ETA: 0s - loss: 0.4520 - accuracy: 0.76 - ETA: 0s - loss: 0.4489 - accuracy: 0.78 - ETA: 0s - loss: 0.4370 - accuracy: 0.79 - ETA: 0s - loss: 0.4434 - accuracy: 0.79 - ETA: 0s - loss: 0.4404 - accuracy: 0.79 - 0s 4ms/step - loss: 0.4394 - accuracy: 0.7955\n",
      "Epoch 11/15\n",
      "64/64 [==============================] - ETA: 0s - loss: 0.4505 - accuracy: 0.81 - ETA: 0s - loss: 0.4337 - accuracy: 0.80 - ETA: 0s - loss: 0.4417 - accuracy: 0.79 - ETA: 0s - loss: 0.4372 - accuracy: 0.79 - ETA: 0s - loss: 0.4383 - accuracy: 0.79 - 0s 4ms/step - loss: 0.4379 - accuracy: 0.7960\n",
      "Epoch 12/15\n",
      "64/64 [==============================] - ETA: 0s - loss: 0.4197 - accuracy: 0.80 - ETA: 0s - loss: 0.4546 - accuracy: 0.77 - ETA: 0s - loss: 0.4488 - accuracy: 0.78 - ETA: 0s - loss: 0.4431 - accuracy: 0.79 - ETA: 0s - loss: 0.4416 - accuracy: 0.79 - 0s 4ms/step - loss: 0.4373 - accuracy: 0.7952\n",
      "Epoch 13/15\n",
      "64/64 [==============================] - ETA: 0s - loss: 0.3989 - accuracy: 0.81 - ETA: 0s - loss: 0.4220 - accuracy: 0.80 - ETA: 0s - loss: 0.4380 - accuracy: 0.79 - ETA: 0s - loss: 0.4467 - accuracy: 0.78 - ETA: 0s - loss: 0.4468 - accuracy: 0.79 - 0s 4ms/step - loss: 0.4447 - accuracy: 0.7974\n",
      "Epoch 14/15\n",
      "64/64 [==============================] - ETA: 0s - loss: 0.5069 - accuracy: 0.73 - ETA: 0s - loss: 0.4777 - accuracy: 0.78 - ETA: 0s - loss: 0.4464 - accuracy: 0.79 - ETA: 0s - loss: 0.4469 - accuracy: 0.79 - ETA: 0s - loss: 0.4432 - accuracy: 0.79 - 0s 4ms/step - loss: 0.4417 - accuracy: 0.7963\n",
      "Epoch 15/15\n",
      "64/64 [==============================] - ETA: 0s - loss: 0.3960 - accuracy: 0.80 - ETA: 0s - loss: 0.4103 - accuracy: 0.81 - ETA: 0s - loss: 0.4492 - accuracy: 0.79 - ETA: 0s - loss: 0.4518 - accuracy: 0.79 - ETA: 0s - loss: 0.4437 - accuracy: 0.79 - 0s 4ms/step - loss: 0.4431 - accuracy: 0.7968\n",
      "16/16 [==============================] - ETA: 0s - loss: 0.4326 - accuracy: 0.81 - 0s 3ms/step - loss: 0.4726 - accuracy: 0.7921\n",
      "Epoch 1/15\n",
      "64/64 [==============================] - ETA: 0s - loss: 2.5864 - accuracy: 0.73 - ETA: 0s - loss: 1.5512 - accuracy: 0.79 - ETA: 0s - loss: 1.2564 - accuracy: 0.79 - ETA: 0s - loss: 1.1462 - accuracy: 0.80 - 0s 3ms/step - loss: 1.0976 - accuracy: 0.7954\n",
      "Epoch 2/15\n",
      "64/64 [==============================] - ETA: 0s - loss: 0.6078 - accuracy: 0.86 - ETA: 0s - loss: 0.7167 - accuracy: 0.81 - ETA: 0s - loss: 0.7225 - accuracy: 0.79 - 0s 2ms/step - loss: 0.7257 - accuracy: 0.7954\n",
      "Epoch 3/15\n",
      "64/64 [==============================] - ETA: 0s - loss: 0.6490 - accuracy: 0.81 - ETA: 0s - loss: 0.6746 - accuracy: 0.79 - ETA: 0s - loss: 0.6733 - accuracy: 0.79 - ETA: 0s - loss: 0.6531 - accuracy: 0.79 - 0s 3ms/step - loss: 0.6465 - accuracy: 0.7954\n",
      "Epoch 4/15\n",
      "64/64 [==============================] - ETA: 0s - loss: 0.5958 - accuracy: 0.81 - ETA: 0s - loss: 0.5902 - accuracy: 0.80 - ETA: 0s - loss: 0.6077 - accuracy: 0.79 - ETA: 0s - loss: 0.6001 - accuracy: 0.79 - 0s 3ms/step - loss: 0.6030 - accuracy: 0.7954\n",
      "Epoch 5/15\n",
      "64/64 [==============================] - ETA: 0s - loss: 0.7572 - accuracy: 0.73 - ETA: 0s - loss: 0.5697 - accuracy: 0.79 - ETA: 0s - loss: 0.5731 - accuracy: 0.79 - 0s 2ms/step - loss: 0.5724 - accuracy: 0.7954\n",
      "Epoch 6/15\n",
      "64/64 [==============================] - ETA: 0s - loss: 0.6509 - accuracy: 0.76 - ETA: 0s - loss: 0.5532 - accuracy: 0.79 - ETA: 0s - loss: 0.5413 - accuracy: 0.80 - 0s 2ms/step - loss: 0.5498 - accuracy: 0.7954\n",
      "Epoch 7/15\n",
      "64/64 [==============================] - ETA: 0s - loss: 0.5915 - accuracy: 0.77 - ETA: 0s - loss: 0.5253 - accuracy: 0.79 - ETA: 0s - loss: 0.5343 - accuracy: 0.79 - 0s 2ms/step - loss: 0.5266 - accuracy: 0.7954\n",
      "Epoch 8/15\n",
      "64/64 [==============================] - ETA: 0s - loss: 0.3740 - accuracy: 0.87 - ETA: 0s - loss: 0.5224 - accuracy: 0.79 - ETA: 0s - loss: 0.5067 - accuracy: 0.79 - 0s 2ms/step - loss: 0.5067 - accuracy: 0.7954\n",
      "Epoch 9/15\n",
      "64/64 [==============================] - ETA: 0s - loss: 0.3802 - accuracy: 0.86 - ETA: 0s - loss: 0.4979 - accuracy: 0.79 - ETA: 0s - loss: 0.4920 - accuracy: 0.79 - 0s 2ms/step - loss: 0.4903 - accuracy: 0.7954\n",
      "Epoch 10/15\n",
      "64/64 [==============================] - ETA: 0s - loss: 0.4035 - accuracy: 0.84 - ETA: 0s - loss: 0.4694 - accuracy: 0.79 - ETA: 0s - loss: 0.4833 - accuracy: 0.79 - 0s 2ms/step - loss: 0.4806 - accuracy: 0.7954\n",
      "Epoch 11/15\n",
      "64/64 [==============================] - ETA: 0s - loss: 0.4532 - accuracy: 0.81 - ETA: 0s - loss: 0.4854 - accuracy: 0.79 - ETA: 0s - loss: 0.4785 - accuracy: 0.79 - ETA: 0s - loss: 0.4807 - accuracy: 0.79 - 0s 3ms/step - loss: 0.4704 - accuracy: 0.7954\n",
      "Epoch 12/15\n",
      "64/64 [==============================] - ETA: 0s - loss: 0.5102 - accuracy: 0.80 - ETA: 0s - loss: 0.4366 - accuracy: 0.80 - ETA: 0s - loss: 0.4638 - accuracy: 0.79 - 0s 2ms/step - loss: 0.4648 - accuracy: 0.7954\n",
      "Epoch 13/15\n"
     ]
    },
    {
     "name": "stdout",
     "output_type": "stream",
     "text": [
      "64/64 [==============================] - ETA: 0s - loss: 0.4477 - accuracy: 0.80 - ETA: 0s - loss: 0.4524 - accuracy: 0.80 - ETA: 0s - loss: 0.4549 - accuracy: 0.79 - 0s 2ms/step - loss: 0.4592 - accuracy: 0.7954\n",
      "Epoch 14/15\n",
      "64/64 [==============================] - ETA: 0s - loss: 0.4852 - accuracy: 0.77 - ETA: 0s - loss: 0.4630 - accuracy: 0.79 - ETA: 0s - loss: 0.4597 - accuracy: 0.79 - 0s 2ms/step - loss: 0.4638 - accuracy: 0.7954\n",
      "Epoch 15/15\n",
      "64/64 [==============================] - ETA: 0s - loss: 0.5376 - accuracy: 0.73 - ETA: 0s - loss: 0.4600 - accuracy: 0.79 - ETA: 0s - loss: 0.4640 - accuracy: 0.79 - ETA: 0s - loss: 0.4641 - accuracy: 0.79 - 0s 3ms/step - loss: 0.4605 - accuracy: 0.7954\n",
      "16/16 [==============================] - ETA: 0s - loss: 0.4172 - accuracy: 0.82 - 0s 2ms/step - loss: 0.4574 - accuracy: 0.7959\n",
      "Epoch 1/15\n",
      "64/64 [==============================] - ETA: 0s - loss: 2.9836 - accuracy: 0.72 - ETA: 0s - loss: 1.3198 - accuracy: 0.79 - ETA: 0s - loss: 1.0541 - accuracy: 0.79 - ETA: 0s - loss: 0.9293 - accuracy: 0.79 - 0s 3ms/step - loss: 0.9076 - accuracy: 0.7954\n",
      "Epoch 2/15\n",
      "64/64 [==============================] - ETA: 0s - loss: 0.5068 - accuracy: 0.84 - ETA: 0s - loss: 0.6329 - accuracy: 0.79 - ETA: 0s - loss: 0.6180 - accuracy: 0.79 - ETA: 0s - loss: 0.6133 - accuracy: 0.79 - 0s 3ms/step - loss: 0.6064 - accuracy: 0.7954\n",
      "Epoch 3/15\n",
      "64/64 [==============================] - ETA: 0s - loss: 0.4024 - accuracy: 0.87 - ETA: 0s - loss: 0.5522 - accuracy: 0.80 - ETA: 0s - loss: 0.5687 - accuracy: 0.79 - ETA: 0s - loss: 0.5547 - accuracy: 0.79 - 0s 3ms/step - loss: 0.5515 - accuracy: 0.7954\n",
      "Epoch 4/15\n",
      "64/64 [==============================] - ETA: 0s - loss: 0.5200 - accuracy: 0.81 - ETA: 0s - loss: 0.5203 - accuracy: 0.79 - ETA: 0s - loss: 0.5082 - accuracy: 0.80 - ETA: 0s - loss: 0.5140 - accuracy: 0.79 - ETA: 0s - loss: 0.5113 - accuracy: 0.79 - 0s 4ms/step - loss: 0.5119 - accuracy: 0.7954\n",
      "Epoch 5/15\n",
      "64/64 [==============================] - ETA: 0s - loss: 0.4611 - accuracy: 0.81 - ETA: 0s - loss: 0.4960 - accuracy: 0.80 - ETA: 0s - loss: 0.4796 - accuracy: 0.80 - ETA: 0s - loss: 0.4731 - accuracy: 0.80 - ETA: 0s - loss: 0.4902 - accuracy: 0.79 - ETA: 0s - loss: 0.4951 - accuracy: 0.79 - ETA: 0s - loss: 0.4836 - accuracy: 0.79 - 0s 6ms/step - loss: 0.4874 - accuracy: 0.7954\n",
      "Epoch 6/15\n",
      "64/64 [==============================] - ETA: 0s - loss: 0.5484 - accuracy: 0.75 - ETA: 0s - loss: 0.4644 - accuracy: 0.79 - ETA: 0s - loss: 0.4607 - accuracy: 0.79 - ETA: 0s - loss: 0.4598 - accuracy: 0.80 - ETA: 0s - loss: 0.4664 - accuracy: 0.79 - ETA: 0s - loss: 0.4659 - accuracy: 0.79 - ETA: 0s - loss: 0.4699 - accuracy: 0.79 - 0s 6ms/step - loss: 0.4711 - accuracy: 0.7954\n",
      "Epoch 7/15\n",
      "64/64 [==============================] - ETA: 0s - loss: 0.4657 - accuracy: 0.79 - ETA: 0s - loss: 0.4321 - accuracy: 0.80 - ETA: 0s - loss: 0.4405 - accuracy: 0.80 - ETA: 0s - loss: 0.4653 - accuracy: 0.79 - ETA: 0s - loss: 0.4687 - accuracy: 0.79 - ETA: 0s - loss: 0.4677 - accuracy: 0.79 - ETA: 0s - loss: 0.4635 - accuracy: 0.79 - 0s 5ms/step - loss: 0.4635 - accuracy: 0.7954\n",
      "Epoch 8/15\n",
      "64/64 [==============================] - ETA: 0s - loss: 0.4779 - accuracy: 0.77 - ETA: 0s - loss: 0.4551 - accuracy: 0.77 - ETA: 0s - loss: 0.4554 - accuracy: 0.79 - ETA: 0s - loss: 0.4483 - accuracy: 0.79 - ETA: 0s - loss: 0.4533 - accuracy: 0.79 - ETA: 0s - loss: 0.4546 - accuracy: 0.79 - ETA: 0s - loss: 0.4519 - accuracy: 0.79 - ETA: 0s - loss: 0.4575 - accuracy: 0.79 - 0s 6ms/step - loss: 0.4590 - accuracy: 0.7954\n",
      "Epoch 9/15\n",
      "64/64 [==============================] - ETA: 0s - loss: 0.4246 - accuracy: 0.78 - ETA: 0s - loss: 0.4880 - accuracy: 0.79 - ETA: 0s - loss: 0.4534 - accuracy: 0.80 - ETA: 0s - loss: 0.4577 - accuracy: 0.79 - ETA: 0s - loss: 0.4564 - accuracy: 0.79 - 0s 3ms/step - loss: 0.4562 - accuracy: 0.7954\n",
      "Epoch 10/15\n",
      "64/64 [==============================] - ETA: 0s - loss: 0.4321 - accuracy: 0.77 - ETA: 0s - loss: 0.4446 - accuracy: 0.79 - ETA: 0s - loss: 0.4502 - accuracy: 0.79 - ETA: 0s - loss: 0.4533 - accuracy: 0.79 - 0s 3ms/step - loss: 0.4532 - accuracy: 0.7954\n",
      "Epoch 11/15\n",
      "64/64 [==============================] - ETA: 0s - loss: 0.3716 - accuracy: 0.84 - ETA: 0s - loss: 0.4375 - accuracy: 0.79 - ETA: 0s - loss: 0.4685 - accuracy: 0.78 - ETA: 0s - loss: 0.4617 - accuracy: 0.78 - ETA: 0s - loss: 0.4649 - accuracy: 0.78 - ETA: 0s - loss: 0.4586 - accuracy: 0.78 - ETA: 0s - loss: 0.4568 - accuracy: 0.79 - ETA: 0s - loss: 0.4511 - accuracy: 0.79 - 0s 6ms/step - loss: 0.4511 - accuracy: 0.7951\n",
      "Epoch 12/15\n",
      "64/64 [==============================] - ETA: 0s - loss: 0.5023 - accuracy: 0.71 - ETA: 0s - loss: 0.4121 - accuracy: 0.80 - ETA: 0s - loss: 0.4251 - accuracy: 0.80 - ETA: 0s - loss: 0.4368 - accuracy: 0.79 - ETA: 0s - loss: 0.4416 - accuracy: 0.79 - ETA: 0s - loss: 0.4502 - accuracy: 0.79 - ETA: 0s - loss: 0.4488 - accuracy: 0.79 - 0s 6ms/step - loss: 0.4511 - accuracy: 0.7952\n",
      "Epoch 13/15\n",
      "64/64 [==============================] - ETA: 0s - loss: 0.6343 - accuracy: 0.79 - ETA: 0s - loss: 0.5006 - accuracy: 0.79 - ETA: 0s - loss: 0.4718 - accuracy: 0.79 - ETA: 0s - loss: 0.4509 - accuracy: 0.80 - ETA: 0s - loss: 0.4529 - accuracy: 0.79 - ETA: 0s - loss: 0.4520 - accuracy: 0.79 - ETA: 0s - loss: 0.4485 - accuracy: 0.79 - 0s 6ms/step - loss: 0.4501 - accuracy: 0.7954\n",
      "Epoch 14/15\n",
      "64/64 [==============================] - ETA: 0s - loss: 0.4124 - accuracy: 0.78 - ETA: 0s - loss: 0.4157 - accuracy: 0.80 - ETA: 0s - loss: 0.4358 - accuracy: 0.79 - ETA: 0s - loss: 0.4484 - accuracy: 0.79 - ETA: 0s - loss: 0.4543 - accuracy: 0.79 - ETA: 0s - loss: 0.4529 - accuracy: 0.79 - ETA: 0s - loss: 0.4511 - accuracy: 0.79 - ETA: 0s - loss: 0.4487 - accuracy: 0.79 - 0s 6ms/step - loss: 0.4495 - accuracy: 0.7949\n",
      "Epoch 15/15\n",
      "64/64 [==============================] - ETA: 0s - loss: 0.5194 - accuracy: 0.84 - ETA: 0s - loss: 0.4676 - accuracy: 0.78 - ETA: 0s - loss: 0.4536 - accuracy: 0.79 - ETA: 0s - loss: 0.4381 - accuracy: 0.80 - ETA: 0s - loss: 0.4424 - accuracy: 0.79 - ETA: 0s - loss: 0.4426 - accuracy: 0.79 - ETA: 0s - loss: 0.4464 - accuracy: 0.79 - 0s 6ms/step - loss: 0.4489 - accuracy: 0.7946\n",
      "16/16 [==============================] - ETA: 0s - loss: 0.4035 - accuracy: 0.84 - 0s 3ms/step - loss: 0.4398 - accuracy: 0.7939\n"
     ]
    }
   ],
   "source": [
    "model = KerasClassifier(build_fn = deep_model, epochs=15, batch_size = 100)\n",
    "kfold = StratifiedKFold(shuffle = True, random_state = 42)\n",
    "accuracies = cross_val_score(estimator = model, X = X_train, y = y_train, cv = kfold)"
   ]
  },
  {
   "cell_type": "code",
   "execution_count": 36,
   "metadata": {
    "ExecuteTime": {
     "end_time": "2020-10-30T18:49:58.790914Z",
     "start_time": "2020-10-30T18:49:58.258616Z"
    }
   },
   "outputs": [
    {
     "data": {
      "image/png": "[encoded data removed]",
      "text/plain": [
       "<Figure size 720x432 with 1 Axes>"
      ]
     },
     "metadata": {
      "needs_background": "light"
     },
     "output_type": "display_data"
    }
   ],
   "source": [
    "plt.subplots(figsize = (10,6))\n",
    "plt.plot(accuracies)\n",
    "plt.xlabel(\"K-fold values of Cross Validation Score\")\n",
    "plt.ylabel(\"Accuracies\")\n",
    "plt.title(\"Cross Validation Accuracies vs K-Folds of ANN\")\n",
    "plt.grid(axis = \"both\")\n",
    "\n",
    "plt.show()"
   ]
  },
  {
   "cell_type": "code",
   "execution_count": 37,
   "metadata": {
    "ExecuteTime": {
     "end_time": "2020-10-30T18:50:03.540591Z",
     "start_time": "2020-10-30T18:50:03.519923Z"
    }
   },
   "outputs": [
    {
     "name": "stdout",
     "output_type": "stream",
     "text": [
      "Best accuracy : 79.59 @ k-fold value of 3\n"
     ]
    }
   ],
   "source": [
    "print(\"Best accuracy : {} @ k-fold value of {}\".format(round(accuracies.max()*100,2),accuracies.argmax()))"
   ]
  },
  {
   "cell_type": "code",
   "execution_count": 39,
   "metadata": {
    "ExecuteTime": {
     "end_time": "2020-10-30T18:50:33.465551Z",
     "start_time": "2020-10-30T18:50:33.457308Z"
    }
   },
   "outputs": [],
   "source": [
    "from sklearn.model_selection import GridSearchCV\n",
    "\n",
    "def create_model1(optimizer=\"rmsprop\", init=\"glorot_uniform\"):\n",
    "        \n",
    "   \n",
    "    model = Sequential()\n",
    "    \n",
    "   \n",
    "    model.add(Dense(units = 14, kernel_initializer = init, activation = \"relu\", input_dim = 14))\n",
    "    \n",
    "   \n",
    "    model.add(Dense(1, kernel_initializer = init, activation = \"relu\"))\n",
    "    \n",
    "   \n",
    "  #  model.add(Dense(units = 4, kernel_initializer = init, activation = \"relu\"))\n",
    "        \n",
    "   \n",
    "  #  model.add(Dense(units = 1, kernel_initializer = init, activation = \"sigmoid\"))\n",
    "    \n",
    "   \n",
    "    model.compile(loss = \"binary_crossentropy\", optimizer = optimizer, metrics = [\"accuracy\"])\n",
    "    \n",
    "    return model"
   ]
  },
  {
   "cell_type": "code",
   "execution_count": 40,
   "metadata": {
    "ExecuteTime": {
     "end_time": "2020-10-30T18:52:25.639914Z",
     "start_time": "2020-10-30T18:50:37.550873Z"
    },
    "scrolled": false
   },
   "outputs": [
    {
     "name": "stdout",
     "output_type": "stream",
     "text": [
      "Epoch 1/15\n",
      "64/64 [==============================] - ETA: 0s - loss: 2.2379 - accuracy: 0.76 - ETA: 0s - loss: 2.3765 - accuracy: 0.75 - ETA: 0s - loss: 2.3359 - accuracy: 0.75 - 0s 2ms/step - loss: 2.2513 - accuracy: 0.7686\n",
      "Epoch 2/15\n",
      "64/64 [==============================] - ETA: 0s - loss: 1.8724 - accuracy: 0.81 - ETA: 0s - loss: 1.9353 - accuracy: 0.78 - ETA: 0s - loss: 2.0413 - accuracy: 0.78 - 0s 2ms/step - loss: 2.0560 - accuracy: 0.7861\n",
      "Epoch 3/15\n",
      "64/64 [==============================] - ETA: 0s - loss: 1.0856 - accuracy: 0.85 - ETA: 0s - loss: 2.0124 - accuracy: 0.78 - ETA: 0s - loss: 2.0416 - accuracy: 0.78 - ETA: 0s - loss: 1.9673 - accuracy: 0.79 - 0s 3ms/step - loss: 1.9248 - accuracy: 0.7927\n",
      "Epoch 4/15\n",
      "64/64 [==============================] - ETA: 0s - loss: 2.2992 - accuracy: 0.76 - ETA: 0s - loss: 2.0415 - accuracy: 0.77 - ETA: 0s - loss: 1.9105 - accuracy: 0.78 - ETA: 0s - loss: 1.8242 - accuracy: 0.79 - 0s 3ms/step - loss: 1.8130 - accuracy: 0.7969\n",
      "Epoch 5/15\n",
      "64/64 [==============================] - ETA: 0s - loss: 1.7707 - accuracy: 0.78 - ETA: 0s - loss: 1.6588 - accuracy: 0.80 - ETA: 0s - loss: 1.6706 - accuracy: 0.80 - ETA: 0s - loss: 1.6700 - accuracy: 0.80 - 0s 3ms/step - loss: 1.6669 - accuracy: 0.8002\n",
      "Epoch 6/15\n",
      "64/64 [==============================] - ETA: 0s - loss: 1.8177 - accuracy: 0.81 - ETA: 0s - loss: 1.5856 - accuracy: 0.79 - ETA: 0s - loss: 1.6248 - accuracy: 0.79 - ETA: 0s - loss: 1.5155 - accuracy: 0.80 - 0s 3ms/step - loss: 1.5132 - accuracy: 0.8044\n",
      "Epoch 7/15\n",
      "64/64 [==============================] - ETA: 0s - loss: 2.4022 - accuracy: 0.74 - ETA: 0s - loss: 1.4652 - accuracy: 0.80 - ETA: 0s - loss: 1.4609 - accuracy: 0.80 - ETA: 0s - loss: 1.4166 - accuracy: 0.81 - 0s 3ms/step - loss: 1.4155 - accuracy: 0.8113\n",
      "Epoch 8/15\n",
      "64/64 [==============================] - ETA: 0s - loss: 0.8036 - accuracy: 0.83 - ETA: 0s - loss: 1.2809 - accuracy: 0.82 - ETA: 0s - loss: 1.3016 - accuracy: 0.81 - ETA: 0s - loss: 1.3181 - accuracy: 0.81 - 0s 3ms/step - loss: 1.3388 - accuracy: 0.8126\n",
      "Epoch 9/15\n",
      "64/64 [==============================] - ETA: 0s - loss: 1.4749 - accuracy: 0.80 - ETA: 0s - loss: 1.1471 - accuracy: 0.81 - ETA: 0s - loss: 1.2197 - accuracy: 0.80 - ETA: 0s - loss: 1.2264 - accuracy: 0.80 - 0s 3ms/step - loss: 1.2322 - accuracy: 0.8087\n",
      "Epoch 10/15\n",
      "64/64 [==============================] - ETA: 0s - loss: 1.3694 - accuracy: 0.76 - ETA: 0s - loss: 1.2099 - accuracy: 0.80 - ETA: 0s - loss: 1.1999 - accuracy: 0.80 - ETA: 0s - loss: 1.1676 - accuracy: 0.81 - 0s 3ms/step - loss: 1.1802 - accuracy: 0.8088\n",
      "Epoch 11/15\n",
      "64/64 [==============================] - ETA: 0s - loss: 1.6377 - accuracy: 0.82 - ETA: 0s - loss: 1.2030 - accuracy: 0.81 - ETA: 0s - loss: 1.1465 - accuracy: 0.81 - ETA: 0s - loss: 1.1309 - accuracy: 0.81 - 0s 3ms/step - loss: 1.1392 - accuracy: 0.8104\n",
      "Epoch 12/15\n",
      "64/64 [==============================] - ETA: 0s - loss: 0.6842 - accuracy: 0.85 - ETA: 0s - loss: 0.9990 - accuracy: 0.81 - ETA: 0s - loss: 1.0275 - accuracy: 0.81 - ETA: 0s - loss: 1.0577 - accuracy: 0.80 - 0s 3ms/step - loss: 1.1050 - accuracy: 0.8095\n",
      "Epoch 13/15\n",
      "64/64 [==============================] - ETA: 0s - loss: 0.8263 - accuracy: 0.87 - ETA: 0s - loss: 1.0529 - accuracy: 0.80 - ETA: 0s - loss: 1.0367 - accuracy: 0.80 - ETA: 0s - loss: 1.0453 - accuracy: 0.81 - 0s 3ms/step - loss: 1.0726 - accuracy: 0.8143\n",
      "Epoch 14/15\n",
      "64/64 [==============================] - ETA: 0s - loss: 0.6958 - accuracy: 0.84 - ETA: 0s - loss: 0.9769 - accuracy: 0.82 - ETA: 0s - loss: 1.0353 - accuracy: 0.82 - ETA: 0s - loss: 1.0308 - accuracy: 0.82 - 0s 3ms/step - loss: 1.0371 - accuracy: 0.8195\n",
      "Epoch 15/15\n",
      "64/64 [==============================] - ETA: 0s - loss: 0.8839 - accuracy: 0.82 - ETA: 0s - loss: 1.0848 - accuracy: 0.81 - ETA: 0s - loss: 1.0039 - accuracy: 0.80 - ETA: 0s - loss: 1.0047 - accuracy: 0.81 - 0s 3ms/step - loss: 0.9872 - accuracy: 0.8145\n",
      "16/16 [==============================] - ETA: 0s - loss: 0.6736 - accuracy: 0.86 - 0s 2ms/step - loss: 0.9665 - accuracy: 0.8316\n",
      "Epoch 1/15\n",
      "64/64 [==============================] - ETA: 0s - loss: 4.2262 - accuracy: 0.60 - ETA: 0s - loss: 3.8804 - accuracy: 0.60 - ETA: 0s - loss: 3.7614 - accuracy: 0.60 - ETA: 0s - loss: 3.5641 - accuracy: 0.61 - 0s 3ms/step - loss: 3.5127 - accuracy: 0.6208\n",
      "Epoch 2/15\n",
      "64/64 [==============================] - ETA: 0s - loss: 3.3312 - accuracy: 0.68 - ETA: 0s - loss: 3.0424 - accuracy: 0.63 - ETA: 0s - loss: 2.8628 - accuracy: 0.65 - ETA: 0s - loss: 2.8138 - accuracy: 0.66 - 0s 3ms/step - loss: 2.7109 - accuracy: 0.6709\n",
      "Epoch 3/15\n",
      "64/64 [==============================] - ETA: 0s - loss: 2.9779 - accuracy: 0.63 - ETA: 0s - loss: 2.3581 - accuracy: 0.69 - ETA: 0s - loss: 2.1895 - accuracy: 0.71 - ETA: 0s - loss: 2.1983 - accuracy: 0.71 - 0s 3ms/step - loss: 2.1308 - accuracy: 0.7191\n",
      "Epoch 4/15\n",
      "64/64 [==============================] - ETA: 0s - loss: 1.3726 - accuracy: 0.77 - ETA: 0s - loss: 1.7716 - accuracy: 0.75 - ETA: 0s - loss: 1.7208 - accuracy: 0.75 - 0s 2ms/step - loss: 1.7230 - accuracy: 0.7456\n",
      "Epoch 5/15\n",
      "64/64 [==============================] - ETA: 0s - loss: 1.7015 - accuracy: 0.77 - ETA: 0s - loss: 1.5479 - accuracy: 0.74 - ETA: 0s - loss: 1.4178 - accuracy: 0.75 - 0s 2ms/step - loss: 1.3429 - accuracy: 0.7650\n",
      "Epoch 6/15\n",
      "64/64 [==============================] - ETA: 0s - loss: 1.3195 - accuracy: 0.73 - ETA: 0s - loss: 1.1699 - accuracy: 0.78 - ETA: 0s - loss: 1.1070 - accuracy: 0.78 - 0s 2ms/step - loss: 1.1005 - accuracy: 0.7813\n",
      "Epoch 7/15\n",
      "64/64 [==============================] - ETA: 0s - loss: 0.6585 - accuracy: 0.84 - ETA: 0s - loss: 1.0070 - accuracy: 0.77 - ETA: 0s - loss: 0.9187 - accuracy: 0.78 - ETA: 0s - loss: 0.9420 - accuracy: 0.79 - 0s 3ms/step - loss: 0.9507 - accuracy: 0.7897\n",
      "Epoch 8/15\n",
      "64/64 [==============================] - ETA: 0s - loss: 0.9914 - accuracy: 0.80 - ETA: 0s - loss: 0.8328 - accuracy: 0.79 - ETA: 0s - loss: 0.8232 - accuracy: 0.79 - ETA: 0s - loss: 0.7898 - accuracy: 0.79 - 0s 3ms/step - loss: 0.7879 - accuracy: 0.7907\n",
      "Epoch 9/15\n",
      "64/64 [==============================] - ETA: 0s - loss: 0.7153 - accuracy: 0.77 - ETA: 0s - loss: 0.6936 - accuracy: 0.79 - ETA: 0s - loss: 0.6937 - accuracy: 0.79 - ETA: 0s - loss: 0.6904 - accuracy: 0.79 - 0s 3ms/step - loss: 0.6935 - accuracy: 0.8001\n",
      "Epoch 10/15\n",
      "64/64 [==============================] - ETA: 0s - loss: 0.4135 - accuracy: 0.76 - ETA: 0s - loss: 0.6825 - accuracy: 0.79 - ETA: 0s - loss: 0.6885 - accuracy: 0.80 - ETA: 0s - loss: 0.6643 - accuracy: 0.80 - 0s 3ms/step - loss: 0.6657 - accuracy: 0.8073\n",
      "Epoch 11/15\n",
      "64/64 [==============================] - ETA: 0s - loss: 0.7918 - accuracy: 0.80 - ETA: 0s - loss: 0.6582 - accuracy: 0.81 - ETA: 0s - loss: 0.6387 - accuracy: 0.80 - ETA: 0s - loss: 0.6476 - accuracy: 0.81 - 0s 3ms/step - loss: 0.6342 - accuracy: 0.8115\n",
      "Epoch 12/15\n",
      "64/64 [==============================] - ETA: 0s - loss: 0.5189 - accuracy: 0.78 - ETA: 0s - loss: 0.5665 - accuracy: 0.81 - ETA: 0s - loss: 0.5951 - accuracy: 0.81 - ETA: 0s - loss: 0.5927 - accuracy: 0.81 - 0s 3ms/step - loss: 0.6011 - accuracy: 0.8127\n",
      "Epoch 13/15\n",
      "64/64 [==============================] - ETA: 0s - loss: 0.8672 - accuracy: 0.83 - ETA: 0s - loss: 0.6139 - accuracy: 0.81 - ETA: 0s - loss: 0.6361 - accuracy: 0.80 - ETA: 0s - loss: 0.5917 - accuracy: 0.80 - 0s 3ms/step - loss: 0.5759 - accuracy: 0.8124\n",
      "Epoch 14/15\n",
      "64/64 [==============================] - ETA: 0s - loss: 0.5531 - accuracy: 0.83 - ETA: 0s - loss: 0.5594 - accuracy: 0.81 - ETA: 0s - loss: 0.5671 - accuracy: 0.81 - 0s 2ms/step - loss: 0.5532 - accuracy: 0.8198\n",
      "Epoch 15/15\n",
      "64/64 [==============================] - ETA: 0s - loss: 0.6469 - accuracy: 0.80 - ETA: 0s - loss: 0.5511 - accuracy: 0.82 - ETA: 0s - loss: 0.5406 - accuracy: 0.81 - ETA: 0s - loss: 0.5477 - accuracy: 0.82 - 0s 3ms/step - loss: 0.5502 - accuracy: 0.8228\n",
      "16/16 [==============================] - ETA: 0s - loss: 0.8157 - accuracy: 0.82 - 0s 2ms/step - loss: 0.6673 - accuracy: 0.8134\n",
      "Epoch 1/15\n",
      "64/64 [==============================] - ETA: 0s - loss: 2.9980 - accuracy: 0.68 - ETA: 0s - loss: 2.3956 - accuracy: 0.72 - ETA: 0s - loss: 2.3910 - accuracy: 0.73 - ETA: 0s - loss: 2.3716 - accuracy: 0.73 - ETA: 0s - loss: 2.2687 - accuracy: 0.74 - 0s 4ms/step - loss: 2.2650 - accuracy: 0.7410\n",
      "Epoch 2/15\n",
      "64/64 [==============================] - ETA: 0s - loss: 3.6891 - accuracy: 0.63 - ETA: 0s - loss: 2.0925 - accuracy: 0.75 - ETA: 0s - loss: 2.0617 - accuracy: 0.75 - ETA: 0s - loss: 2.0010 - accuracy: 0.75 - ETA: 0s - loss: 1.9784 - accuracy: 0.75 - 0s 4ms/step - loss: 1.9813 - accuracy: 0.7515\n",
      "Epoch 3/15\n",
      "64/64 [==============================] - ETA: 0s - loss: 1.8925 - accuracy: 0.75 - ETA: 0s - loss: 1.8569 - accuracy: 0.75 - ETA: 0s - loss: 1.7982 - accuracy: 0.74 - ETA: 0s - loss: 1.7674 - accuracy: 0.75 - 0s 3ms/step - loss: 1.7378 - accuracy: 0.7576\n",
      "Epoch 4/15\n",
      "64/64 [==============================] - ETA: 0s - loss: 2.0095 - accuracy: 0.76 - ETA: 0s - loss: 1.4907 - accuracy: 0.77 - ETA: 0s - loss: 1.4754 - accuracy: 0.76 - ETA: 0s - loss: 1.4815 - accuracy: 0.76 - 0s 3ms/step - loss: 1.4695 - accuracy: 0.7631\n",
      "Epoch 5/15\n",
      "64/64 [==============================] - ETA: 0s - loss: 1.3617 - accuracy: 0.81 - ETA: 0s - loss: 1.4058 - accuracy: 0.76 - ETA: 0s - loss: 1.3628 - accuracy: 0.76 - ETA: 0s - loss: 1.3206 - accuracy: 0.76 - 0s 3ms/step - loss: 1.3161 - accuracy: 0.7687\n",
      "Epoch 6/15\n",
      "64/64 [==============================] - ETA: 0s - loss: 1.4957 - accuracy: 0.77 - ETA: 0s - loss: 1.2375 - accuracy: 0.78 - ETA: 0s - loss: 1.2212 - accuracy: 0.78 - ETA: 0s - loss: 1.2150 - accuracy: 0.78 - 0s 3ms/step - loss: 1.2168 - accuracy: 0.7828\n",
      "Epoch 7/15\n",
      "64/64 [==============================] - ETA: 0s - loss: 1.0559 - accuracy: 0.83 - ETA: 0s - loss: 1.1108 - accuracy: 0.79 - ETA: 0s - loss: 1.0976 - accuracy: 0.79 - ETA: 0s - loss: 1.1371 - accuracy: 0.78 - ETA: 0s - loss: 1.1047 - accuracy: 0.79 - 0s 4ms/step - loss: 1.1202 - accuracy: 0.7910\n",
      "Epoch 8/15\n",
      "64/64 [==============================] - ETA: 0s - loss: 1.1889 - accuracy: 0.82 - ETA: 0s - loss: 0.9460 - accuracy: 0.79 - ETA: 0s - loss: 0.9847 - accuracy: 0.79 - ETA: 0s - loss: 0.9955 - accuracy: 0.79 - 0s 3ms/step - loss: 1.0118 - accuracy: 0.7951\n",
      "Epoch 9/15\n",
      "64/64 [==============================] - ETA: 0s - loss: 0.3182 - accuracy: 0.85 - ETA: 0s - loss: 0.9828 - accuracy: 0.79 - ETA: 0s - loss: 0.9644 - accuracy: 0.79 - ETA: 0s - loss: 0.9566 - accuracy: 0.79 - 0s 3ms/step - loss: 0.9485 - accuracy: 0.7966\n",
      "Epoch 10/15\n",
      "64/64 [==============================] - ETA: 0s - loss: 0.7057 - accuracy: 0.81 - ETA: 0s - loss: 0.8749 - accuracy: 0.80 - ETA: 0s - loss: 0.9245 - accuracy: 0.79 - 0s 2ms/step - loss: 0.8915 - accuracy: 0.8013\n",
      "Epoch 11/15\n",
      "64/64 [==============================] - ETA: 0s - loss: 1.5523 - accuracy: 0.76 - ETA: 0s - loss: 0.8233 - accuracy: 0.80 - ETA: 0s - loss: 0.8090 - accuracy: 0.80 - ETA: 0s - loss: 0.8079 - accuracy: 0.80 - 0s 3ms/step - loss: 0.8318 - accuracy: 0.8059\n",
      "Epoch 12/15\n",
      "64/64 [==============================] - ETA: 0s - loss: 0.5104 - accuracy: 0.90 - ETA: 0s - loss: 0.7134 - accuracy: 0.80 - ETA: 0s - loss: 0.7880 - accuracy: 0.79 - ETA: 0s - loss: 0.7813 - accuracy: 0.79 - 0s 3ms/step - loss: 0.7619 - accuracy: 0.8030\n",
      "Epoch 13/15\n",
      "64/64 [==============================] - ETA: 0s - loss: 1.2945 - accuracy: 0.75 - ETA: 0s - loss: 0.7577 - accuracy: 0.81 - ETA: 0s - loss: 0.7753 - accuracy: 0.80 - ETA: 0s - loss: 0.7530 - accuracy: 0.80 - 0s 3ms/step - loss: 0.7493 - accuracy: 0.8080\n",
      "Epoch 14/15\n",
      "64/64 [==============================] - ETA: 0s - loss: 0.6070 - accuracy: 0.86 - ETA: 0s - loss: 0.7315 - accuracy: 0.82 - ETA: 0s - loss: 0.7196 - accuracy: 0.81 - ETA: 0s - loss: 0.7271 - accuracy: 0.81 - 0s 3ms/step - loss: 0.7058 - accuracy: 0.8126\n",
      "Epoch 15/15\n",
      "64/64 [==============================] - ETA: 0s - loss: 0.7380 - accuracy: 0.78 - ETA: 0s - loss: 0.7113 - accuracy: 0.81 - ETA: 0s - loss: 0.6733 - accuracy: 0.81 - ETA: 0s - loss: 0.6786 - accuracy: 0.81 - 0s 3ms/step - loss: 0.6786 - accuracy: 0.8174\n",
      "16/16 [==============================] - ETA: 0s - loss: 0.7220 - accuracy: 0.83 - 0s 2ms/step - loss: 0.6030 - accuracy: 0.8203\n",
      "Epoch 1/15\n",
      "64/64 [==============================] - ETA: 0s - loss: 4.1960 - accuracy: 0.61 - ETA: 0s - loss: 3.5668 - accuracy: 0.66 - ETA: 0s - loss: 3.3399 - accuracy: 0.69 - 0s 2ms/step - loss: 3.2490 - accuracy: 0.6981\n",
      "Epoch 2/15\n",
      "64/64 [==============================] - ETA: 0s - loss: 2.3655 - accuracy: 0.73 - ETA: 0s - loss: 2.8042 - accuracy: 0.74 - ETA: 0s - loss: 2.8287 - accuracy: 0.74 - 0s 2ms/step - loss: 2.8116 - accuracy: 0.7496\n",
      "Epoch 3/15\n",
      "64/64 [==============================] - ETA: 0s - loss: 2.6052 - accuracy: 0.79 - ETA: 0s - loss: 2.6404 - accuracy: 0.76 - ETA: 0s - loss: 2.6277 - accuracy: 0.76 - 0s 2ms/step - loss: 2.6352 - accuracy: 0.7664\n",
      "Epoch 4/15\n",
      "64/64 [==============================] - ETA: 0s - loss: 3.0285 - accuracy: 0.75 - ETA: 0s - loss: 2.5764 - accuracy: 0.77 - ETA: 0s - loss: 2.5847 - accuracy: 0.77 - ETA: 0s - loss: 2.5326 - accuracy: 0.77 - 0s 3ms/step - loss: 2.5200 - accuracy: 0.7775\n",
      "Epoch 5/15\n",
      "64/64 [==============================] - ETA: 0s - loss: 2.0884 - accuracy: 0.82 - ETA: 0s - loss: 2.4066 - accuracy: 0.78 - ETA: 0s - loss: 2.4507 - accuracy: 0.77 - ETA: 0s - loss: 2.3817 - accuracy: 0.78 - 0s 3ms/step - loss: 2.3839 - accuracy: 0.7806\n",
      "Epoch 6/15\n",
      "64/64 [==============================] - ETA: 0s - loss: 1.3755 - accuracy: 0.80 - ETA: 0s - loss: 2.2912 - accuracy: 0.77 - ETA: 0s - loss: 2.1355 - accuracy: 0.78 - 0s 2ms/step - loss: 2.1731 - accuracy: 0.7806\n",
      "Epoch 7/15\n",
      "64/64 [==============================] - ETA: 0s - loss: 1.2963 - accuracy: 0.84 - ETA: 0s - loss: 1.9287 - accuracy: 0.78 - ETA: 0s - loss: 1.9857 - accuracy: 0.78 - 0s 2ms/step - loss: 2.0151 - accuracy: 0.7847\n",
      "Epoch 8/15\n",
      "64/64 [==============================] - ETA: 0s - loss: 1.8612 - accuracy: 0.81 - ETA: 0s - loss: 1.8563 - accuracy: 0.79 - ETA: 0s - loss: 1.9190 - accuracy: 0.79 - ETA: 0s - loss: 1.9072 - accuracy: 0.79 - 0s 3ms/step - loss: 1.9002 - accuracy: 0.7921\n",
      "Epoch 9/15\n",
      "64/64 [==============================] - ETA: 0s - loss: 1.8177 - accuracy: 0.76 - ETA: 0s - loss: 1.7287 - accuracy: 0.79 - ETA: 0s - loss: 1.7858 - accuracy: 0.79 - ETA: 0s - loss: 1.7731 - accuracy: 0.78 - 0s 3ms/step - loss: 1.7760 - accuracy: 0.7875\n",
      "Epoch 10/15\n",
      "64/64 [==============================] - ETA: 0s - loss: 1.4845 - accuracy: 0.81 - ETA: 0s - loss: 1.7652 - accuracy: 0.77 - ETA: 0s - loss: 1.6769 - accuracy: 0.78 - ETA: 0s - loss: 1.6835 - accuracy: 0.78 - 0s 3ms/step - loss: 1.6536 - accuracy: 0.7850\n",
      "Epoch 11/15\n",
      "64/64 [==============================] - ETA: 0s - loss: 1.4325 - accuracy: 0.81 - ETA: 0s - loss: 1.6183 - accuracy: 0.78 - ETA: 0s - loss: 1.5105 - accuracy: 0.79 - ETA: 0s - loss: 1.4975 - accuracy: 0.79 - 0s 3ms/step - loss: 1.4975 - accuracy: 0.7922\n",
      "Epoch 12/15\n",
      "64/64 [==============================] - ETA: 0s - loss: 1.8354 - accuracy: 0.78 - ETA: 0s - loss: 1.4222 - accuracy: 0.79 - ETA: 0s - loss: 1.4509 - accuracy: 0.79 - ETA: 0s - loss: 1.4285 - accuracy: 0.79 - 0s 3ms/step - loss: 1.4156 - accuracy: 0.7963\n",
      "Epoch 13/15\n",
      "64/64 [==============================] - ETA: 0s - loss: 1.5665 - accuracy: 0.82 - ETA: 0s - loss: 1.2644 - accuracy: 0.79 - ETA: 0s - loss: 1.3059 - accuracy: 0.79 - ETA: 0s - loss: 1.3326 - accuracy: 0.79 - 0s 3ms/step - loss: 1.3326 - accuracy: 0.7949\n",
      "Epoch 14/15\n",
      "64/64 [==============================] - ETA: 0s - loss: 1.7072 - accuracy: 0.73 - ETA: 0s - loss: 1.2262 - accuracy: 0.79 - ETA: 0s - loss: 1.1964 - accuracy: 0.79 - ETA: 0s - loss: 1.1973 - accuracy: 0.79 - 0s 3ms/step - loss: 1.2071 - accuracy: 0.7904\n",
      "Epoch 15/15\n",
      "64/64 [==============================] - ETA: 0s - loss: 1.2003 - accuracy: 0.72 - ETA: 0s - loss: 1.1301 - accuracy: 0.77 - ETA: 0s - loss: 1.2288 - accuracy: 0.78 - ETA: 0s - loss: 1.1894 - accuracy: 0.79 - 0s 3ms/step - loss: 1.1657 - accuracy: 0.7927\n",
      "16/16 [==============================] - ETA: 0s - loss: 1.3320 - accuracy: 0.82 - 0s 2ms/step - loss: 1.2095 - accuracy: 0.7877\n",
      "Epoch 1/15\n"
     ]
    },
    {
     "name": "stdout",
     "output_type": "stream",
     "text": [
      "64/64 [==============================] - ETA: 0s - loss: 2.5818 - accuracy: 0.64 - ETA: 0s - loss: 2.5396 - accuracy: 0.65 - ETA: 0s - loss: 2.4950 - accuracy: 0.65 - ETA: 0s - loss: 2.3900 - accuracy: 0.67 - 0s 3ms/step - loss: 2.3403 - accuracy: 0.6788\n",
      "Epoch 2/15\n",
      "64/64 [==============================] - ETA: 0s - loss: 2.6278 - accuracy: 0.66 - ETA: 0s - loss: 1.8800 - accuracy: 0.71 - ETA: 0s - loss: 1.8205 - accuracy: 0.72 - ETA: 0s - loss: 1.8758 - accuracy: 0.73 - 0s 3ms/step - loss: 1.8949 - accuracy: 0.7301\n",
      "Epoch 3/15\n",
      "64/64 [==============================] - ETA: 0s - loss: 1.3367 - accuracy: 0.83 - ETA: 0s - loss: 1.8836 - accuracy: 0.74 - ETA: 0s - loss: 1.8626 - accuracy: 0.74 - ETA: 0s - loss: 1.7459 - accuracy: 0.75 - 0s 3ms/step - loss: 1.7363 - accuracy: 0.7553\n",
      "Epoch 4/15\n",
      "64/64 [==============================] - ETA: 0s - loss: 1.5190 - accuracy: 0.76 - ETA: 0s - loss: 1.5590 - accuracy: 0.74 - ETA: 0s - loss: 1.5340 - accuracy: 0.75 - ETA: 0s - loss: 1.5080 - accuracy: 0.76 - 0s 3ms/step - loss: 1.4934 - accuracy: 0.7669\n",
      "Epoch 5/15\n",
      "64/64 [==============================] - ETA: 0s - loss: 2.2895 - accuracy: 0.74 - ETA: 0s - loss: 1.4789 - accuracy: 0.77 - ETA: 0s - loss: 1.4317 - accuracy: 0.77 - ETA: 0s - loss: 1.3968 - accuracy: 0.77 - 0s 3ms/step - loss: 1.3991 - accuracy: 0.7747\n",
      "Epoch 6/15\n",
      "64/64 [==============================] - ETA: 0s - loss: 1.4018 - accuracy: 0.77 - ETA: 0s - loss: 1.2547 - accuracy: 0.78 - ETA: 0s - loss: 1.3261 - accuracy: 0.77 - ETA: 0s - loss: 1.2837 - accuracy: 0.78 - 0s 3ms/step - loss: 1.2998 - accuracy: 0.7802\n",
      "Epoch 7/15\n",
      "64/64 [==============================] - ETA: 0s - loss: 1.2352 - accuracy: 0.78 - ETA: 0s - loss: 1.1460 - accuracy: 0.78 - ETA: 0s - loss: 1.1948 - accuracy: 0.78 - ETA: 0s - loss: 1.1968 - accuracy: 0.78 - 0s 3ms/step - loss: 1.2067 - accuracy: 0.7841\n",
      "Epoch 8/15\n",
      "64/64 [==============================] - ETA: 0s - loss: 0.5612 - accuracy: 0.89 - ETA: 0s - loss: 1.1085 - accuracy: 0.80 - ETA: 0s - loss: 1.1024 - accuracy: 0.79 - 0s 2ms/step - loss: 1.1364 - accuracy: 0.7891\n",
      "Epoch 9/15\n",
      "64/64 [==============================] - ETA: 0s - loss: 0.5598 - accuracy: 0.87 - ETA: 0s - loss: 1.2182 - accuracy: 0.78 - ETA: 0s - loss: 1.1447 - accuracy: 0.79 - ETA: 0s - loss: 1.0845 - accuracy: 0.79 - 0s 3ms/step - loss: 1.0875 - accuracy: 0.7918\n",
      "Epoch 10/15\n",
      "64/64 [==============================] - ETA: 0s - loss: 0.7748 - accuracy: 0.83 - ETA: 0s - loss: 0.9143 - accuracy: 0.79 - ETA: 0s - loss: 1.0050 - accuracy: 0.78 - 0s 2ms/step - loss: 0.9804 - accuracy: 0.7827\n",
      "Epoch 11/15\n",
      "64/64 [==============================] - ETA: 0s - loss: 0.8887 - accuracy: 0.77 - ETA: 0s - loss: 0.9558 - accuracy: 0.78 - ETA: 0s - loss: 0.9537 - accuracy: 0.79 - 0s 2ms/step - loss: 0.9477 - accuracy: 0.7902\n",
      "Epoch 12/15\n",
      "64/64 [==============================] - ETA: 0s - loss: 1.3478 - accuracy: 0.76 - ETA: 0s - loss: 0.8691 - accuracy: 0.80 - ETA: 0s - loss: 0.8322 - accuracy: 0.79 - 0s 2ms/step - loss: 0.8392 - accuracy: 0.7948\n",
      "Epoch 13/15\n",
      "64/64 [==============================] - ETA: 0s - loss: 0.7508 - accuracy: 0.83 - ETA: 0s - loss: 0.8226 - accuracy: 0.78 - ETA: 0s - loss: 0.7953 - accuracy: 0.78 - 0s 2ms/step - loss: 0.7678 - accuracy: 0.7926\n",
      "Epoch 14/15\n",
      "64/64 [==============================] - ETA: 0s - loss: 0.7423 - accuracy: 0.76 - ETA: 0s - loss: 0.7444 - accuracy: 0.79 - ETA: 0s - loss: 0.7653 - accuracy: 0.78 - ETA: 0s - loss: 0.7353 - accuracy: 0.79 - 0s 3ms/step - loss: 0.7181 - accuracy: 0.7913\n",
      "Epoch 15/15\n",
      "64/64 [==============================] - ETA: 0s - loss: 0.8864 - accuracy: 0.76 - ETA: 0s - loss: 0.7325 - accuracy: 0.78 - ETA: 0s - loss: 0.7465 - accuracy: 0.79 - ETA: 0s - loss: 0.7173 - accuracy: 0.79 - 0s 3ms/step - loss: 0.7144 - accuracy: 0.7960\n",
      "16/16 [==============================] - ETA: 0s - loss: 0.7980 - accuracy: 0.82 - 0s 2ms/step - loss: 0.7759 - accuracy: 0.8114\n",
      "Epoch 1/15\n",
      "64/64 [==============================] - ETA: 0s - loss: 4.3150 - accuracy: 0.59 - ETA: 0s - loss: 2.5610 - accuracy: 0.73 - ETA: 0s - loss: 2.4909 - accuracy: 0.73 - ETA: 0s - loss: 2.3869 - accuracy: 0.74 - 0s 3ms/step - loss: 2.3696 - accuracy: 0.7412\n",
      "Epoch 2/15\n",
      "64/64 [==============================] - ETA: 0s - loss: 2.2358 - accuracy: 0.77 - ETA: 0s - loss: 2.0401 - accuracy: 0.75 - ETA: 0s - loss: 2.0225 - accuracy: 0.74 - ETA: 0s - loss: 1.9937 - accuracy: 0.75 - 0s 3ms/step - loss: 2.0046 - accuracy: 0.7554\n",
      "Epoch 3/15\n",
      "64/64 [==============================] - ETA: 0s - loss: 1.8179 - accuracy: 0.76 - ETA: 0s - loss: 1.7604 - accuracy: 0.76 - ETA: 0s - loss: 1.8189 - accuracy: 0.75 - ETA: 0s - loss: 1.8149 - accuracy: 0.75 - 0s 3ms/step - loss: 1.8161 - accuracy: 0.7492\n",
      "Epoch 4/15\n",
      "64/64 [==============================] - ETA: 0s - loss: 1.6283 - accuracy: 0.78 - ETA: 0s - loss: 1.9248 - accuracy: 0.72 - ETA: 0s - loss: 1.8136 - accuracy: 0.73 - ETA: 0s - loss: 1.8711 - accuracy: 0.73 - 0s 3ms/step - loss: 1.8052 - accuracy: 0.7338\n",
      "Epoch 5/15\n",
      "64/64 [==============================] - ETA: 0s - loss: 2.6161 - accuracy: 0.76 - ETA: 0s - loss: 1.7133 - accuracy: 0.74 - ETA: 0s - loss: 1.6704 - accuracy: 0.75 - ETA: 0s - loss: 1.7153 - accuracy: 0.74 - 0s 3ms/step - loss: 1.7648 - accuracy: 0.7393\n",
      "Epoch 6/15\n",
      "64/64 [==============================] - ETA: 0s - loss: 2.6331 - accuracy: 0.69 - ETA: 0s - loss: 1.7151 - accuracy: 0.74 - ETA: 0s - loss: 1.6435 - accuracy: 0.75 - ETA: 0s - loss: 1.7002 - accuracy: 0.74 - 0s 3ms/step - loss: 1.6778 - accuracy: 0.7471\n",
      "Epoch 7/15\n",
      "64/64 [==============================] - ETA: 0s - loss: 1.3863 - accuracy: 0.77 - ETA: 0s - loss: 1.5523 - accuracy: 0.77 - ETA: 0s - loss: 1.5568 - accuracy: 0.76 - ETA: 0s - loss: 1.5468 - accuracy: 0.76 - 0s 3ms/step - loss: 1.5965 - accuracy: 0.7579\n",
      "Epoch 8/15\n",
      "64/64 [==============================] - ETA: 0s - loss: 1.5327 - accuracy: 0.75 - ETA: 0s - loss: 1.6186 - accuracy: 0.75 - ETA: 0s - loss: 1.5636 - accuracy: 0.75 - ETA: 0s - loss: 1.5567 - accuracy: 0.76 - 0s 3ms/step - loss: 1.5543 - accuracy: 0.7669\n",
      "Epoch 9/15\n",
      "64/64 [==============================] - ETA: 0s - loss: 1.2550 - accuracy: 0.85 - ETA: 0s - loss: 1.6026 - accuracy: 0.76 - ETA: 0s - loss: 1.4924 - accuracy: 0.77 - ETA: 0s - loss: 1.5263 - accuracy: 0.77 - 0s 3ms/step - loss: 1.5298 - accuracy: 0.7731\n",
      "Epoch 10/15\n",
      "64/64 [==============================] - ETA: 0s - loss: 1.9185 - accuracy: 0.76 - ETA: 0s - loss: 1.4947 - accuracy: 0.79 - ETA: 0s - loss: 1.5480 - accuracy: 0.78 - ETA: 0s - loss: 1.5395 - accuracy: 0.78 - 0s 3ms/step - loss: 1.5395 - accuracy: 0.7819\n",
      "Epoch 11/15\n",
      "64/64 [==============================] - ETA: 0s - loss: 1.0769 - accuracy: 0.79 - ETA: 0s - loss: 1.5403 - accuracy: 0.76 - ETA: 0s - loss: 1.4842 - accuracy: 0.76 - ETA: 0s - loss: 1.4428 - accuracy: 0.76 - 0s 3ms/step - loss: 1.4381 - accuracy: 0.7619\n",
      "Epoch 12/15\n",
      "64/64 [==============================] - ETA: 0s - loss: 1.3994 - accuracy: 0.77 - ETA: 0s - loss: 1.4918 - accuracy: 0.76 - ETA: 0s - loss: 1.3886 - accuracy: 0.76 - ETA: 0s - loss: 1.3986 - accuracy: 0.76 - 0s 3ms/step - loss: 1.3944 - accuracy: 0.7656\n",
      "Epoch 13/15\n",
      "64/64 [==============================] - ETA: 0s - loss: 1.1836 - accuracy: 0.83 - ETA: 0s - loss: 1.3594 - accuracy: 0.77 - ETA: 0s - loss: 1.3964 - accuracy: 0.77 - ETA: 0s - loss: 1.3596 - accuracy: 0.77 - 0s 3ms/step - loss: 1.3564 - accuracy: 0.7700\n",
      "Epoch 14/15\n",
      "64/64 [==============================] - ETA: 0s - loss: 0.8471 - accuracy: 0.87 - ETA: 0s - loss: 1.1055 - accuracy: 0.78 - ETA: 0s - loss: 1.2331 - accuracy: 0.77 - ETA: 0s - loss: 1.3083 - accuracy: 0.77 - ETA: 0s - loss: 1.2942 - accuracy: 0.77 - ETA: 0s - loss: 1.2970 - accuracy: 0.77 - 0s 5ms/step - loss: 1.3284 - accuracy: 0.7703\n",
      "Epoch 15/15\n",
      "64/64 [==============================] - ETA: 0s - loss: 1.6813 - accuracy: 0.78 - ETA: 0s - loss: 1.2452 - accuracy: 0.78 - ETA: 0s - loss: 1.2666 - accuracy: 0.78 - ETA: 0s - loss: 1.3207 - accuracy: 0.78 - ETA: 0s - loss: 1.3834 - accuracy: 0.77 - ETA: 0s - loss: 1.3637 - accuracy: 0.77 - ETA: 0s - loss: 1.3212 - accuracy: 0.78 - 0s 5ms/step - loss: 1.3212 - accuracy: 0.7822\n",
      "16/16 [==============================] - ETA: 0s - loss: 0.7886 - accuracy: 0.79 - 0s 2ms/step - loss: 1.3030 - accuracy: 0.7783\n"
     ]
    },
    {
     "name": "stdout",
     "output_type": "stream",
     "text": [
      "Epoch 1/15\n",
      "64/64 [==============================] - ETA: 0s - loss: 2.5126 - accuracy: 0.82 - ETA: 0s - loss: 2.7995 - accuracy: 0.79 - ETA: 0s - loss: 2.7254 - accuracy: 0.79 - 0s 2ms/step - loss: 2.6562 - accuracy: 0.7900\n",
      "Epoch 2/15\n",
      "64/64 [==============================] - ETA: 0s - loss: 3.1424 - accuracy: 0.71 - ETA: 0s - loss: 2.3578 - accuracy: 0.77 - ETA: 0s - loss: 2.2490 - accuracy: 0.77 - 0s 2ms/step - loss: 2.2009 - accuracy: 0.7786\n",
      "Epoch 3/15\n",
      "64/64 [==============================] - ETA: 0s - loss: 1.9560 - accuracy: 0.79 - ETA: 0s - loss: 1.7818 - accuracy: 0.77 - ETA: 0s - loss: 1.8345 - accuracy: 0.77 - 0s 2ms/step - loss: 1.8795 - accuracy: 0.7675\n",
      "Epoch 4/15\n",
      "64/64 [==============================] - ETA: 0s - loss: 1.6943 - accuracy: 0.76 - ETA: 0s - loss: 1.8143 - accuracy: 0.74 - ETA: 0s - loss: 1.6833 - accuracy: 0.75 - ETA: 0s - loss: 1.7289 - accuracy: 0.75 - ETA: 0s - loss: 1.7372 - accuracy: 0.75 - ETA: 0s - loss: 1.7329 - accuracy: 0.75 - ETA: 0s - loss: 1.7590 - accuracy: 0.75 - 0s 6ms/step - loss: 1.7578 - accuracy: 0.7579\n",
      "Epoch 5/15\n",
      "64/64 [==============================] - ETA: 0s - loss: 1.7024 - accuracy: 0.80 - ETA: 0s - loss: 1.4684 - accuracy: 0.77 - ETA: 0s - loss: 1.5780 - accuracy: 0.76 - ETA: 0s - loss: 1.6601 - accuracy: 0.75 - ETA: 0s - loss: 1.6376 - accuracy: 0.75 - 0s 3ms/step - loss: 1.6326 - accuracy: 0.7565\n",
      "Epoch 6/15\n",
      "64/64 [==============================] - ETA: 0s - loss: 1.1562 - accuracy: 0.88 - ETA: 0s - loss: 1.5131 - accuracy: 0.76 - ETA: 0s - loss: 1.5095 - accuracy: 0.75 - ETA: 0s - loss: 1.4808 - accuracy: 0.75 - 0s 3ms/step - loss: 1.5030 - accuracy: 0.7531\n",
      "Epoch 7/15\n",
      "64/64 [==============================] - ETA: 0s - loss: 1.0189 - accuracy: 0.80 - ETA: 0s - loss: 1.4274 - accuracy: 0.76 - ETA: 0s - loss: 1.5823 - accuracy: 0.75 - ETA: 0s - loss: 1.4381 - accuracy: 0.76 - ETA: 0s - loss: 1.4219 - accuracy: 0.75 - ETA: 0s - loss: 1.4232 - accuracy: 0.75 - ETA: 0s - loss: 1.3823 - accuracy: 0.75 - ETA: 0s - loss: 1.4562 - accuracy: 0.75 - 0s 6ms/step - loss: 1.4625 - accuracy: 0.7528\n",
      "Epoch 8/15\n",
      "64/64 [==============================] - ETA: 0s - loss: 1.2543 - accuracy: 0.78 - ETA: 0s - loss: 1.3646 - accuracy: 0.75 - ETA: 0s - loss: 1.3671 - accuracy: 0.75 - ETA: 0s - loss: 1.3295 - accuracy: 0.75 - ETA: 0s - loss: 1.3470 - accuracy: 0.75 - ETA: 0s - loss: 1.3641 - accuracy: 0.75 - ETA: 0s - loss: 1.3750 - accuracy: 0.76 - ETA: 0s - loss: 1.4106 - accuracy: 0.75 - 0s 6ms/step - loss: 1.4210 - accuracy: 0.7592\n",
      "Epoch 9/15\n",
      "64/64 [==============================] - ETA: 0s - loss: 1.4402 - accuracy: 0.75 - ETA: 0s - loss: 1.4525 - accuracy: 0.76 - ETA: 0s - loss: 1.3554 - accuracy: 0.77 - ETA: 0s - loss: 1.3669 - accuracy: 0.76 - ETA: 0s - loss: 1.4073 - accuracy: 0.76 - ETA: 0s - loss: 1.4088 - accuracy: 0.76 - ETA: 0s - loss: 1.3963 - accuracy: 0.76 - 0s 6ms/step - loss: 1.3945 - accuracy: 0.7619\n",
      "Epoch 10/15\n",
      "64/64 [==============================] - ETA: 0s - loss: 1.2549 - accuracy: 0.76 - ETA: 0s - loss: 1.4181 - accuracy: 0.75 - ETA: 0s - loss: 1.3942 - accuracy: 0.74 - ETA: 0s - loss: 1.3216 - accuracy: 0.75 - ETA: 0s - loss: 1.3237 - accuracy: 0.75 - ETA: 0s - loss: 1.2995 - accuracy: 0.75 - ETA: 0s - loss: 1.2720 - accuracy: 0.75 - 0s 6ms/step - loss: 1.2615 - accuracy: 0.7522\n",
      "Epoch 11/15\n",
      "64/64 [==============================] - ETA: 0s - loss: 1.2835 - accuracy: 0.74 - ETA: 0s - loss: 1.3933 - accuracy: 0.72 - ETA: 0s - loss: 1.4309 - accuracy: 0.74 - ETA: 0s - loss: 1.3547 - accuracy: 0.74 - ETA: 0s - loss: 1.2746 - accuracy: 0.75 - ETA: 0s - loss: 1.2205 - accuracy: 0.75 - 0s 5ms/step - loss: 1.2038 - accuracy: 0.7592\n",
      "Epoch 12/15\n",
      "64/64 [==============================] - ETA: 0s - loss: 1.3756 - accuracy: 0.80 - ETA: 0s - loss: 1.1431 - accuracy: 0.76 - ETA: 0s - loss: 1.1654 - accuracy: 0.76 - 0s 2ms/step - loss: 1.1689 - accuracy: 0.7637\n",
      "Epoch 13/15\n",
      "64/64 [==============================] - ETA: 0s - loss: 1.4733 - accuracy: 0.74 - ETA: 0s - loss: 1.1302 - accuracy: 0.76 - ETA: 0s - loss: 1.1636 - accuracy: 0.76 - ETA: 0s - loss: 1.1405 - accuracy: 0.76 - 0s 3ms/step - loss: 1.1222 - accuracy: 0.7639\n",
      "Epoch 14/15\n",
      "64/64 [==============================] - ETA: 0s - loss: 1.2497 - accuracy: 0.80 - ETA: 0s - loss: 1.1569 - accuracy: 0.75 - ETA: 0s - loss: 1.0905 - accuracy: 0.74 - ETA: 0s - loss: 1.0924 - accuracy: 0.74 - ETA: 0s - loss: 1.0535 - accuracy: 0.74 - 0s 4ms/step - loss: 1.0458 - accuracy: 0.7418\n",
      "Epoch 15/15\n",
      "64/64 [==============================] - ETA: 0s - loss: 0.7512 - accuracy: 0.73 - ETA: 0s - loss: 0.9707 - accuracy: 0.73 - ETA: 0s - loss: 0.9985 - accuracy: 0.73 - ETA: 0s - loss: 0.9742 - accuracy: 0.74 - 0s 3ms/step - loss: 0.9679 - accuracy: 0.7420\n",
      "16/16 [==============================] - ETA: 0s - loss: 0.9925 - accuracy: 0.75 - 0s 2ms/step - loss: 0.9287 - accuracy: 0.7514\n",
      "Epoch 1/15\n",
      "64/64 [==============================] - ETA: 0s - loss: 2.5351 - accuracy: 0.81 - ETA: 0s - loss: 2.7373 - accuracy: 0.79 - ETA: 0s - loss: 2.6558 - accuracy: 0.79 - ETA: 0s - loss: 2.6901 - accuracy: 0.79 - 0s 3ms/step - loss: 2.6267 - accuracy: 0.7961\n",
      "Epoch 2/15\n",
      "64/64 [==============================] - ETA: 0s - loss: 3.1800 - accuracy: 0.74 - ETA: 0s - loss: 2.2265 - accuracy: 0.79 - ETA: 0s - loss: 2.2462 - accuracy: 0.79 - ETA: 0s - loss: 2.1879 - accuracy: 0.79 - 0s 3ms/step - loss: 2.1843 - accuracy: 0.7905\n",
      "Epoch 3/15\n",
      "64/64 [==============================] - ETA: 0s - loss: 2.3911 - accuracy: 0.77 - ETA: 0s - loss: 1.9123 - accuracy: 0.79 - ETA: 0s - loss: 1.9836 - accuracy: 0.79 - ETA: 0s - loss: 2.0439 - accuracy: 0.78 - 0s 3ms/step - loss: 2.0509 - accuracy: 0.7904\n",
      "Epoch 4/15\n",
      "64/64 [==============================] - ETA: 0s - loss: 1.8871 - accuracy: 0.80 - ETA: 0s - loss: 1.9265 - accuracy: 0.80 - ETA: 0s - loss: 2.1289 - accuracy: 0.79 - ETA: 0s - loss: 2.0691 - accuracy: 0.79 - 0s 3ms/step - loss: 2.0870 - accuracy: 0.7944\n",
      "Epoch 5/15\n",
      "64/64 [==============================] - ETA: 0s - loss: 2.2767 - accuracy: 0.79 - ETA: 0s - loss: 2.0290 - accuracy: 0.79 - ETA: 0s - loss: 2.0321 - accuracy: 0.79 - 0s 2ms/step - loss: 2.0477 - accuracy: 0.7941\n",
      "Epoch 6/15\n",
      "64/64 [==============================] - ETA: 0s - loss: 3.0740 - accuracy: 0.72 - ETA: 0s - loss: 2.0101 - accuracy: 0.79 - ETA: 0s - loss: 2.0154 - accuracy: 0.79 - ETA: 0s - loss: 1.9988 - accuracy: 0.79 - 0s 3ms/step - loss: 1.9698 - accuracy: 0.7941\n",
      "Epoch 7/15\n",
      "64/64 [==============================] - ETA: 0s - loss: 1.2783 - accuracy: 0.81 - ETA: 0s - loss: 1.9488 - accuracy: 0.80 - ETA: 0s - loss: 1.9090 - accuracy: 0.79 - ETA: 0s - loss: 1.9273 - accuracy: 0.79 - 0s 3ms/step - loss: 1.9428 - accuracy: 0.7924\n",
      "Epoch 8/15\n",
      "64/64 [==============================] - ETA: 0s - loss: 1.9791 - accuracy: 0.76 - ETA: 0s - loss: 1.9260 - accuracy: 0.77 - ETA: 0s - loss: 1.8883 - accuracy: 0.78 - ETA: 0s - loss: 1.8756 - accuracy: 0.78 - 0s 3ms/step - loss: 1.8727 - accuracy: 0.7860\n",
      "Epoch 9/15\n",
      "64/64 [==============================] - ETA: 0s - loss: 1.5899 - accuracy: 0.84 - ETA: 0s - loss: 1.9875 - accuracy: 0.78 - ETA: 0s - loss: 1.8683 - accuracy: 0.78 - 0s 2ms/step - loss: 1.8346 - accuracy: 0.7838\n",
      "Epoch 10/15\n",
      "64/64 [==============================] - ETA: 0s - loss: 1.7237 - accuracy: 0.73 - ETA: 0s - loss: 1.8273 - accuracy: 0.78 - ETA: 0s - loss: 1.8073 - accuracy: 0.78 - ETA: 0s - loss: 1.8286 - accuracy: 0.78 - 0s 3ms/step - loss: 1.8121 - accuracy: 0.7832\n",
      "Epoch 11/15\n",
      "64/64 [==============================] - ETA: 0s - loss: 1.7465 - accuracy: 0.78 - ETA: 0s - loss: 1.7678 - accuracy: 0.79 - ETA: 0s - loss: 1.7834 - accuracy: 0.79 - ETA: 0s - loss: 1.8091 - accuracy: 0.78 - 0s 3ms/step - loss: 1.8028 - accuracy: 0.7849\n",
      "Epoch 12/15\n",
      "64/64 [==============================] - ETA: 0s - loss: 1.4832 - accuracy: 0.77 - ETA: 0s - loss: 1.9174 - accuracy: 0.77 - ETA: 0s - loss: 1.9293 - accuracy: 0.77 - ETA: 0s - loss: 1.8066 - accuracy: 0.78 - 0s 3ms/step - loss: 1.7943 - accuracy: 0.7889\n",
      "Epoch 13/15\n",
      "64/64 [==============================] - ETA: 0s - loss: 2.2084 - accuracy: 0.80 - ETA: 0s - loss: 1.8921 - accuracy: 0.78 - ETA: 0s - loss: 1.7911 - accuracy: 0.79 - 0s 2ms/step - loss: 1.8005 - accuracy: 0.7922\n",
      "Epoch 14/15\n",
      "64/64 [==============================] - ETA: 0s - loss: 2.7684 - accuracy: 0.70 - ETA: 0s - loss: 1.7102 - accuracy: 0.79 - ETA: 0s - loss: 1.7588 - accuracy: 0.79 - 0s 2ms/step - loss: 1.8123 - accuracy: 0.7938\n",
      "Epoch 15/15\n",
      "64/64 [==============================] - ETA: 0s - loss: 1.7661 - accuracy: 0.80 - ETA: 0s - loss: 1.8977 - accuracy: 0.78 - ETA: 0s - loss: 1.8352 - accuracy: 0.79 - 0s 2ms/step - loss: 1.8196 - accuracy: 0.7963\n",
      "16/16 [==============================] - ETA: 0s - loss: 2.2423 - accuracy: 0.76 - 0s 2ms/step - loss: 1.8213 - accuracy: 0.7952\n",
      "Epoch 1/15\n",
      "64/64 [==============================] - ETA: 0s - loss: 4.0799 - accuracy: 0.52 - ETA: 0s - loss: 3.6347 - accuracy: 0.58 - ETA: 0s - loss: 3.2744 - accuracy: 0.60 - ETA: 0s - loss: 3.0587 - accuracy: 0.62 - 0s 3ms/step - loss: 3.0283 - accuracy: 0.6271\n",
      "Epoch 2/15\n",
      "64/64 [==============================] - ETA: 0s - loss: 1.8957 - accuracy: 0.74 - ETA: 0s - loss: 2.4086 - accuracy: 0.68 - ETA: 0s - loss: 2.2006 - accuracy: 0.70 - ETA: 0s - loss: 2.2606 - accuracy: 0.70 - 0s 3ms/step - loss: 2.1941 - accuracy: 0.7086\n",
      "Epoch 3/15\n",
      "64/64 [==============================] - ETA: 0s - loss: 1.6045 - accuracy: 0.73 - ETA: 0s - loss: 1.8962 - accuracy: 0.72 - ETA: 0s - loss: 1.8733 - accuracy: 0.74 - ETA: 0s - loss: 1.7791 - accuracy: 0.74 - 0s 3ms/step - loss: 1.7883 - accuracy: 0.7467\n",
      "Epoch 4/15\n",
      "64/64 [==============================] - ETA: 0s - loss: 1.5434 - accuracy: 0.75 - ETA: 0s - loss: 1.5665 - accuracy: 0.74 - ETA: 0s - loss: 1.5993 - accuracy: 0.75 - ETA: 0s - loss: 1.6187 - accuracy: 0.74 - 0s 3ms/step - loss: 1.6281 - accuracy: 0.7475\n",
      "Epoch 5/15\n",
      "64/64 [==============================] - ETA: 0s - loss: 1.4470 - accuracy: 0.68 - ETA: 0s - loss: 1.6042 - accuracy: 0.74 - ETA: 0s - loss: 1.5990 - accuracy: 0.74 - ETA: 0s - loss: 1.5710 - accuracy: 0.75 - 0s 3ms/step - loss: 1.5215 - accuracy: 0.7542\n",
      "Epoch 6/15\n",
      "64/64 [==============================] - ETA: 0s - loss: 1.6653 - accuracy: 0.79 - ETA: 0s - loss: 1.4351 - accuracy: 0.75 - ETA: 0s - loss: 1.5161 - accuracy: 0.74 - ETA: 0s - loss: 1.5349 - accuracy: 0.74 - 0s 3ms/step - loss: 1.4842 - accuracy: 0.7429\n",
      "Epoch 7/15\n",
      "64/64 [==============================] - ETA: 0s - loss: 1.3396 - accuracy: 0.74 - ETA: 0s - loss: 1.4027 - accuracy: 0.75 - ETA: 0s - loss: 1.4183 - accuracy: 0.74 - ETA: 0s - loss: 1.4132 - accuracy: 0.74 - 0s 3ms/step - loss: 1.4163 - accuracy: 0.7435\n",
      "Epoch 8/15\n",
      "64/64 [==============================] - ETA: 0s - loss: 1.4418 - accuracy: 0.75 - ETA: 0s - loss: 1.3588 - accuracy: 0.74 - ETA: 0s - loss: 1.3331 - accuracy: 0.74 - ETA: 0s - loss: 1.3161 - accuracy: 0.74 - 0s 3ms/step - loss: 1.3083 - accuracy: 0.7479\n",
      "Epoch 9/15\n",
      "64/64 [==============================] - ETA: 0s - loss: 1.5967 - accuracy: 0.73 - ETA: 0s - loss: 1.2734 - accuracy: 0.74 - ETA: 0s - loss: 1.2100 - accuracy: 0.74 - ETA: 0s - loss: 1.2267 - accuracy: 0.75 - ETA: 0s - loss: 1.2353 - accuracy: 0.75 - 0s 4ms/step - loss: 1.2221 - accuracy: 0.7556\n",
      "Epoch 10/15\n",
      "64/64 [==============================] - ETA: 0s - loss: 0.8321 - accuracy: 0.83 - ETA: 0s - loss: 1.1117 - accuracy: 0.76 - ETA: 0s - loss: 1.0655 - accuracy: 0.75 - ETA: 0s - loss: 1.1264 - accuracy: 0.75 - ETA: 0s - loss: 1.1528 - accuracy: 0.75 - 0s 4ms/step - loss: 1.1560 - accuracy: 0.7578\n",
      "Epoch 11/15\n",
      "64/64 [==============================] - ETA: 0s - loss: 1.6252 - accuracy: 0.71 - ETA: 0s - loss: 1.1659 - accuracy: 0.75 - ETA: 0s - loss: 1.0867 - accuracy: 0.75 - ETA: 0s - loss: 1.0719 - accuracy: 0.75 - ETA: 0s - loss: 1.0696 - accuracy: 0.75 - 0s 3ms/step - loss: 1.0696 - accuracy: 0.7561\n",
      "Epoch 12/15\n",
      "64/64 [==============================] - ETA: 0s - loss: 0.9629 - accuracy: 0.75 - ETA: 0s - loss: 0.9584 - accuracy: 0.75 - ETA: 0s - loss: 0.9719 - accuracy: 0.75 - ETA: 0s - loss: 0.9841 - accuracy: 0.75 - ETA: 0s - loss: 0.9865 - accuracy: 0.75 - 0s 4ms/step - loss: 0.9891 - accuracy: 0.7531\n",
      "Epoch 13/15\n",
      "64/64 [==============================] - ETA: 0s - loss: 0.8763 - accuracy: 0.75 - ETA: 0s - loss: 0.8433 - accuracy: 0.77 - ETA: 0s - loss: 0.8999 - accuracy: 0.75 - ETA: 0s - loss: 0.9146 - accuracy: 0.75 - ETA: 0s - loss: 0.9215 - accuracy: 0.75 - 0s 4ms/step - loss: 0.9366 - accuracy: 0.7558\n",
      "Epoch 14/15\n",
      "64/64 [==============================] - ETA: 0s - loss: 0.8811 - accuracy: 0.76 - ETA: 0s - loss: 0.8995 - accuracy: 0.76 - ETA: 0s - loss: 0.9109 - accuracy: 0.75 - ETA: 0s - loss: 0.9164 - accuracy: 0.74 - ETA: 0s - loss: 0.9176 - accuracy: 0.74 - 0s 4ms/step - loss: 0.9149 - accuracy: 0.7450\n",
      "Epoch 15/15\n",
      "64/64 [==============================] - ETA: 0s - loss: 0.7457 - accuracy: 0.77 - ETA: 0s - loss: 0.8839 - accuracy: 0.74 - ETA: 0s - loss: 0.9366 - accuracy: 0.73 - ETA: 0s - loss: 0.8688 - accuracy: 0.75 - ETA: 0s - loss: 0.8491 - accuracy: 0.75 - ETA: 0s - loss: 0.8576 - accuracy: 0.75 - 0s 5ms/step - loss: 0.8590 - accuracy: 0.7542\n",
      "16/16 [==============================] - ETA: 0s - loss: 0.9469 - accuracy: 0.76 - ETA: 0s - loss: 0.8893 - accuracy: 0.76 - 0s 4ms/step - loss: 0.8939 - accuracy: 0.7633\n",
      "Epoch 1/15\n",
      "64/64 [==============================] - ETA: 0s - loss: 3.0715 - accuracy: 0.68 - ETA: 0s - loss: 2.6922 - accuracy: 0.72 - ETA: 0s - loss: 2.7204 - accuracy: 0.72 - 0s 2ms/step - loss: 2.6710 - accuracy: 0.7237\n",
      "Epoch 2/15\n",
      "64/64 [==============================] - ETA: 0s - loss: 2.9262 - accuracy: 0.74 - ETA: 0s - loss: 2.3864 - accuracy: 0.73 - ETA: 0s - loss: 2.3311 - accuracy: 0.74 - 0s 2ms/step - loss: 2.3478 - accuracy: 0.7477\n",
      "Epoch 3/15\n",
      "64/64 [==============================] - ETA: 0s - loss: 3.0850 - accuracy: 0.70 - ETA: 0s - loss: 2.2698 - accuracy: 0.75 - ETA: 0s - loss: 2.1654 - accuracy: 0.75 - ETA: 0s - loss: 2.1985 - accuracy: 0.75 - 0s 3ms/step - loss: 2.1875 - accuracy: 0.7558\n",
      "Epoch 4/15\n",
      "64/64 [==============================] - ETA: 0s - loss: 2.7322 - accuracy: 0.76 - ETA: 0s - loss: 2.0746 - accuracy: 0.76 - ETA: 0s - loss: 2.1225 - accuracy: 0.75 - ETA: 0s - loss: 2.1370 - accuracy: 0.75 - 0s 3ms/step - loss: 2.1327 - accuracy: 0.7572\n",
      "Epoch 5/15\n",
      "64/64 [==============================] - ETA: 0s - loss: 1.8843 - accuracy: 0.73 - ETA: 0s - loss: 2.1763 - accuracy: 0.75 - ETA: 0s - loss: 2.1289 - accuracy: 0.76 - ETA: 0s - loss: 2.0306 - accuracy: 0.76 - ETA: 0s - loss: 2.0194 - accuracy: 0.76 - ETA: 0s - loss: 2.0647 - accuracy: 0.76 - ETA: 0s - loss: 2.0360 - accuracy: 0.76 - 0s 5ms/step - loss: 2.0377 - accuracy: 0.7611\n",
      "Epoch 6/15\n",
      "64/64 [==============================] - ETA: 0s - loss: 1.8840 - accuracy: 0.84 - ETA: 0s - loss: 1.7334 - accuracy: 0.77 - ETA: 0s - loss: 1.8033 - accuracy: 0.76 - ETA: 0s - loss: 1.9338 - accuracy: 0.76 - ETA: 0s - loss: 1.9638 - accuracy: 0.76 - ETA: 0s - loss: 1.9654 - accuracy: 0.76 - ETA: 0s - loss: 2.0314 - accuracy: 0.75 - ETA: 0s - loss: 2.0147 - accuracy: 0.75 - 0s 7ms/step - loss: 2.0099 - accuracy: 0.7597\n",
      "Epoch 7/15\n",
      "64/64 [==============================] - ETA: 0s - loss: 2.1027 - accuracy: 0.75 - ETA: 0s - loss: 1.8648 - accuracy: 0.75 - ETA: 0s - loss: 1.8453 - accuracy: 0.76 - ETA: 0s - loss: 1.9847 - accuracy: 0.75 - ETA: 0s - loss: 2.0130 - accuracy: 0.75 - ETA: 0s - loss: 1.9328 - accuracy: 0.76 - ETA: 0s - loss: 1.9290 - accuracy: 0.76 - ETA: 0s - loss: 1.9369 - accuracy: 0.75 - 0s 6ms/step - loss: 1.9369 - accuracy: 0.7592\n",
      "Epoch 8/15\n",
      "64/64 [==============================] - ETA: 0s - loss: 1.5891 - accuracy: 0.77 - ETA: 0s - loss: 1.5687 - accuracy: 0.76 - ETA: 0s - loss: 1.7376 - accuracy: 0.75 - ETA: 0s - loss: 1.8491 - accuracy: 0.75 - 0s 3ms/step - loss: 1.8547 - accuracy: 0.7580\n",
      "Epoch 9/15\n",
      "64/64 [==============================] - ETA: 0s - loss: 1.1862 - accuracy: 0.83 - ETA: 0s - loss: 1.7809 - accuracy: 0.76 - ETA: 0s - loss: 1.8600 - accuracy: 0.76 - ETA: 0s - loss: 1.9242 - accuracy: 0.76 - 0s 3ms/step - loss: 1.9105 - accuracy: 0.7700\n",
      "Epoch 10/15\n",
      "64/64 [==============================] - ETA: 0s - loss: 1.2053 - accuracy: 0.81 - ETA: 0s - loss: 1.9672 - accuracy: 0.77 - ETA: 0s - loss: 1.9847 - accuracy: 0.76 - 0s 2ms/step - loss: 1.9576 - accuracy: 0.7675\n",
      "Epoch 11/15\n"
     ]
    },
    {
     "name": "stdout",
     "output_type": "stream",
     "text": [
      "64/64 [==============================] - ETA: 0s - loss: 1.9829 - accuracy: 0.74 - ETA: 0s - loss: 1.8561 - accuracy: 0.77 - ETA: 0s - loss: 1.8985 - accuracy: 0.76 - ETA: 0s - loss: 1.8896 - accuracy: 0.76 - 0s 3ms/step - loss: 1.8813 - accuracy: 0.7642\n",
      "Epoch 12/15\n",
      "64/64 [==============================] - ETA: 0s - loss: 1.2942 - accuracy: 0.75 - ETA: 0s - loss: 1.8259 - accuracy: 0.76 - ETA: 0s - loss: 1.8248 - accuracy: 0.76 - ETA: 0s - loss: 1.8410 - accuracy: 0.75 - ETA: 0s - loss: 1.8414 - accuracy: 0.76 - 0s 4ms/step - loss: 1.8240 - accuracy: 0.7625\n",
      "Epoch 13/15\n",
      "64/64 [==============================] - ETA: 0s - loss: 1.9200 - accuracy: 0.75 - ETA: 0s - loss: 1.7947 - accuracy: 0.75 - ETA: 0s - loss: 1.8329 - accuracy: 0.75 - ETA: 0s - loss: 1.8635 - accuracy: 0.74 - ETA: 0s - loss: 1.7820 - accuracy: 0.75 - ETA: 0s - loss: 1.8124 - accuracy: 0.75 - ETA: 0s - loss: 1.8020 - accuracy: 0.76 - ETA: 0s - loss: 1.7848 - accuracy: 0.76 - 0s 6ms/step - loss: 1.7670 - accuracy: 0.7657\n",
      "Epoch 14/15\n",
      "64/64 [==============================] - ETA: 0s - loss: 1.8453 - accuracy: 0.70 - ETA: 0s - loss: 1.7880 - accuracy: 0.76 - ETA: 0s - loss: 1.7808 - accuracy: 0.76 - 0s 2ms/step - loss: 1.7381 - accuracy: 0.7685\n",
      "Epoch 15/15\n",
      "64/64 [==============================] - ETA: 0s - loss: 1.6817 - accuracy: 0.76 - ETA: 0s - loss: 1.6178 - accuracy: 0.76 - ETA: 0s - loss: 1.6633 - accuracy: 0.76 - ETA: 0s - loss: 1.6573 - accuracy: 0.77 - 0s 3ms/step - loss: 1.6792 - accuracy: 0.7691\n",
      "16/16 [==============================] - ETA: 0s - loss: 1.0589 - accuracy: 0.80 - 0s 2ms/step - loss: 1.4891 - accuracy: 0.7744\n",
      "Epoch 1/15\n",
      "64/64 [==============================] - ETA: 0s - loss: 2.3775 - accuracy: 0.84 - ETA: 0s - loss: 1.1469 - accuracy: 0.80 - ETA: 0s - loss: 0.8912 - accuracy: 0.79 - 0s 2ms/step - loss: 0.8062 - accuracy: 0.7965\n",
      "Epoch 2/15\n",
      "64/64 [==============================] - ETA: 0s - loss: 0.4842 - accuracy: 0.81 - ETA: 0s - loss: 0.5511 - accuracy: 0.78 - ETA: 0s - loss: 0.5199 - accuracy: 0.79 - ETA: 0s - loss: 0.5038 - accuracy: 0.79 - ETA: 0s - loss: 0.4838 - accuracy: 0.79 - 0s 3ms/step - loss: 0.4838 - accuracy: 0.7968\n",
      "Epoch 3/15\n",
      "64/64 [==============================] - ETA: 0s - loss: 0.3525 - accuracy: 0.87 - ETA: 0s - loss: 0.4192 - accuracy: 0.81 - ETA: 0s - loss: 0.4214 - accuracy: 0.80 - 0s 2ms/step - loss: 0.4244 - accuracy: 0.8070\n",
      "Epoch 4/15\n",
      "64/64 [==============================] - ETA: 0s - loss: 0.3561 - accuracy: 0.81 - ETA: 0s - loss: 0.4183 - accuracy: 0.80 - ETA: 0s - loss: 0.4158 - accuracy: 0.80 - ETA: 0s - loss: 0.4153 - accuracy: 0.81 - 0s 3ms/step - loss: 0.4175 - accuracy: 0.8107\n",
      "Epoch 5/15\n",
      "64/64 [==============================] - ETA: 0s - loss: 0.3866 - accuracy: 0.81 - ETA: 0s - loss: 0.4080 - accuracy: 0.82 - ETA: 0s - loss: 0.4048 - accuracy: 0.82 - ETA: 0s - loss: 0.4098 - accuracy: 0.81 - 0s 3ms/step - loss: 0.4067 - accuracy: 0.8146\n",
      "Epoch 6/15\n",
      "64/64 [==============================] - ETA: 0s - loss: 0.4501 - accuracy: 0.80 - ETA: 0s - loss: 0.3996 - accuracy: 0.82 - ETA: 0s - loss: 0.4183 - accuracy: 0.81 - ETA: 0s - loss: 0.4088 - accuracy: 0.81 - 0s 3ms/step - loss: 0.4046 - accuracy: 0.8195\n",
      "Epoch 7/15\n",
      "64/64 [==============================] - ETA: 0s - loss: 0.3858 - accuracy: 0.82 - ETA: 0s - loss: 0.3602 - accuracy: 0.84 - ETA: 0s - loss: 0.3919 - accuracy: 0.82 - ETA: 0s - loss: 0.3983 - accuracy: 0.82 - 0s 3ms/step - loss: 0.3977 - accuracy: 0.8225\n",
      "Epoch 8/15\n",
      "64/64 [==============================] - ETA: 0s - loss: 0.2954 - accuracy: 0.92 - ETA: 0s - loss: 0.3768 - accuracy: 0.83 - ETA: 0s - loss: 0.3838 - accuracy: 0.82 - ETA: 0s - loss: 0.3925 - accuracy: 0.82 - 0s 3ms/step - loss: 0.3912 - accuracy: 0.8284\n",
      "Epoch 9/15\n",
      "64/64 [==============================] - ETA: 0s - loss: 0.4732 - accuracy: 0.88 - ETA: 0s - loss: 0.3816 - accuracy: 0.82 - ETA: 0s - loss: 0.3859 - accuracy: 0.82 - ETA: 0s - loss: 0.3805 - accuracy: 0.83 - 0s 3ms/step - loss: 0.3879 - accuracy: 0.8325\n",
      "Epoch 10/15\n",
      "64/64 [==============================] - ETA: 0s - loss: 0.3587 - accuracy: 0.84 - ETA: 0s - loss: 0.3933 - accuracy: 0.83 - ETA: 0s - loss: 0.3888 - accuracy: 0.83 - ETA: 0s - loss: 0.3858 - accuracy: 0.83 - 0s 3ms/step - loss: 0.3839 - accuracy: 0.8370\n",
      "Epoch 11/15\n",
      "64/64 [==============================] - ETA: 0s - loss: 0.3423 - accuracy: 0.86 - ETA: 0s - loss: 0.3765 - accuracy: 0.84 - ETA: 0s - loss: 0.3801 - accuracy: 0.84 - ETA: 0s - loss: 0.3815 - accuracy: 0.84 - 0s 3ms/step - loss: 0.3815 - accuracy: 0.8408\n",
      "Epoch 12/15\n",
      "64/64 [==============================] - ETA: 0s - loss: 0.3737 - accuracy: 0.83 - ETA: 0s - loss: 0.3842 - accuracy: 0.83 - ETA: 0s - loss: 0.3745 - accuracy: 0.84 - 0s 2ms/step - loss: 0.3804 - accuracy: 0.8436\n",
      "Epoch 13/15\n",
      "64/64 [==============================] - ETA: 0s - loss: 0.3744 - accuracy: 0.86 - ETA: 0s - loss: 0.3864 - accuracy: 0.84 - ETA: 0s - loss: 0.3856 - accuracy: 0.84 - 0s 2ms/step - loss: 0.3821 - accuracy: 0.8469\n",
      "Epoch 14/15\n",
      "64/64 [==============================] - ETA: 0s - loss: 0.4951 - accuracy: 0.83 - ETA: 0s - loss: 0.4141 - accuracy: 0.83 - ETA: 0s - loss: 0.3956 - accuracy: 0.84 - ETA: 0s - loss: 0.3821 - accuracy: 0.84 - 0s 3ms/step - loss: 0.3834 - accuracy: 0.8489\n",
      "Epoch 15/15\n",
      "64/64 [==============================] - ETA: 0s - loss: 0.4102 - accuracy: 0.81 - ETA: 0s - loss: 0.3937 - accuracy: 0.84 - ETA: 0s - loss: 0.3865 - accuracy: 0.84 - 0s 2ms/step - loss: 0.3816 - accuracy: 0.8475\n",
      "16/16 [==============================] - ETA: 0s - loss: 0.4131 - accuracy: 0.88 - 0s 2ms/step - loss: 0.4055 - accuracy: 0.8284\n",
      "Epoch 1/15\n",
      "64/64 [==============================] - ETA: 0s - loss: 2.4342 - accuracy: 0.79 - ETA: 0s - loss: 0.8728 - accuracy: 0.79 - ETA: 0s - loss: 0.7448 - accuracy: 0.79 - 0s 2ms/step - loss: 0.7103 - accuracy: 0.7965\n",
      "Epoch 2/15\n",
      "64/64 [==============================] - ETA: 0s - loss: 0.7531 - accuracy: 0.68 - ETA: 0s - loss: 0.5097 - accuracy: 0.79 - ETA: 0s - loss: 0.4945 - accuracy: 0.78 - ETA: 0s - loss: 0.4745 - accuracy: 0.79 - 0s 3ms/step - loss: 0.4704 - accuracy: 0.7971\n",
      "Epoch 3/15\n",
      "64/64 [==============================] - ETA: 0s - loss: 0.4614 - accuracy: 0.80 - ETA: 0s - loss: 0.4313 - accuracy: 0.80 - ETA: 0s - loss: 0.4306 - accuracy: 0.80 - ETA: 0s - loss: 0.4251 - accuracy: 0.80 - 0s 3ms/step - loss: 0.4260 - accuracy: 0.8077\n",
      "Epoch 4/15\n",
      "64/64 [==============================] - ETA: 0s - loss: 0.3651 - accuracy: 0.82 - ETA: 0s - loss: 0.4284 - accuracy: 0.80 - ETA: 0s - loss: 0.4192 - accuracy: 0.81 - ETA: 0s - loss: 0.4138 - accuracy: 0.81 - 0s 3ms/step - loss: 0.4144 - accuracy: 0.8127\n",
      "Epoch 5/15\n",
      "64/64 [==============================] - ETA: 0s - loss: 0.4451 - accuracy: 0.79 - ETA: 0s - loss: 0.4161 - accuracy: 0.80 - ETA: 0s - loss: 0.4003 - accuracy: 0.82 - ETA: 0s - loss: 0.4066 - accuracy: 0.81 - 0s 3ms/step - loss: 0.4070 - accuracy: 0.8173\n",
      "Epoch 6/15\n",
      "64/64 [==============================] - ETA: 0s - loss: 0.3464 - accuracy: 0.85 - ETA: 0s - loss: 0.3980 - accuracy: 0.82 - ETA: 0s - loss: 0.3909 - accuracy: 0.82 - ETA: 0s - loss: 0.3932 - accuracy: 0.81 - 0s 3ms/step - loss: 0.3999 - accuracy: 0.8193\n",
      "Epoch 7/15\n",
      "64/64 [==============================] - ETA: 0s - loss: 0.3737 - accuracy: 0.83 - ETA: 0s - loss: 0.3903 - accuracy: 0.82 - ETA: 0s - loss: 0.4087 - accuracy: 0.81 - 0s 2ms/step - loss: 0.3954 - accuracy: 0.8239\n",
      "Epoch 8/15\n",
      "64/64 [==============================] - ETA: 0s - loss: 0.4127 - accuracy: 0.78 - ETA: 0s - loss: 0.3998 - accuracy: 0.81 - ETA: 0s - loss: 0.3994 - accuracy: 0.81 - ETA: 0s - loss: 0.3865 - accuracy: 0.82 - 0s 3ms/step - loss: 0.3910 - accuracy: 0.8245\n",
      "Epoch 9/15\n",
      "64/64 [==============================] - ETA: 0s - loss: 0.3407 - accuracy: 0.86 - ETA: 0s - loss: 0.3963 - accuracy: 0.82 - ETA: 0s - loss: 0.3892 - accuracy: 0.82 - ETA: 0s - loss: 0.3896 - accuracy: 0.82 - 0s 3ms/step - loss: 0.3884 - accuracy: 0.8297\n",
      "Epoch 10/15\n",
      "64/64 [==============================] - ETA: 0s - loss: 0.4411 - accuracy: 0.78 - ETA: 0s - loss: 0.3816 - accuracy: 0.82 - ETA: 0s - loss: 0.3762 - accuracy: 0.83 - ETA: 0s - loss: 0.3905 - accuracy: 0.83 - 0s 3ms/step - loss: 0.3857 - accuracy: 0.8329\n",
      "Epoch 11/15\n",
      "64/64 [==============================] - ETA: 0s - loss: 0.4257 - accuracy: 0.80 - ETA: 0s - loss: 0.3817 - accuracy: 0.83 - ETA: 0s - loss: 0.3852 - accuracy: 0.83 - 0s 2ms/step - loss: 0.3848 - accuracy: 0.8337\n",
      "Epoch 12/15\n",
      "64/64 [==============================] - ETA: 0s - loss: 0.3375 - accuracy: 0.88 - ETA: 0s - loss: 0.3704 - accuracy: 0.84 - ETA: 0s - loss: 0.3756 - accuracy: 0.83 - 0s 3ms/step - loss: 0.3806 - accuracy: 0.8361\n",
      "Epoch 13/15\n",
      "64/64 [==============================] - ETA: 0s - loss: 0.4109 - accuracy: 0.79 - ETA: 0s - loss: 0.3774 - accuracy: 0.84 - ETA: 0s - loss: 0.3657 - accuracy: 0.84 - ETA: 0s - loss: 0.3689 - accuracy: 0.83 - ETA: 0s - loss: 0.3722 - accuracy: 0.84 - ETA: 0s - loss: 0.3816 - accuracy: 0.83 - ETA: 0s - loss: 0.3854 - accuracy: 0.84 - 0s 5ms/step - loss: 0.3866 - accuracy: 0.8400\n",
      "Epoch 14/15\n",
      "64/64 [==============================] - ETA: 0s - loss: 0.3999 - accuracy: 0.81 - ETA: 0s - loss: 0.3910 - accuracy: 0.83 - ETA: 0s - loss: 0.3866 - accuracy: 0.83 - ETA: 0s - loss: 0.3749 - accuracy: 0.84 - ETA: 0s - loss: 0.3786 - accuracy: 0.84 - ETA: 0s - loss: 0.3777 - accuracy: 0.84 - 0s 5ms/step - loss: 0.3826 - accuracy: 0.8414\n",
      "Epoch 15/15\n",
      "64/64 [==============================] - ETA: 0s - loss: 0.3463 - accuracy: 0.84 - ETA: 0s - loss: 0.3993 - accuracy: 0.82 - ETA: 0s - loss: 0.3813 - accuracy: 0.83 - ETA: 0s - loss: 0.3828 - accuracy: 0.83 - ETA: 0s - loss: 0.3883 - accuracy: 0.83 - ETA: 0s - loss: 0.3811 - accuracy: 0.84 - 0s 5ms/step - loss: 0.3811 - accuracy: 0.8433\n",
      "16/16 [==============================] - ETA: 0s - loss: 0.4819 - accuracy: 0.88 - 0s 2ms/step - loss: 0.4278 - accuracy: 0.8528\n",
      "Epoch 1/15\n",
      "64/64 [==============================] - ETA: 0s - loss: 2.3804 - accuracy: 0.80 - ETA: 0s - loss: 0.9675 - accuracy: 0.79 - ETA: 0s - loss: 0.7918 - accuracy: 0.79 - ETA: 0s - loss: 0.7016 - accuracy: 0.79 - 0s 3ms/step - loss: 0.7016 - accuracy: 0.7963\n",
      "Epoch 2/15\n",
      "64/64 [==============================] - ETA: 0s - loss: 0.5594 - accuracy: 0.78 - ETA: 0s - loss: 0.4934 - accuracy: 0.78 - ETA: 0s - loss: 0.4732 - accuracy: 0.79 - 0s 2ms/step - loss: 0.4603 - accuracy: 0.7969\n",
      "Epoch 3/15\n",
      "64/64 [==============================] - ETA: 0s - loss: 0.4090 - accuracy: 0.80 - ETA: 0s - loss: 0.4297 - accuracy: 0.80 - ETA: 0s - loss: 0.4193 - accuracy: 0.80 - 0s 2ms/step - loss: 0.4239 - accuracy: 0.8087\n",
      "Epoch 4/15\n",
      "64/64 [==============================] - ETA: 0s - loss: 0.4347 - accuracy: 0.82 - ETA: 0s - loss: 0.4129 - accuracy: 0.81 - ETA: 0s - loss: 0.4212 - accuracy: 0.80 - ETA: 0s - loss: 0.4091 - accuracy: 0.81 - ETA: 0s - loss: 0.4079 - accuracy: 0.81 - ETA: 0s - loss: 0.4085 - accuracy: 0.81 - ETA: 0s - loss: 0.4120 - accuracy: 0.81 - 0s 5ms/step - loss: 0.4114 - accuracy: 0.8140\n",
      "Epoch 5/15\n",
      "64/64 [==============================] - ETA: 0s - loss: 0.3345 - accuracy: 0.88 - ETA: 0s - loss: 0.3796 - accuracy: 0.83 - ETA: 0s - loss: 0.3974 - accuracy: 0.82 - ETA: 0s - loss: 0.3994 - accuracy: 0.82 - ETA: 0s - loss: 0.4013 - accuracy: 0.81 - ETA: 0s - loss: 0.4042 - accuracy: 0.81 - ETA: 0s - loss: 0.4021 - accuracy: 0.81 - ETA: 0s - loss: 0.4019 - accuracy: 0.81 - 0s 6ms/step - loss: 0.4024 - accuracy: 0.8171\n",
      "Epoch 6/15\n",
      "64/64 [==============================] - ETA: 0s - loss: 0.3959 - accuracy: 0.83 - ETA: 0s - loss: 0.3970 - accuracy: 0.82 - ETA: 0s - loss: 0.3979 - accuracy: 0.82 - 0s 2ms/step - loss: 0.3951 - accuracy: 0.8228\n",
      "Epoch 7/15\n",
      "64/64 [==============================] - ETA: 0s - loss: 0.4139 - accuracy: 0.81 - ETA: 0s - loss: 0.3805 - accuracy: 0.82 - ETA: 0s - loss: 0.3927 - accuracy: 0.82 - ETA: 0s - loss: 0.3927 - accuracy: 0.82 - 0s 3ms/step - loss: 0.3889 - accuracy: 0.8276\n",
      "Epoch 8/15\n",
      "64/64 [==============================] - ETA: 0s - loss: 0.3502 - accuracy: 0.81 - ETA: 0s - loss: 0.3770 - accuracy: 0.83 - ETA: 0s - loss: 0.3845 - accuracy: 0.83 - ETA: 0s - loss: 0.3816 - accuracy: 0.83 - 0s 3ms/step - loss: 0.3814 - accuracy: 0.8318\n",
      "Epoch 9/15\n",
      "64/64 [==============================] - ETA: 0s - loss: 0.3334 - accuracy: 0.86 - ETA: 0s - loss: 0.3705 - accuracy: 0.84 - ETA: 0s - loss: 0.3779 - accuracy: 0.83 - 0s 2ms/step - loss: 0.3789 - accuracy: 0.8367\n",
      "Epoch 10/15\n",
      "64/64 [==============================] - ETA: 0s - loss: 0.2685 - accuracy: 0.88 - ETA: 0s - loss: 0.3593 - accuracy: 0.84 - ETA: 0s - loss: 0.3772 - accuracy: 0.84 - 0s 2ms/step - loss: 0.3855 - accuracy: 0.8397\n",
      "Epoch 11/15\n",
      "64/64 [==============================] - ETA: 0s - loss: 0.4468 - accuracy: 0.81 - ETA: 0s - loss: 0.3669 - accuracy: 0.84 - ETA: 0s - loss: 0.3729 - accuracy: 0.84 - 0s 2ms/step - loss: 0.3767 - accuracy: 0.8420\n",
      "Epoch 12/15\n",
      "64/64 [==============================] - ETA: 0s - loss: 0.3200 - accuracy: 0.88 - ETA: 0s - loss: 0.3703 - accuracy: 0.83 - ETA: 0s - loss: 0.3804 - accuracy: 0.84 - ETA: 0s - loss: 0.3747 - accuracy: 0.84 - ETA: 0s - loss: 0.3822 - accuracy: 0.84 - ETA: 0s - loss: 0.3803 - accuracy: 0.84 - 0s 4ms/step - loss: 0.3801 - accuracy: 0.8439\n",
      "Epoch 13/15\n",
      "64/64 [==============================] - ETA: 0s - loss: 0.3594 - accuracy: 0.80 - ETA: 0s - loss: 0.3643 - accuracy: 0.84 - ETA: 0s - loss: 0.3754 - accuracy: 0.83 - ETA: 0s - loss: 0.3674 - accuracy: 0.84 - ETA: 0s - loss: 0.3808 - accuracy: 0.84 - 0s 4ms/step - loss: 0.3803 - accuracy: 0.8472\n",
      "Epoch 14/15\n",
      "64/64 [==============================] - ETA: 0s - loss: 0.3432 - accuracy: 0.84 - ETA: 0s - loss: 0.3669 - accuracy: 0.85 - ETA: 0s - loss: 0.3729 - accuracy: 0.85 - ETA: 0s - loss: 0.3744 - accuracy: 0.85 - 0s 3ms/step - loss: 0.3762 - accuracy: 0.8486\n",
      "Epoch 15/15\n",
      "64/64 [==============================] - ETA: 0s - loss: 0.3653 - accuracy: 0.84 - ETA: 0s - loss: 0.3784 - accuracy: 0.83 - ETA: 0s - loss: 0.3721 - accuracy: 0.84 - ETA: 0s - loss: 0.3752 - accuracy: 0.84 - 0s 3ms/step - loss: 0.3723 - accuracy: 0.8506\n",
      "16/16 [==============================] - ETA: 0s - loss: 0.3933 - accuracy: 0.83 - 0s 2ms/step - loss: 0.4084 - accuracy: 0.8397\n",
      "Epoch 1/15\n",
      " 1/64 [..............................] - ETA: 0s - loss: 1.7866 - accuracy: 0.8500WARNING:tensorflow:Callbacks method `on_train_batch_end` is slow compared to the batch time (batch time: 0.0000s vs `on_train_batch_end` time: 0.0047s). Check your callbacks.\n",
      "64/64 [==============================] - ETA: 0s - loss: 0.8752 - accuracy: 0.80 - ETA: 0s - loss: 0.7880 - accuracy: 0.79 - ETA: 0s - loss: 0.7312 - accuracy: 0.79 - 0s 3ms/step - loss: 0.6915 - accuracy: 0.7941\n",
      "Epoch 2/15\n",
      "64/64 [==============================] - ETA: 0s - loss: 0.6283 - accuracy: 0.75 - ETA: 0s - loss: 0.5197 - accuracy: 0.78 - ETA: 0s - loss: 0.4848 - accuracy: 0.79 - ETA: 0s - loss: 0.4693 - accuracy: 0.79 - 0s 3ms/step - loss: 0.4656 - accuracy: 0.7960\n",
      "Epoch 3/15\n",
      "64/64 [==============================] - ETA: 0s - loss: 0.4645 - accuracy: 0.76 - ETA: 0s - loss: 0.4245 - accuracy: 0.79 - ETA: 0s - loss: 0.4230 - accuracy: 0.81 - ETA: 0s - loss: 0.4286 - accuracy: 0.80 - 0s 3ms/step - loss: 0.4248 - accuracy: 0.8079\n",
      "Epoch 4/15\n",
      "64/64 [==============================] - ETA: 0s - loss: 0.4104 - accuracy: 0.80 - ETA: 0s - loss: 0.4144 - accuracy: 0.80 - ETA: 0s - loss: 0.4106 - accuracy: 0.81 - 0s 2ms/step - loss: 0.4125 - accuracy: 0.8142\n",
      "Epoch 5/15\n",
      "64/64 [==============================] - ETA: 0s - loss: 0.2961 - accuracy: 0.89 - ETA: 0s - loss: 0.4091 - accuracy: 0.82 - ETA: 0s - loss: 0.3977 - accuracy: 0.81 - ETA: 0s - loss: 0.4027 - accuracy: 0.81 - 0s 3ms/step - loss: 0.4027 - accuracy: 0.8156\n",
      "Epoch 6/15\n",
      "64/64 [==============================] - ETA: 0s - loss: 0.4690 - accuracy: 0.83 - ETA: 0s - loss: 0.3924 - accuracy: 0.81 - ETA: 0s - loss: 0.3928 - accuracy: 0.81 - 0s 2ms/step - loss: 0.3931 - accuracy: 0.8199\n",
      "Epoch 7/15\n",
      "64/64 [==============================] - ETA: 0s - loss: 0.4341 - accuracy: 0.76 - ETA: 0s - loss: 0.3941 - accuracy: 0.81 - ETA: 0s - loss: 0.3858 - accuracy: 0.82 - 0s 2ms/step - loss: 0.3852 - accuracy: 0.8253\n",
      "Epoch 8/15\n",
      "64/64 [==============================] - ETA: 0s - loss: 0.3753 - accuracy: 0.82 - ETA: 0s - loss: 0.3779 - accuracy: 0.82 - ETA: 0s - loss: 0.3830 - accuracy: 0.82 - 0s 2ms/step - loss: 0.3786 - accuracy: 0.8307\n",
      "Epoch 9/15\n"
     ]
    },
    {
     "name": "stdout",
     "output_type": "stream",
     "text": [
      "64/64 [==============================] - ETA: 0s - loss: 0.2916 - accuracy: 0.89 - ETA: 0s - loss: 0.3824 - accuracy: 0.82 - ETA: 0s - loss: 0.3765 - accuracy: 0.83 - ETA: 0s - loss: 0.3741 - accuracy: 0.83 - 0s 3ms/step - loss: 0.3745 - accuracy: 0.8369\n",
      "Epoch 10/15\n",
      "64/64 [==============================] - ETA: 0s - loss: 0.3703 - accuracy: 0.82 - ETA: 0s - loss: 0.3634 - accuracy: 0.83 - ETA: 0s - loss: 0.3673 - accuracy: 0.83 - ETA: 0s - loss: 0.3709 - accuracy: 0.83 - 0s 3ms/step - loss: 0.3703 - accuracy: 0.8409\n",
      "Epoch 11/15\n",
      "64/64 [==============================] - ETA: 0s - loss: 0.3275 - accuracy: 0.86 - ETA: 0s - loss: 0.3451 - accuracy: 0.85 - ETA: 0s - loss: 0.3642 - accuracy: 0.84 - ETA: 0s - loss: 0.3665 - accuracy: 0.84 - 0s 3ms/step - loss: 0.3666 - accuracy: 0.8439\n",
      "Epoch 12/15\n",
      "64/64 [==============================] - ETA: 0s - loss: 0.3487 - accuracy: 0.82 - ETA: 0s - loss: 0.3778 - accuracy: 0.83 - ETA: 0s - loss: 0.3741 - accuracy: 0.84 - ETA: 0s - loss: 0.3731 - accuracy: 0.84 - 0s 3ms/step - loss: 0.3678 - accuracy: 0.8455\n",
      "Epoch 13/15\n",
      "64/64 [==============================] - ETA: 0s - loss: 0.5172 - accuracy: 0.84 - ETA: 0s - loss: 0.3624 - accuracy: 0.84 - ETA: 0s - loss: 0.3619 - accuracy: 0.84 - ETA: 0s - loss: 0.3679 - accuracy: 0.84 - 0s 3ms/step - loss: 0.3670 - accuracy: 0.8472\n",
      "Epoch 14/15\n",
      "64/64 [==============================] - ETA: 0s - loss: 0.4096 - accuracy: 0.81 - ETA: 0s - loss: 0.3684 - accuracy: 0.84 - 0s 2ms/step - loss: 0.3674 - accuracy: 0.8461\n",
      "Epoch 15/15\n",
      "64/64 [==============================] - ETA: 0s - loss: 0.3168 - accuracy: 0.87 - ETA: 0s - loss: 0.3736 - accuracy: 0.85 - ETA: 0s - loss: 0.3726 - accuracy: 0.84 - 0s 2ms/step - loss: 0.3728 - accuracy: 0.8495\n",
      "16/16 [==============================] - ETA: 0s - loss: 0.4604 - accuracy: 0.89 - 0s 3ms/step - loss: 0.4046 - accuracy: 0.8472\n",
      "Epoch 1/15\n",
      "64/64 [==============================] - ETA: 0s - loss: 2.3973 - accuracy: 0.84 - ETA: 0s - loss: 1.0809 - accuracy: 0.81 - ETA: 0s - loss: 0.9076 - accuracy: 0.80 - ETA: 0s - loss: 0.8188 - accuracy: 0.79 - 0s 3ms/step - loss: 0.7856 - accuracy: 0.7940\n",
      "Epoch 2/15\n",
      "64/64 [==============================] - ETA: 0s - loss: 0.5501 - accuracy: 0.79 - ETA: 0s - loss: 0.5100 - accuracy: 0.80 - ETA: 0s - loss: 0.4936 - accuracy: 0.79 - ETA: 0s - loss: 0.4847 - accuracy: 0.79 - 0s 3ms/step - loss: 0.4828 - accuracy: 0.7943\n",
      "Epoch 3/15\n",
      "64/64 [==============================] - ETA: 0s - loss: 0.4211 - accuracy: 0.82 - ETA: 0s - loss: 0.4364 - accuracy: 0.79 - ETA: 0s - loss: 0.4337 - accuracy: 0.80 - ETA: 0s - loss: 0.4401 - accuracy: 0.80 - 0s 3ms/step - loss: 0.4387 - accuracy: 0.8031\n",
      "Epoch 4/15\n",
      "64/64 [==============================] - ETA: 0s - loss: 0.4439 - accuracy: 0.79 - ETA: 0s - loss: 0.4408 - accuracy: 0.79 - ETA: 0s - loss: 0.4278 - accuracy: 0.80 - ETA: 0s - loss: 0.4268 - accuracy: 0.80 - 0s 3ms/step - loss: 0.4258 - accuracy: 0.8082\n",
      "Epoch 5/15\n",
      "64/64 [==============================] - ETA: 0s - loss: 0.3834 - accuracy: 0.84 - ETA: 0s - loss: 0.4394 - accuracy: 0.80 - ETA: 0s - loss: 0.4196 - accuracy: 0.81 - ETA: 0s - loss: 0.4240 - accuracy: 0.80 - 0s 3ms/step - loss: 0.4226 - accuracy: 0.8092\n",
      "Epoch 6/15\n",
      "64/64 [==============================] - ETA: 0s - loss: 0.3078 - accuracy: 0.88 - ETA: 0s - loss: 0.4019 - accuracy: 0.81 - ETA: 0s - loss: 0.4025 - accuracy: 0.81 - ETA: 0s - loss: 0.4119 - accuracy: 0.80 - 0s 3ms/step - loss: 0.4124 - accuracy: 0.8125\n",
      "Epoch 7/15\n",
      "64/64 [==============================] - ETA: 0s - loss: 0.3174 - accuracy: 0.86 - ETA: 0s - loss: 0.4128 - accuracy: 0.81 - ETA: 0s - loss: 0.4139 - accuracy: 0.81 - ETA: 0s - loss: 0.4107 - accuracy: 0.81 - 0s 3ms/step - loss: 0.4109 - accuracy: 0.8140\n",
      "Epoch 8/15\n",
      "64/64 [==============================] - ETA: 0s - loss: 0.3380 - accuracy: 0.84 - ETA: 0s - loss: 0.3759 - accuracy: 0.82 - ETA: 0s - loss: 0.4072 - accuracy: 0.82 - ETA: 0s - loss: 0.4086 - accuracy: 0.82 - 0s 3ms/step - loss: 0.4080 - accuracy: 0.8215\n",
      "Epoch 9/15\n",
      "64/64 [==============================] - ETA: 0s - loss: 0.3422 - accuracy: 0.84 - ETA: 0s - loss: 0.3850 - accuracy: 0.83 - ETA: 0s - loss: 0.3902 - accuracy: 0.83 - 0s 3ms/step - loss: 0.4035 - accuracy: 0.8253\n",
      "Epoch 10/15\n",
      "64/64 [==============================] - ETA: 0s - loss: 0.3189 - accuracy: 0.88 - ETA: 0s - loss: 0.3770 - accuracy: 0.83 - ETA: 0s - loss: 0.4053 - accuracy: 0.83 - ETA: 0s - loss: 0.4101 - accuracy: 0.82 - 0s 3ms/step - loss: 0.4101 - accuracy: 0.8294\n",
      "Epoch 11/15\n",
      "64/64 [==============================] - ETA: 0s - loss: 0.7244 - accuracy: 0.74 - ETA: 0s - loss: 0.3998 - accuracy: 0.84 - ETA: 0s - loss: 0.3900 - accuracy: 0.84 - ETA: 0s - loss: 0.4065 - accuracy: 0.83 - ETA: 0s - loss: 0.4100 - accuracy: 0.83 - ETA: 0s - loss: 0.4092 - accuracy: 0.83 - 0s 5ms/step - loss: 0.4051 - accuracy: 0.8311\n",
      "Epoch 12/15\n",
      "64/64 [==============================] - ETA: 0s - loss: 0.3521 - accuracy: 0.86 - ETA: 0s - loss: 0.3667 - accuracy: 0.84 - ETA: 0s - loss: 0.3879 - accuracy: 0.82 - ETA: 0s - loss: 0.3962 - accuracy: 0.83 - ETA: 0s - loss: 0.3969 - accuracy: 0.83 - ETA: 0s - loss: 0.3994 - accuracy: 0.83 - 0s 5ms/step - loss: 0.4022 - accuracy: 0.8359\n",
      "Epoch 13/15\n",
      "64/64 [==============================] - ETA: 0s - loss: 0.3397 - accuracy: 0.88 - ETA: 0s - loss: 0.3802 - accuracy: 0.83 - ETA: 0s - loss: 0.3836 - accuracy: 0.85 - ETA: 0s - loss: 0.3961 - accuracy: 0.84 - ETA: 0s - loss: 0.4047 - accuracy: 0.83 - ETA: 0s - loss: 0.4083 - accuracy: 0.83 - ETA: 0s - loss: 0.4003 - accuracy: 0.83 - 0s 5ms/step - loss: 0.4005 - accuracy: 0.8392\n",
      "Epoch 14/15\n",
      "64/64 [==============================] - ETA: 0s - loss: 0.3664 - accuracy: 0.81 - ETA: 0s - loss: 0.4157 - accuracy: 0.82 - ETA: 0s - loss: 0.4058 - accuracy: 0.82 - ETA: 0s - loss: 0.3880 - accuracy: 0.83 - ETA: 0s - loss: 0.3913 - accuracy: 0.83 - ETA: 0s - loss: 0.3956 - accuracy: 0.83 - ETA: 0s - loss: 0.3935 - accuracy: 0.84 - 0s 5ms/step - loss: 0.3952 - accuracy: 0.8414\n",
      "Epoch 15/15\n",
      "64/64 [==============================] - ETA: 0s - loss: 0.3881 - accuracy: 0.80 - ETA: 0s - loss: 0.3864 - accuracy: 0.84 - ETA: 0s - loss: 0.3873 - accuracy: 0.84 - 0s 2ms/step - loss: 0.3934 - accuracy: 0.8431\n",
      "16/16 [==============================] - ETA: 0s - loss: 0.3446 - accuracy: 0.84 - 0s 2ms/step - loss: 0.3887 - accuracy: 0.8622\n",
      "Epoch 1/15\n",
      "64/64 [==============================] - ETA: 0s - loss: 1.5752 - accuracy: 0.79 - ETA: 0s - loss: 0.9738 - accuracy: 0.78 - ETA: 0s - loss: 0.7893 - accuracy: 0.79 - 0s 2ms/step - loss: 0.7290 - accuracy: 0.7965\n",
      "Epoch 2/15\n",
      "64/64 [==============================] - ETA: 0s - loss: 0.6887 - accuracy: 0.75 - ETA: 0s - loss: 0.5265 - accuracy: 0.81 - ETA: 0s - loss: 0.5312 - accuracy: 0.80 - ETA: 0s - loss: 0.5324 - accuracy: 0.80 - 0s 3ms/step - loss: 0.5344 - accuracy: 0.7965\n",
      "Epoch 3/15\n",
      "64/64 [==============================] - ETA: 0s - loss: 0.5739 - accuracy: 0.76 - ETA: 0s - loss: 0.4810 - accuracy: 0.80 - ETA: 0s - loss: 0.4766 - accuracy: 0.79 - ETA: 0s - loss: 0.4720 - accuracy: 0.79 - 0s 3ms/step - loss: 0.4707 - accuracy: 0.7965\n",
      "Epoch 4/15\n",
      "64/64 [==============================] - ETA: 0s - loss: 0.4357 - accuracy: 0.79 - ETA: 0s - loss: 0.4282 - accuracy: 0.81 - ETA: 0s - loss: 0.4428 - accuracy: 0.79 - ETA: 0s - loss: 0.4455 - accuracy: 0.79 - ETA: 0s - loss: 0.4408 - accuracy: 0.80 - 0s 4ms/step - loss: 0.4411 - accuracy: 0.8004\n",
      "Epoch 5/15\n",
      "64/64 [==============================] - ETA: 0s - loss: 0.4708 - accuracy: 0.80 - ETA: 0s - loss: 0.4337 - accuracy: 0.80 - ETA: 0s - loss: 0.4335 - accuracy: 0.80 - ETA: 0s - loss: 0.4273 - accuracy: 0.80 - 0s 3ms/step - loss: 0.4268 - accuracy: 0.8091\n",
      "Epoch 6/15\n",
      "64/64 [==============================] - ETA: 0s - loss: 0.3896 - accuracy: 0.83 - ETA: 0s - loss: 0.4163 - accuracy: 0.81 - ETA: 0s - loss: 0.4225 - accuracy: 0.81 - ETA: 0s - loss: 0.4191 - accuracy: 0.81 - 0s 3ms/step - loss: 0.4187 - accuracy: 0.8115\n",
      "Epoch 7/15\n",
      "64/64 [==============================] - ETA: 0s - loss: 0.4107 - accuracy: 0.81 - ETA: 0s - loss: 0.3979 - accuracy: 0.82 - ETA: 0s - loss: 0.4072 - accuracy: 0.81 - ETA: 0s - loss: 0.4116 - accuracy: 0.81 - 0s 3ms/step - loss: 0.4132 - accuracy: 0.8126\n",
      "Epoch 8/15\n",
      "64/64 [==============================] - ETA: 0s - loss: 0.3931 - accuracy: 0.86 - ETA: 0s - loss: 0.4072 - accuracy: 0.82 - ETA: 0s - loss: 0.4156 - accuracy: 0.81 - 0s 2ms/step - loss: 0.4092 - accuracy: 0.8137\n",
      "Epoch 9/15\n",
      "64/64 [==============================] - ETA: 0s - loss: 0.4272 - accuracy: 0.80 - ETA: 0s - loss: 0.4137 - accuracy: 0.80 - ETA: 0s - loss: 0.4150 - accuracy: 0.80 - ETA: 0s - loss: 0.4102 - accuracy: 0.80 - ETA: 0s - loss: 0.4116 - accuracy: 0.80 - 0s 4ms/step - loss: 0.4116 - accuracy: 0.8070\n",
      "Epoch 10/15\n",
      "64/64 [==============================] - ETA: 0s - loss: 0.4846 - accuracy: 0.78 - ETA: 0s - loss: 0.4219 - accuracy: 0.80 - ETA: 0s - loss: 0.4071 - accuracy: 0.80 - ETA: 0s - loss: 0.4213 - accuracy: 0.79 - ETA: 0s - loss: 0.4177 - accuracy: 0.80 - ETA: 0s - loss: 0.4153 - accuracy: 0.80 - ETA: 0s - loss: 0.4113 - accuracy: 0.80 - 0s 5ms/step - loss: 0.4089 - accuracy: 0.8102\n",
      "Epoch 11/15\n",
      "64/64 [==============================] - ETA: 0s - loss: 0.4550 - accuracy: 0.81 - ETA: 0s - loss: 0.3970 - accuracy: 0.81 - ETA: 0s - loss: 0.4016 - accuracy: 0.81 - ETA: 0s - loss: 0.4047 - accuracy: 0.81 - ETA: 0s - loss: 0.4139 - accuracy: 0.80 - ETA: 0s - loss: 0.4042 - accuracy: 0.81 - 0s 5ms/step - loss: 0.4035 - accuracy: 0.8127\n",
      "Epoch 12/15\n",
      "64/64 [==============================] - ETA: 0s - loss: 0.4012 - accuracy: 0.82 - ETA: 0s - loss: 0.4079 - accuracy: 0.80 - ETA: 0s - loss: 0.4067 - accuracy: 0.81 - ETA: 0s - loss: 0.4022 - accuracy: 0.81 - 0s 3ms/step - loss: 0.4001 - accuracy: 0.8156\n",
      "Epoch 13/15\n",
      "64/64 [==============================] - ETA: 0s - loss: 0.3888 - accuracy: 0.81 - ETA: 0s - loss: 0.3953 - accuracy: 0.81 - ETA: 0s - loss: 0.3921 - accuracy: 0.81 - ETA: 0s - loss: 0.3970 - accuracy: 0.81 - 0s 3ms/step - loss: 0.3976 - accuracy: 0.8159\n",
      "Epoch 14/15\n",
      "64/64 [==============================] - ETA: 0s - loss: 0.4696 - accuracy: 0.75 - ETA: 0s - loss: 0.4067 - accuracy: 0.80 - ETA: 0s - loss: 0.4042 - accuracy: 0.81 - ETA: 0s - loss: 0.3960 - accuracy: 0.81 - ETA: 0s - loss: 0.3982 - accuracy: 0.81 - 0s 4ms/step - loss: 0.3956 - accuracy: 0.8174\n",
      "Epoch 15/15\n",
      "64/64 [==============================] - ETA: 0s - loss: 0.4558 - accuracy: 0.77 - ETA: 0s - loss: 0.4062 - accuracy: 0.81 - ETA: 0s - loss: 0.3974 - accuracy: 0.81 - ETA: 0s - loss: 0.3881 - accuracy: 0.82 - ETA: 0s - loss: 0.3903 - accuracy: 0.82 - ETA: 0s - loss: 0.3913 - accuracy: 0.82 - 0s 4ms/step - loss: 0.3936 - accuracy: 0.8173\n",
      "16/16 [==============================] - ETA: 0s - loss: 0.3569 - accuracy: 0.85 - 0s 3ms/step - loss: 0.3915 - accuracy: 0.8103\n",
      "Epoch 1/15\n",
      "64/64 [==============================] - ETA: 0s - loss: 1.2230 - accuracy: 0.80 - ETA: 0s - loss: 0.9914 - accuracy: 0.79 - ETA: 0s - loss: 0.8639 - accuracy: 0.79 - ETA: 0s - loss: 0.7942 - accuracy: 0.79 - 0s 3ms/step - loss: 0.7800 - accuracy: 0.7965\n",
      "Epoch 2/15\n",
      "64/64 [==============================] - ETA: 0s - loss: 0.7599 - accuracy: 0.75 - ETA: 0s - loss: 0.5773 - accuracy: 0.80 - ETA: 0s - loss: 0.5710 - accuracy: 0.79 - ETA: 0s - loss: 0.5657 - accuracy: 0.79 - 0s 3ms/step - loss: 0.5639 - accuracy: 0.7965\n",
      "Epoch 3/15\n",
      "64/64 [==============================] - ETA: 0s - loss: 0.5776 - accuracy: 0.76 - ETA: 0s - loss: 0.4805 - accuracy: 0.80 - ETA: 0s - loss: 0.4850 - accuracy: 0.80 - ETA: 0s - loss: 0.4840 - accuracy: 0.79 - 0s 3ms/step - loss: 0.4877 - accuracy: 0.7965\n",
      "Epoch 4/15\n",
      "64/64 [==============================] - ETA: 0s - loss: 0.6129 - accuracy: 0.69 - ETA: 0s - loss: 0.4628 - accuracy: 0.79 - ETA: 0s - loss: 0.4472 - accuracy: 0.80 - ETA: 0s - loss: 0.4493 - accuracy: 0.79 - 0s 3ms/step - loss: 0.4493 - accuracy: 0.7966\n",
      "Epoch 5/15\n",
      "64/64 [==============================] - ETA: 0s - loss: 0.6047 - accuracy: 0.69 - ETA: 0s - loss: 0.4435 - accuracy: 0.79 - ETA: 0s - loss: 0.4339 - accuracy: 0.79 - ETA: 0s - loss: 0.4324 - accuracy: 0.79 - 0s 3ms/step - loss: 0.4305 - accuracy: 0.8001\n",
      "Epoch 6/15\n",
      "64/64 [==============================] - ETA: 0s - loss: 0.5946 - accuracy: 0.72 - ETA: 0s - loss: 0.4217 - accuracy: 0.80 - ETA: 0s - loss: 0.4252 - accuracy: 0.80 - ETA: 0s - loss: 0.4215 - accuracy: 0.80 - 0s 3ms/step - loss: 0.4208 - accuracy: 0.8076\n",
      "Epoch 7/15\n",
      "64/64 [==============================] - ETA: 0s - loss: 0.3804 - accuracy: 0.80 - ETA: 0s - loss: 0.4263 - accuracy: 0.80 - ETA: 0s - loss: 0.4240 - accuracy: 0.80 - ETA: 0s - loss: 0.4115 - accuracy: 0.81 - 0s 3ms/step - loss: 0.4148 - accuracy: 0.8106\n",
      "Epoch 8/15\n",
      "64/64 [==============================] - ETA: 0s - loss: 0.3496 - accuracy: 0.83 - ETA: 0s - loss: 0.4187 - accuracy: 0.79 - ETA: 0s - loss: 0.4179 - accuracy: 0.80 - ETA: 0s - loss: 0.4106 - accuracy: 0.81 - 0s 3ms/step - loss: 0.4106 - accuracy: 0.8098\n",
      "Epoch 9/15\n",
      "64/64 [==============================] - ETA: 0s - loss: 0.4274 - accuracy: 0.81 - ETA: 0s - loss: 0.4145 - accuracy: 0.80 - ETA: 0s - loss: 0.3965 - accuracy: 0.81 - ETA: 0s - loss: 0.4076 - accuracy: 0.81 - 0s 3ms/step - loss: 0.4076 - accuracy: 0.8118\n",
      "Epoch 10/15\n",
      "64/64 [==============================] - ETA: 0s - loss: 0.4071 - accuracy: 0.83 - ETA: 0s - loss: 0.4107 - accuracy: 0.81 - ETA: 0s - loss: 0.4075 - accuracy: 0.81 - ETA: 0s - loss: 0.4039 - accuracy: 0.81 - 0s 2ms/step - loss: 0.4039 - accuracy: 0.8126\n",
      "Epoch 11/15\n",
      "64/64 [==============================] - ETA: 0s - loss: 0.4479 - accuracy: 0.81 - ETA: 0s - loss: 0.3905 - accuracy: 0.82 - ETA: 0s - loss: 0.3959 - accuracy: 0.81 - 0s 2ms/step - loss: 0.4020 - accuracy: 0.8121\n",
      "Epoch 12/15\n",
      "64/64 [==============================] - ETA: 0s - loss: 0.4095 - accuracy: 0.79 - ETA: 0s - loss: 0.4169 - accuracy: 0.79 - ETA: 0s - loss: 0.4093 - accuracy: 0.80 - ETA: 0s - loss: 0.4014 - accuracy: 0.81 - 0s 3ms/step - loss: 0.3988 - accuracy: 0.8134\n",
      "Epoch 13/15\n",
      "64/64 [==============================] - ETA: 0s - loss: 0.3836 - accuracy: 0.82 - ETA: 0s - loss: 0.3790 - accuracy: 0.82 - ETA: 0s - loss: 0.3885 - accuracy: 0.81 - ETA: 0s - loss: 0.3940 - accuracy: 0.81 - 0s 3ms/step - loss: 0.3957 - accuracy: 0.8140\n",
      "Epoch 14/15\n",
      "64/64 [==============================] - ETA: 0s - loss: 0.3983 - accuracy: 0.81 - ETA: 0s - loss: 0.3726 - accuracy: 0.82 - ETA: 0s - loss: 0.3943 - accuracy: 0.81 - ETA: 0s - loss: 0.3933 - accuracy: 0.81 - 0s 3ms/step - loss: 0.3927 - accuracy: 0.8156\n",
      "Epoch 15/15\n",
      "64/64 [==============================] - ETA: 0s - loss: 0.3803 - accuracy: 0.80 - ETA: 0s - loss: 0.3606 - accuracy: 0.82 - ETA: 0s - loss: 0.3808 - accuracy: 0.82 - ETA: 0s - loss: 0.3890 - accuracy: 0.81 - 0s 3ms/step - loss: 0.3899 - accuracy: 0.8173\n",
      "16/16 [==============================] - ETA: 0s - loss: 0.4100 - accuracy: 0.83 - 0s 2ms/step - loss: 0.3957 - accuracy: 0.8228\n",
      "Epoch 1/15\n",
      "64/64 [==============================] - ETA: 0s - loss: 1.0065 - accuracy: 0.82 - ETA: 0s - loss: 0.8322 - accuracy: 0.79 - ETA: 0s - loss: 0.7846 - accuracy: 0.78 - ETA: 0s - loss: 0.7003 - accuracy: 0.79 - 0s 3ms/step - loss: 0.6739 - accuracy: 0.7963\n",
      "Epoch 2/15\n",
      "64/64 [==============================] - ETA: 0s - loss: 0.5438 - accuracy: 0.80 - ETA: 0s - loss: 0.5216 - accuracy: 0.79 - ETA: 0s - loss: 0.5070 - accuracy: 0.79 - ETA: 0s - loss: 0.4936 - accuracy: 0.79 - 0s 3ms/step - loss: 0.4924 - accuracy: 0.7963\n",
      "Epoch 3/15\n",
      "64/64 [==============================] - ETA: 0s - loss: 0.5898 - accuracy: 0.71 - ETA: 0s - loss: 0.4409 - accuracy: 0.80 - ETA: 0s - loss: 0.4375 - accuracy: 0.80 - ETA: 0s - loss: 0.4426 - accuracy: 0.79 - 0s 3ms/step - loss: 0.4399 - accuracy: 0.7987\n",
      "Epoch 4/15\n",
      "64/64 [==============================] - ETA: 0s - loss: 0.4604 - accuracy: 0.74 - ETA: 0s - loss: 0.4112 - accuracy: 0.80 - ETA: 0s - loss: 0.4197 - accuracy: 0.80 - ETA: 0s - loss: 0.4209 - accuracy: 0.80 - 0s 3ms/step - loss: 0.4231 - accuracy: 0.8079\n",
      "Epoch 5/15\n",
      "64/64 [==============================] - ETA: 0s - loss: 0.4029 - accuracy: 0.85 - ETA: 0s - loss: 0.4179 - accuracy: 0.80 - ETA: 0s - loss: 0.4058 - accuracy: 0.81 - ETA: 0s - loss: 0.4102 - accuracy: 0.81 - 0s 3ms/step - loss: 0.4165 - accuracy: 0.8126\n",
      "Epoch 6/15\n"
     ]
    },
    {
     "name": "stdout",
     "output_type": "stream",
     "text": [
      "64/64 [==============================] - ETA: 0s - loss: 0.3183 - accuracy: 0.89 - ETA: 0s - loss: 0.4235 - accuracy: 0.80 - ETA: 0s - loss: 0.4118 - accuracy: 0.81 - ETA: 0s - loss: 0.4164 - accuracy: 0.80 - 0s 3ms/step - loss: 0.4148 - accuracy: 0.8085\n",
      "Epoch 7/15\n",
      "64/64 [==============================] - ETA: 0s - loss: 0.4292 - accuracy: 0.81 - ETA: 0s - loss: 0.4098 - accuracy: 0.81 - ETA: 0s - loss: 0.4125 - accuracy: 0.81 - ETA: 0s - loss: 0.4089 - accuracy: 0.81 - 0s 3ms/step - loss: 0.4108 - accuracy: 0.8129\n",
      "Epoch 8/15\n",
      "64/64 [==============================] - ETA: 0s - loss: 0.4644 - accuracy: 0.78 - ETA: 0s - loss: 0.3999 - accuracy: 0.82 - ETA: 0s - loss: 0.4006 - accuracy: 0.81 - ETA: 0s - loss: 0.4038 - accuracy: 0.81 - 0s 3ms/step - loss: 0.4060 - accuracy: 0.8159\n",
      "Epoch 9/15\n",
      "64/64 [==============================] - ETA: 0s - loss: 0.4533 - accuracy: 0.79 - ETA: 0s - loss: 0.3956 - accuracy: 0.82 - ETA: 0s - loss: 0.4015 - accuracy: 0.81 - ETA: 0s - loss: 0.4013 - accuracy: 0.81 - 0s 3ms/step - loss: 0.4016 - accuracy: 0.8193\n",
      "Epoch 10/15\n",
      "64/64 [==============================] - ETA: 0s - loss: 0.3497 - accuracy: 0.87 - ETA: 0s - loss: 0.3899 - accuracy: 0.82 - ETA: 0s - loss: 0.3906 - accuracy: 0.82 - ETA: 0s - loss: 0.3962 - accuracy: 0.82 - 0s 3ms/step - loss: 0.3981 - accuracy: 0.8198\n",
      "Epoch 11/15\n",
      "64/64 [==============================] - ETA: 0s - loss: 0.4099 - accuracy: 0.84 - ETA: 0s - loss: 0.3726 - accuracy: 0.83 - ETA: 0s - loss: 0.3778 - accuracy: 0.83 - ETA: 0s - loss: 0.3922 - accuracy: 0.82 - 0s 3ms/step - loss: 0.3943 - accuracy: 0.8226\n",
      "Epoch 12/15\n",
      "64/64 [==============================] - ETA: 0s - loss: 0.4482 - accuracy: 0.80 - ETA: 0s - loss: 0.3920 - accuracy: 0.82 - ETA: 0s - loss: 0.3861 - accuracy: 0.82 - ETA: 0s - loss: 0.3889 - accuracy: 0.82 - 0s 3ms/step - loss: 0.3906 - accuracy: 0.8232\n",
      "Epoch 13/15\n",
      "64/64 [==============================] - ETA: 0s - loss: 0.3582 - accuracy: 0.84 - ETA: 0s - loss: 0.4018 - accuracy: 0.81 - ETA: 0s - loss: 0.3919 - accuracy: 0.82 - ETA: 0s - loss: 0.3866 - accuracy: 0.82 - 0s 3ms/step - loss: 0.3877 - accuracy: 0.8240\n",
      "Epoch 14/15\n",
      "64/64 [==============================] - ETA: 0s - loss: 0.4215 - accuracy: 0.79 - ETA: 0s - loss: 0.3753 - accuracy: 0.83 - ETA: 0s - loss: 0.3757 - accuracy: 0.83 - ETA: 0s - loss: 0.3841 - accuracy: 0.82 - 0s 3ms/step - loss: 0.3852 - accuracy: 0.8256\n",
      "Epoch 15/15\n",
      "64/64 [==============================] - ETA: 0s - loss: 0.3380 - accuracy: 0.87 - ETA: 0s - loss: 0.3774 - accuracy: 0.82 - ETA: 0s - loss: 0.3823 - accuracy: 0.82 - ETA: 0s - loss: 0.3826 - accuracy: 0.82 - ETA: 0s - loss: 0.3823 - accuracy: 0.82 - ETA: 0s - loss: 0.3795 - accuracy: 0.83 - ETA: 0s - loss: 0.3818 - accuracy: 0.83 - 0s 6ms/step - loss: 0.3832 - accuracy: 0.8268\n",
      "16/16 [==============================] - ETA: 0s - loss: 0.4227 - accuracy: 0.78 - 0s 2ms/step - loss: 0.3986 - accuracy: 0.8140\n",
      "Epoch 1/15\n",
      "64/64 [==============================] - ETA: 0s - loss: 2.3833 - accuracy: 0.79 - ETA: 0s - loss: 0.9380 - accuracy: 0.79 - ETA: 0s - loss: 0.7622 - accuracy: 0.79 - 0s 2ms/step - loss: 0.7116 - accuracy: 0.7941\n",
      "Epoch 2/15\n",
      "64/64 [==============================] - ETA: 0s - loss: 0.4106 - accuracy: 0.86 - ETA: 0s - loss: 0.4978 - accuracy: 0.80 - ETA: 0s - loss: 0.5049 - accuracy: 0.79 - 0s 2ms/step - loss: 0.4979 - accuracy: 0.7941\n",
      "Epoch 3/15\n",
      "64/64 [==============================] - ETA: 0s - loss: 0.4406 - accuracy: 0.81 - ETA: 0s - loss: 0.4487 - accuracy: 0.80 - ETA: 0s - loss: 0.4529 - accuracy: 0.79 - ETA: 0s - loss: 0.4508 - accuracy: 0.79 - 0s 3ms/step - loss: 0.4485 - accuracy: 0.7951\n",
      "Epoch 4/15\n",
      "64/64 [==============================] - ETA: 0s - loss: 0.3403 - accuracy: 0.87 - ETA: 0s - loss: 0.4278 - accuracy: 0.80 - ETA: 0s - loss: 0.4253 - accuracy: 0.80 - ETA: 0s - loss: 0.4268 - accuracy: 0.80 - 0s 3ms/step - loss: 0.4276 - accuracy: 0.8024\n",
      "Epoch 5/15\n",
      "64/64 [==============================] - ETA: 0s - loss: 0.5049 - accuracy: 0.72 - ETA: 0s - loss: 0.4219 - accuracy: 0.80 - ETA: 0s - loss: 0.4216 - accuracy: 0.80 - ETA: 0s - loss: 0.4163 - accuracy: 0.81 - 0s 3ms/step - loss: 0.4179 - accuracy: 0.8099\n",
      "Epoch 6/15\n",
      "64/64 [==============================] - ETA: 0s - loss: 0.3772 - accuracy: 0.84 - ETA: 0s - loss: 0.4120 - accuracy: 0.80 - ETA: 0s - loss: 0.4139 - accuracy: 0.80 - ETA: 0s - loss: 0.4130 - accuracy: 0.81 - 0s 3ms/step - loss: 0.4111 - accuracy: 0.8115\n",
      "Epoch 7/15\n",
      "64/64 [==============================] - ETA: 0s - loss: 0.3721 - accuracy: 0.83 - ETA: 0s - loss: 0.3947 - accuracy: 0.82 - ETA: 0s - loss: 0.4022 - accuracy: 0.81 - ETA: 0s - loss: 0.4062 - accuracy: 0.81 - ETA: 0s - loss: 0.4118 - accuracy: 0.81 - ETA: 0s - loss: 0.4112 - accuracy: 0.81 - ETA: 0s - loss: 0.4050 - accuracy: 0.81 - ETA: 0s - loss: 0.4040 - accuracy: 0.81 - ETA: 0s - loss: 0.4049 - accuracy: 0.81 - 0s 7ms/step - loss: 0.4048 - accuracy: 0.8148\n",
      "Epoch 8/15\n",
      "64/64 [==============================] - ETA: 0s - loss: 0.4100 - accuracy: 0.81 - ETA: 0s - loss: 0.4069 - accuracy: 0.81 - ETA: 0s - loss: 0.4081 - accuracy: 0.81 - ETA: 0s - loss: 0.3985 - accuracy: 0.81 - 0s 3ms/step - loss: 0.3999 - accuracy: 0.8162\n",
      "Epoch 9/15\n",
      "64/64 [==============================] - ETA: 0s - loss: 0.3663 - accuracy: 0.86 - ETA: 0s - loss: 0.3982 - accuracy: 0.82 - ETA: 0s - loss: 0.3984 - accuracy: 0.81 - ETA: 0s - loss: 0.3979 - accuracy: 0.81 - 0s 3ms/step - loss: 0.3938 - accuracy: 0.8201\n",
      "Epoch 10/15\n",
      "64/64 [==============================] - ETA: 0s - loss: 0.4170 - accuracy: 0.81 - ETA: 0s - loss: 0.3914 - accuracy: 0.81 - ETA: 0s - loss: 0.3887 - accuracy: 0.81 - ETA: 0s - loss: 0.3878 - accuracy: 0.82 - ETA: 0s - loss: 0.3879 - accuracy: 0.82 - 0s 4ms/step - loss: 0.3879 - accuracy: 0.8209\n",
      "Epoch 11/15\n",
      "64/64 [==============================] - ETA: 0s - loss: 0.3130 - accuracy: 0.89 - ETA: 0s - loss: 0.3649 - accuracy: 0.84 - ETA: 0s - loss: 0.3687 - accuracy: 0.83 - ETA: 0s - loss: 0.3794 - accuracy: 0.82 - ETA: 0s - loss: 0.3784 - accuracy: 0.82 - ETA: 0s - loss: 0.3853 - accuracy: 0.82 - ETA: 0s - loss: 0.3831 - accuracy: 0.82 - 0s 6ms/step - loss: 0.3829 - accuracy: 0.8250\n",
      "Epoch 12/15\n",
      "64/64 [==============================] - ETA: 0s - loss: 0.3290 - accuracy: 0.87 - ETA: 0s - loss: 0.3829 - accuracy: 0.83 - ETA: 0s - loss: 0.3995 - accuracy: 0.81 - ETA: 0s - loss: 0.3886 - accuracy: 0.82 - ETA: 0s - loss: 0.3839 - accuracy: 0.83 - ETA: 0s - loss: 0.3788 - accuracy: 0.83 - ETA: 0s - loss: 0.3784 - accuracy: 0.83 - 0s 6ms/step - loss: 0.3786 - accuracy: 0.8315\n",
      "Epoch 13/15\n",
      "64/64 [==============================] - ETA: 0s - loss: 0.4306 - accuracy: 0.82 - ETA: 0s - loss: 0.4157 - accuracy: 0.81 - ETA: 0s - loss: 0.3958 - accuracy: 0.82 - ETA: 0s - loss: 0.3839 - accuracy: 0.83 - ETA: 0s - loss: 0.3793 - accuracy: 0.83 - ETA: 0s - loss: 0.3784 - accuracy: 0.83 - ETA: 0s - loss: 0.3770 - accuracy: 0.83 - 0s 5ms/step - loss: 0.3759 - accuracy: 0.8339\n",
      "Epoch 14/15\n",
      "64/64 [==============================] - ETA: 0s - loss: 0.3497 - accuracy: 0.81 - ETA: 0s - loss: 0.3882 - accuracy: 0.83 - ETA: 0s - loss: 0.3826 - accuracy: 0.83 - ETA: 0s - loss: 0.3839 - accuracy: 0.83 - ETA: 0s - loss: 0.3745 - accuracy: 0.83 - ETA: 0s - loss: 0.3742 - accuracy: 0.83 - ETA: 0s - loss: 0.3701 - accuracy: 0.83 - ETA: 0s - loss: 0.3704 - accuracy: 0.83 - 0s 6ms/step - loss: 0.3726 - accuracy: 0.8376\n",
      "Epoch 15/15\n",
      "64/64 [==============================] - ETA: 0s - loss: 0.2962 - accuracy: 0.83 - ETA: 0s - loss: 0.3624 - accuracy: 0.83 - ETA: 0s - loss: 0.3698 - accuracy: 0.83 - ETA: 0s - loss: 0.3710 - accuracy: 0.83 - ETA: 0s - loss: 0.3655 - accuracy: 0.83 - ETA: 0s - loss: 0.3646 - accuracy: 0.83 - ETA: 0s - loss: 0.3714 - accuracy: 0.83 - ETA: 0s - loss: 0.3713 - accuracy: 0.83 - 0s 6ms/step - loss: 0.3700 - accuracy: 0.8383\n",
      " 1/16 [>.............................] - ETA: 0s - loss: 0.4727 - accuracy: 0.8700WARNING:tensorflow:Callbacks method `on_test_batch_end` is slow compared to the batch time (batch time: 0.0000s vs `on_test_batch_end` time: 0.0097s). Check your callbacks.\n",
      "16/16 [==============================] - 0s 2ms/step - loss: 0.4085 - accuracy: 0.8397\n",
      "Epoch 1/15\n",
      "64/64 [==============================] - ETA: 0s - loss: 2.2089 - accuracy: 0.82 - ETA: 0s - loss: 1.2949 - accuracy: 0.78 - ETA: 0s - loss: 1.0171 - accuracy: 0.78 - ETA: 0s - loss: 0.9098 - accuracy: 0.79 - 0s 3ms/step - loss: 0.9004 - accuracy: 0.7940\n",
      "Epoch 2/15\n",
      "64/64 [==============================] - ETA: 0s - loss: 0.8082 - accuracy: 0.74 - ETA: 0s - loss: 0.6562 - accuracy: 0.79 - ETA: 0s - loss: 0.6344 - accuracy: 0.79 - ETA: 0s - loss: 0.6279 - accuracy: 0.79 - 0s 3ms/step - loss: 0.6243 - accuracy: 0.7940\n",
      "Epoch 3/15\n",
      "64/64 [==============================] - ETA: 0s - loss: 0.4686 - accuracy: 0.84 - ETA: 0s - loss: 0.5667 - accuracy: 0.79 - ETA: 0s - loss: 0.5473 - accuracy: 0.79 - ETA: 0s - loss: 0.5479 - accuracy: 0.79 - 0s 3ms/step - loss: 0.5437 - accuracy: 0.7940\n",
      "Epoch 4/15\n",
      "64/64 [==============================] - ETA: 0s - loss: 0.3696 - accuracy: 0.86 - ETA: 0s - loss: 0.4947 - accuracy: 0.80 - ETA: 0s - loss: 0.4865 - accuracy: 0.79 - ETA: 0s - loss: 0.4777 - accuracy: 0.79 - 0s 3ms/step - loss: 0.4794 - accuracy: 0.7940\n",
      "Epoch 5/15\n",
      "64/64 [==============================] - ETA: 0s - loss: 0.4000 - accuracy: 0.83 - ETA: 0s - loss: 0.4558 - accuracy: 0.79 - ETA: 0s - loss: 0.4534 - accuracy: 0.79 - ETA: 0s - loss: 0.4489 - accuracy: 0.79 - 0s 3ms/step - loss: 0.4477 - accuracy: 0.7954\n",
      "Epoch 6/15\n",
      "64/64 [==============================] - ETA: 0s - loss: 0.4598 - accuracy: 0.79 - ETA: 0s - loss: 0.4274 - accuracy: 0.80 - ETA: 0s - loss: 0.4328 - accuracy: 0.80 - ETA: 0s - loss: 0.4322 - accuracy: 0.80 - 0s 3ms/step - loss: 0.4352 - accuracy: 0.8013\n",
      "Epoch 7/15\n",
      "64/64 [==============================] - ETA: 0s - loss: 0.4599 - accuracy: 0.77 - ETA: 0s - loss: 0.4294 - accuracy: 0.80 - ETA: 0s - loss: 0.4253 - accuracy: 0.80 - ETA: 0s - loss: 0.4283 - accuracy: 0.80 - 0s 3ms/step - loss: 0.4302 - accuracy: 0.8056\n",
      "Epoch 8/15\n",
      "64/64 [==============================] - ETA: 0s - loss: 0.3442 - accuracy: 0.89 - ETA: 0s - loss: 0.4328 - accuracy: 0.80 - ETA: 0s - loss: 0.4345 - accuracy: 0.80 - ETA: 0s - loss: 0.4293 - accuracy: 0.80 - 0s 3ms/step - loss: 0.4278 - accuracy: 0.8067\n",
      "Epoch 9/15\n",
      "64/64 [==============================] - ETA: 0s - loss: 0.3378 - accuracy: 0.87 - ETA: 0s - loss: 0.4186 - accuracy: 0.81 - ETA: 0s - loss: 0.4322 - accuracy: 0.80 - 0s 2ms/step - loss: 0.4266 - accuracy: 0.8065\n",
      "Epoch 10/15\n",
      "64/64 [==============================] - ETA: 0s - loss: 0.4292 - accuracy: 0.78 - ETA: 0s - loss: 0.4214 - accuracy: 0.80 - ETA: 0s - loss: 0.4311 - accuracy: 0.80 - ETA: 0s - loss: 0.4230 - accuracy: 0.80 - 0s 3ms/step - loss: 0.4257 - accuracy: 0.8067\n",
      "Epoch 11/15\n",
      "64/64 [==============================] - ETA: 0s - loss: 0.3953 - accuracy: 0.83 - ETA: 0s - loss: 0.4192 - accuracy: 0.80 - ETA: 0s - loss: 0.4235 - accuracy: 0.80 - ETA: 0s - loss: 0.4257 - accuracy: 0.80 - 0s 3ms/step - loss: 0.4247 - accuracy: 0.8062\n",
      "Epoch 12/15\n",
      "64/64 [==============================] - ETA: 0s - loss: 0.4006 - accuracy: 0.78 - ETA: 0s - loss: 0.4262 - accuracy: 0.80 - ETA: 0s - loss: 0.4208 - accuracy: 0.80 - ETA: 0s - loss: 0.4204 - accuracy: 0.80 - 0s 3ms/step - loss: 0.4237 - accuracy: 0.8062\n",
      "Epoch 13/15\n",
      "64/64 [==============================] - ETA: 0s - loss: 0.4129 - accuracy: 0.81 - ETA: 0s - loss: 0.4078 - accuracy: 0.81 - ETA: 0s - loss: 0.4148 - accuracy: 0.81 - ETA: 0s - loss: 0.4229 - accuracy: 0.80 - 0s 3ms/step - loss: 0.4221 - accuracy: 0.8070\n",
      "Epoch 14/15\n",
      "64/64 [==============================] - ETA: 0s - loss: 0.3928 - accuracy: 0.85 - ETA: 0s - loss: 0.4206 - accuracy: 0.81 - ETA: 0s - loss: 0.4095 - accuracy: 0.81 - ETA: 0s - loss: 0.4167 - accuracy: 0.80 - 0s 3ms/step - loss: 0.4208 - accuracy: 0.8068\n",
      "Epoch 15/15\n",
      "64/64 [==============================] - ETA: 0s - loss: 0.3941 - accuracy: 0.85 - ETA: 0s - loss: 0.3982 - accuracy: 0.82 - ETA: 0s - loss: 0.4179 - accuracy: 0.80 - ETA: 0s - loss: 0.4196 - accuracy: 0.80 - 0s 3ms/step - loss: 0.4198 - accuracy: 0.8067\n",
      "16/16 [==============================] - ETA: 0s - loss: 0.3937 - accuracy: 0.81 - 0s 2ms/step - loss: 0.4029 - accuracy: 0.8258\n",
      "Epoch 1/15\n",
      "80/80 [==============================] - ETA: 0s - loss: 2.8049 - accuracy: 0.75 - ETA: 0s - loss: 0.8890 - accuracy: 0.79 - ETA: 0s - loss: 0.7893 - accuracy: 0.79 - ETA: 0s - loss: 0.7042 - accuracy: 0.79 - 0s 3ms/step - loss: 0.6550 - accuracy: 0.7955\n",
      "Epoch 2/15\n",
      "80/80 [==============================] - ETA: 0s - loss: 0.5081 - accuracy: 0.77 - ETA: 0s - loss: 0.4485 - accuracy: 0.79 - ETA: 0s - loss: 0.4444 - accuracy: 0.80 - ETA: 0s - loss: 0.4486 - accuracy: 0.79 - ETA: 0s - loss: 0.4426 - accuracy: 0.79 - 0s 3ms/step - loss: 0.4424 - accuracy: 0.7995\n",
      "Epoch 3/15\n",
      "80/80 [==============================] - ETA: 0s - loss: 0.3551 - accuracy: 0.86 - ETA: 0s - loss: 0.4297 - accuracy: 0.80 - ETA: 0s - loss: 0.4213 - accuracy: 0.80 - ETA: 0s - loss: 0.4155 - accuracy: 0.81 - ETA: 0s - loss: 0.4163 - accuracy: 0.81 - 0s 3ms/step - loss: 0.4166 - accuracy: 0.8125\n",
      "Epoch 4/15\n",
      "80/80 [==============================] - ETA: 0s - loss: 0.4560 - accuracy: 0.73 - ETA: 0s - loss: 0.4222 - accuracy: 0.80 - ETA: 0s - loss: 0.4201 - accuracy: 0.80 - ETA: 0s - loss: 0.4072 - accuracy: 0.81 - 0s 3ms/step - loss: 0.4078 - accuracy: 0.8163\n",
      "Epoch 5/15\n",
      "80/80 [==============================] - ETA: 0s - loss: 0.3318 - accuracy: 0.85 - ETA: 0s - loss: 0.3915 - accuracy: 0.82 - ETA: 0s - loss: 0.4099 - accuracy: 0.81 - ETA: 0s - loss: 0.4034 - accuracy: 0.82 - ETA: 0s - loss: 0.4049 - accuracy: 0.82 - 0s 3ms/step - loss: 0.4031 - accuracy: 0.8214\n",
      "Epoch 6/15\n",
      "80/80 [==============================] - ETA: 0s - loss: 0.4430 - accuracy: 0.78 - ETA: 0s - loss: 0.3881 - accuracy: 0.82 - ETA: 0s - loss: 0.3940 - accuracy: 0.82 - ETA: 0s - loss: 0.3920 - accuracy: 0.82 - 0s 2ms/step - loss: 0.3931 - accuracy: 0.8279\n",
      "Epoch 7/15\n",
      "80/80 [==============================] - ETA: 0s - loss: 0.4728 - accuracy: 0.78 - ETA: 0s - loss: 0.3739 - accuracy: 0.83 - ETA: 0s - loss: 0.3865 - accuracy: 0.83 - ETA: 0s - loss: 0.3851 - accuracy: 0.83 - ETA: 0s - loss: 0.3894 - accuracy: 0.83 - 0s 3ms/step - loss: 0.3893 - accuracy: 0.8340\n",
      "Epoch 8/15\n",
      "80/80 [==============================] - ETA: 0s - loss: 0.3530 - accuracy: 0.83 - ETA: 0s - loss: 0.3958 - accuracy: 0.83 - ETA: 0s - loss: 0.3884 - accuracy: 0.83 - ETA: 0s - loss: 0.3856 - accuracy: 0.83 - 0s 3ms/step - loss: 0.3839 - accuracy: 0.8377\n",
      "Epoch 9/15\n",
      "80/80 [==============================] - ETA: 0s - loss: 0.3740 - accuracy: 0.81 - ETA: 0s - loss: 0.3726 - accuracy: 0.84 - ETA: 0s - loss: 0.3773 - accuracy: 0.84 - ETA: 0s - loss: 0.3737 - accuracy: 0.84 - ETA: 0s - loss: 0.3797 - accuracy: 0.84 - 0s 3ms/step - loss: 0.3822 - accuracy: 0.8402\n",
      "Epoch 10/15\n",
      "80/80 [==============================] - ETA: 0s - loss: 0.3809 - accuracy: 0.83 - ETA: 0s - loss: 0.3799 - accuracy: 0.84 - ETA: 0s - loss: 0.3979 - accuracy: 0.83 - ETA: 0s - loss: 0.3899 - accuracy: 0.83 - 0s 2ms/step - loss: 0.3895 - accuracy: 0.8411\n",
      "Epoch 11/15\n",
      "80/80 [==============================] - ETA: 0s - loss: 0.4212 - accuracy: 0.91 - ETA: 0s - loss: 0.3655 - accuracy: 0.85 - ETA: 0s - loss: 0.3854 - accuracy: 0.85 - ETA: 0s - loss: 0.3928 - accuracy: 0.84 - 0s 2ms/step - loss: 0.3925 - accuracy: 0.8468\n",
      "Epoch 12/15\n",
      "80/80 [==============================] - ETA: 0s - loss: 0.3772 - accuracy: 0.83 - ETA: 0s - loss: 0.4113 - accuracy: 0.84 - ETA: 0s - loss: 0.3911 - accuracy: 0.85 - ETA: 0s - loss: 0.3914 - accuracy: 0.85 - ETA: 0s - loss: 0.3907 - accuracy: 0.84 - 0s 3ms/step - loss: 0.3884 - accuracy: 0.8494\n",
      "Epoch 13/15\n",
      "80/80 [==============================] - ETA: 0s - loss: 0.5145 - accuracy: 0.83 - ETA: 0s - loss: 0.3968 - accuracy: 0.84 - ETA: 0s - loss: 0.3952 - accuracy: 0.84 - ETA: 0s - loss: 0.3902 - accuracy: 0.84 - ETA: 0s - loss: 0.3824 - accuracy: 0.84 - ETA: 0s - loss: 0.3840 - accuracy: 0.84 - ETA: 0s - loss: 0.3814 - accuracy: 0.84 - 0s 4ms/step - loss: 0.3859 - accuracy: 0.8493\n",
      "Epoch 14/15\n"
     ]
    },
    {
     "name": "stdout",
     "output_type": "stream",
     "text": [
      "80/80 [==============================] - ETA: 0s - loss: 0.4196 - accuracy: 0.89 - ETA: 0s - loss: 0.4033 - accuracy: 0.84 - ETA: 0s - loss: 0.3799 - accuracy: 0.84 - ETA: 0s - loss: 0.3984 - accuracy: 0.84 - ETA: 0s - loss: 0.3879 - accuracy: 0.84 - ETA: 0s - loss: 0.3877 - accuracy: 0.84 - ETA: 0s - loss: 0.3886 - accuracy: 0.84 - 0s 4ms/step - loss: 0.3859 - accuracy: 0.8497\n",
      "Epoch 15/15\n",
      "80/80 [==============================] - ETA: 0s - loss: 0.4598 - accuracy: 0.89 - ETA: 0s - loss: 0.3581 - accuracy: 0.86 - ETA: 0s - loss: 0.3807 - accuracy: 0.85 - ETA: 0s - loss: 0.3764 - accuracy: 0.85 - ETA: 0s - loss: 0.3852 - accuracy: 0.85 - ETA: 0s - loss: 0.3889 - accuracy: 0.85 - ETA: 0s - loss: 0.3885 - accuracy: 0.85 - 0s 5ms/step - loss: 0.3881 - accuracy: 0.8523\n"
     ]
    }
   ],
   "source": [
    "model_new = KerasClassifier(build_fn = create_model1, epochs = 15, batch_size = 100)\n",
    "\n",
    "optimizers = ['rmsprop', 'adam']\n",
    "init = ['glorot_uniform', 'uniform']\n",
    "\n",
    "param_grid = dict(optimizer = optimizers, init = init)\n",
    "grid = GridSearchCV(estimator = model_new, param_grid = param_grid)\n",
    "\n",
    "result = grid.fit(X_train, y_train)"
   ]
  },
  {
   "cell_type": "code",
   "execution_count": 41,
   "metadata": {
    "ExecuteTime": {
     "end_time": "2020-10-30T18:52:39.205257Z",
     "start_time": "2020-10-30T18:52:39.173361Z"
    }
   },
   "outputs": [
    {
     "name": "stdout",
     "output_type": "stream",
     "text": [
      "Best: 0.846069 using {'init': 'uniform', 'optimizer': 'rmsprop'}\n",
      "0.812876 (0.014415) with: {'init': 'glorot_uniform', 'optimizer': 'rmsprop'}\n",
      "0.772545 (0.014726) with: {'init': 'glorot_uniform', 'optimizer': 'adam'}\n",
      "0.846069 (0.011470) with: {'init': 'uniform', 'optimizer': 'rmsprop'}\n",
      "0.822520 (0.010279) with: {'init': 'uniform', 'optimizer': 'adam'}\n"
     ]
    }
   ],
   "source": [
    "print(\"Best: %f using %s\" % (result.best_score_, result.best_params_))\n",
    "means = result.cv_results_['mean_test_score']\n",
    "stds = result.cv_results_['std_test_score']\n",
    "params = result.cv_results_['params']\n",
    "for mean, stdev, param in zip(means, stds, params):\n",
    "    print(\"%f (%f) with: %r\" % (mean, stdev, param))"
   ]
  },
  {
   "cell_type": "code",
   "execution_count": null,
   "metadata": {},
   "outputs": [],
   "source": []
  }
 ],
 "metadata": {
  "kernelspec": {
   "display_name": "Python 3",
   "language": "python",
   "name": "python3"
  },
  "language_info": {
   "codemirror_mode": {
    "name": "ipython",
    "version": 3
   },
   "file_extension": ".py",
   "mimetype": "text/x-python",
   "name": "python",
   "nbconvert_exporter": "python",
   "pygments_lexer": "ipython3",
   "version": "3.7.4"
  },
  "latex_envs": {
   "LaTeX_envs_menu_present": true,
   "autoclose": false,
   "autocomplete": true,
   "bibliofile": "biblio.bib",
   "cite_by": "apalike",
   "current_citInitial": 1,
   "eqLabelWithNumbers": true,
   "eqNumInitial": 1,
   "hotkeys": {
    "equation": "Ctrl-E",
    "itemize": "Ctrl-I"
   },
   "labels_anchors": false,
   "latex_user_defs": false,
   "report_style_numbering": false,
   "user_envs_cfg": false
  },
  "nbTranslate": {
   "displayLangs": [
    "*"
   ],
   "hotkey": "alt-t",
   "langInMainMenu": true,
   "sourceLang": "en",
   "targetLang": "fr",
   "useGoogleTranslate": true
  },
  "toc": {
   "base_numbering": 1,
   "nav_menu": {},
   "number_sections": true,
   "sideBar": true,
   "skip_h1_title": false,
   "title_cell": "Table of Contents",
   "title_sidebar": "Contents",
   "toc_cell": false,
   "toc_position": {},
   "toc_section_display": true,
   "toc_window_display": false
  }
 },
 "nbformat": 4,
 "nbformat_minor": 2
}
